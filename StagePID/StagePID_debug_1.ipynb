{
 "cells": [
  {
   "cell_type": "code",
   "execution_count": null,
   "metadata": {
    "collapsed": true
   },
   "outputs": [],
   "source": [
    "%matplotlib notebook"
   ]
  },
  {
   "cell_type": "code",
   "execution_count": 1,
   "metadata": {},
   "outputs": [
    {
     "name": "stdout",
     "output_type": "stream",
     "text": [
      "Input loop startedInput read thread is up!\n",
      "\n",
      " Output loop started\n"
     ]
    },
    {
     "data": {
      "text/plain": [
       "Serial<id=0x71a9ea90, open=True>(port='/dev/ADR_sim900', baudrate=9600, bytesize=8, parity='N', stopbits=1, timeout=0, xonxoff=False, rtscts=False, dsrdtr=False)"
      ]
     },
     "execution_count": 1,
     "metadata": {},
     "output_type": "execute_result"
    }
   ],
   "source": [
    "import sys, time\n",
    "sys.path.append('/home/pi/Desktop/ADR_NX/Utils')\n",
    "sys.path.append('/home/pi/Desktop/ADR_NX/Mainframe')\n",
    "import adr_utils, SIM900_controller, SIM921, SIM922, SIM960, adr_PID\n",
    "import numpy as np\n",
    "import matplotlib.pyplot as plt\n",
    "from timeit import default_timer as timer\n",
    "mfc = SIM900_controller.SIM900()\n",
    "mfc.init_and_open_connection()\n",
    "mfc.start_input_loop()\n",
    "mfc.start_output_loop()\n",
    "s921 = SIM921.SIM921(mfc)\n",
    "s922 = SIM922.SIM922(mfc)\n",
    "s960 = SIM960.SIM960(mfc)\n",
    "mfc.get_serial_object()"
   ]
  },
  {
   "cell_type": "code",
   "execution_count": null,
   "metadata": {
    "collapsed": true
   },
   "outputs": [],
   "source": [
    "mfc.set_RPER([s921.MODNUM, s922.MODNUM, s960.MODNUM])"
   ]
  },
  {
   "cell_type": "code",
   "execution_count": null,
   "metadata": {
    "collapsed": true
   },
   "outputs": [],
   "source": [
    "mfc.reset_serial_module(1)"
   ]
  },
  {
   "cell_type": "code",
   "execution_count": null,
   "metadata": {
    "collapsed": true
   },
   "outputs": [],
   "source": [
    "print s921.get_single_value()\n",
    "print s960.is_inmanualmode()"
   ]
  },
  {
   "cell_type": "code",
   "execution_count": null,
   "metadata": {
    "collapsed": true
   },
   "outputs": [],
   "source": [
    "print s921.get_single_value()"
   ]
  },
  {
   "cell_type": "code",
   "execution_count": null,
   "metadata": {
    "collapsed": true
   },
   "outputs": [],
   "source": [
    "s921.set_data_period(2000)"
   ]
  },
  {
   "cell_type": "code",
   "execution_count": 3,
   "metadata": {},
   "outputs": [
    {
     "name": "stdout",
     "output_type": "stream",
     "text": [
      "OQADD (t:0): |SNDT 1,\"TVAL? 0\\n\"\\n|\n",
      "NEW DATA\n",
      "OQSEND (t:0): |SNDT 1,\"TVAL? 0\\n\"\\n|\n",
      "Read line: 'MSG 1,#215+2.955420E+00\\r\\n'\n",
      "GOT MSG -> S1:+2.955420E+00\n",
      "Got temperature data: +2.955420E+00|21:35:27.270150\n",
      "Read line: 'MSG 1,#215+2.963549E+00\\r\\n'\n",
      "GOT MSG -> S1:+2.963549E+00\n",
      "Got temperature data: +2.963549E+00|21:35:29.261556\n",
      "Read line: 'MSG 1,#215+2.959560E+00\\r\\n'\n",
      "GOT MSG -> S1:+2.959560E+00\n",
      "Got temperature data: +2.959560E+00|21:35:31.257737\n",
      "OQADD (t:0): |SNDT 1,\"SOUT \\n\"\\n|\n",
      "OQSEND (t:0): |SNDT 1,\"SOUT \\n\"\\n|\n"
     ]
    }
   ],
   "source": [
    "s921.start_data_stream()\n",
    "s921.newdataevent.wait(20)\n",
    "print \"NEW DATA\"\n",
    "time.sleep(5)\n",
    "s921.stop_data_stream()"
   ]
  },
  {
   "cell_type": "code",
   "execution_count": null,
   "metadata": {
    "collapsed": true
   },
   "outputs": [],
   "source": [
    "list(s921.templist)"
   ]
  },
  {
   "cell_type": "code",
   "execution_count": null,
   "metadata": {
    "collapsed": true
   },
   "outputs": [],
   "source": [
    "s921.stop_data_stream()"
   ]
  },
  {
   "cell_type": "code",
   "execution_count": null,
   "metadata": {
    "collapsed": true,
    "scrolled": true
   },
   "outputs": [],
   "source": [
    "plt.figure(1)\n",
    "plt.plot(list(s921.templist),list(s921.templist))"
   ]
  },
  {
   "cell_type": "code",
   "execution_count": null,
   "metadata": {
    "collapsed": true
   },
   "outputs": [],
   "source": [
    "mfc.get_IDN()"
   ]
  },
  {
   "cell_type": "code",
   "execution_count": null,
   "metadata": {
    "collapsed": true
   },
   "outputs": [],
   "source": [
    "mfc.get_serial_object().write(\"*IDN?\\n\")"
   ]
  },
  {
   "cell_type": "code",
   "execution_count": null,
   "metadata": {
    "collapsed": true
   },
   "outputs": [],
   "source": [
    "mfc.get_serial_object().read(1024)"
   ]
  },
  {
   "cell_type": "code",
   "execution_count": null,
   "metadata": {
    "collapsed": true
   },
   "outputs": [],
   "source": [
    "mfc.get_serial_object().close()"
   ]
  },
  {
   "cell_type": "code",
   "execution_count": null,
   "metadata": {
    "collapsed": true
   },
   "outputs": [],
   "source": [
    "mfc.get_serial_object().write(\"SNDT 1,\\\"SOUT\\n\\\"\\n\")"
   ]
  },
  {
   "cell_type": "code",
   "execution_count": null,
   "metadata": {
    "collapsed": true
   },
   "outputs": [],
   "source": [
    "print s921.get_last_time()\n",
    "print s921.get_last_temperature()"
   ]
  },
  {
   "cell_type": "code",
   "execution_count": null,
   "metadata": {
    "collapsed": true
   },
   "outputs": [],
   "source": [
    "mfc.stop_input_loop()\n",
    "mfc.stop_output_loop()"
   ]
  },
  {
   "cell_type": "code",
   "execution_count": null,
   "metadata": {
    "collapsed": true
   },
   "outputs": [],
   "source": [
    "target = 200"
   ]
  },
  {
   "cell_type": "code",
   "execution_count": null,
   "metadata": {
    "collapsed": true
   },
   "outputs": [],
   "source": [
    "P = 1.8\n",
    "I = 0.0\n",
    "D = 0.0\n",
    "\n",
    "pid = ADR_PID(P,I,D,1)\n",
    "pid.SetPoint=0.0\n",
    "pid.setSlewLimit(10.0)\n",
    "\n",
    "END = 80\n",
    "feedback = 0\n",
    "debug = 1\n",
    "\n",
    "feedback_list = []\n",
    "time_list = []\n",
    "setpoint_list = []"
   ]
  },
  {
   "cell_type": "code",
   "execution_count": null,
   "metadata": {
    "collapsed": true
   },
   "outputs": [],
   "source": [
    "for i in range(1, END):\n",
    "    if i>9:\n",
    "        pid.SetPoint = 2\n",
    "\n",
    "    pid.update(feedback)\n",
    "    output = pid.output\n",
    "    if pid.SetPoint > 0:\n",
    "        feedback += (output - (1/i))\n",
    "    time.sleep(0.02)\n",
    "\n",
    "    feedback_list.append(feedback)\n",
    "    setpoint_list.append(pid.SetPoint)\n",
    "    time_list.append(i)\n",
    "\n",
    "#time_sm = np.array(time_list)\n",
    "#time_smooth = np.linspace(time_sm.min(), time_sm.max(), 300)\n",
    "#feedback_smooth = spline(time_list, feedback_list, time_smooth)"
   ]
  },
  {
   "cell_type": "code",
   "execution_count": null,
   "metadata": {
    "collapsed": true
   },
   "outputs": [],
   "source": [
    "plt.figure(1)\n",
    "plt.plot(time_list, feedback_list)\n",
    "plt.plot(time_list, setpoint_list)\n",
    "plt.xlim((0, END))\n",
    "#plt.ylim((min(feedback_list)-0.5, max(feedback_list)+0.5))\n",
    "#plt.ylim((0,3))\n",
    "plt.xlabel('time (s)')\n",
    "plt.ylabel('PID (PV)')\n",
    "plt.title('TEST PID')\n",
    "\n",
    "#plt.ylim((1-0.5, 1+0.5))\n",
    "plt.ylim((0,3))\n",
    "\n",
    "plt.grid(True)\n",
    "plt.show()"
   ]
  },
  {
   "cell_type": "code",
   "execution_count": null,
   "metadata": {
    "collapsed": true
   },
   "outputs": [],
   "source": [
    "plt.figure(2)\n",
    "plt.plot(time_list, [(feedback_list[i] - setpoint_list[i]) for  i in range(0,len(feedback_list))])\n",
    "plt.xlim((0, END))\n",
    "#plt.ylim((min(feedback_list)-0.5, max(feedback_list)+0.5))\n",
    "#plt.ylim((0,3))\n",
    "plt.xlabel('time (s)')\n",
    "plt.ylabel('PID (PV)')\n",
    "plt.title('TEST PID')\n",
    "\n",
    "#plt.ylim((1-0.5, 1+0.5))\n",
    "plt.ylim((0,3))\n",
    "\n",
    "plt.grid(True)\n",
    "plt.show()"
   ]
  }
 ],
 "metadata": {
  "kernelspec": {
   "display_name": "Python 2",
   "language": "python",
   "name": "python2"
  },
  "language_info": {
   "codemirror_mode": {
    "name": "ipython",
    "version": 2
   },
   "file_extension": ".py",
   "mimetype": "text/x-python",
   "name": "python",
   "nbconvert_exporter": "python",
   "pygments_lexer": "ipython2",
   "version": "2.7.9"
  }
 },
 "nbformat": 4,
 "nbformat_minor": 2
}
