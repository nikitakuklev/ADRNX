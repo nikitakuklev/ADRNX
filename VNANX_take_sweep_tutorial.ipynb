{
 "cells": [
  {
   "cell_type": "markdown",
   "metadata": {},
   "source": [
    "# HP 8722D pyVNA tutorial"
   ]
  },
  {
   "cell_type": "code",
   "execution_count": 1,
   "metadata": {
    "collapsed": true
   },
   "outputs": [],
   "source": [
    "# Import the things we need - pyVNA is the package of interest.\n",
    "# You might need to add its location to path manually, but not in this case.\n",
    "import sys,time,struct,math,numpy as np,matplotlib.pyplot as plt\n",
    "from timeit import default_timer as timer\n",
    "#sys.path.append('/home/pi/Desktop/ADRNX/VNA')\n",
    "from pyVNA import core,constants"
   ]
  },
  {
   "cell_type": "code",
   "execution_count": null,
   "metadata": {},
   "outputs": [],
   "source": [
    "# Initialize vna object, overrding some defaults. Debug flag turns on/off print statements.\n",
    "vna = core.VNA(dev='/dev/ttyUSB2',debug=False)\n",
    "# Set up gpib adapter comms\n",
    "vna.init_and_setup()\n",
    "# Preset VNA to factory defaults - command blocks until this completes or timeout of 5s\n",
    "vna.preset(tm=5)"
   ]
  },
  {
   "cell_type": "markdown",
   "metadata": {},
   "source": [
    "** Changing measurement type and mode **"
   ]
  },
  {
   "cell_type": "markdown",
   "metadata": {},
   "source": [
    "A special class, ``constants``, is provided for convenient enumeration of possible mode and measurement values\n",
    "For instance: '``constants.VNA_MODE.POLAR``'"
   ]
  },
  {
   "cell_type": "code",
   "execution_count": null,
   "metadata": {
    "collapsed": true
   },
   "outputs": [],
   "source": [
    "# First check if desired mode or measurement type is on(true)\n",
    "# Only VNA_MODE and VNA_MEAS constants are valid arguments\n",
    "print(vna.check_if_true(constants.VNA_MODE.POLAR),vna.check_if_true(constants.VNA_MEAS.S21))"
   ]
  },
  {
   "cell_type": "code",
   "execution_count": null,
   "metadata": {
    "collapsed": true
   },
   "outputs": [],
   "source": [
    "# Set things to what we want\n",
    "vna.set_meas_mode(constants.VNA_MEAS.S21)\n",
    "time.sleep(0.1)\n",
    "vna.set_plot_mode(constants.VNA_MODE.POLAR)"
   ]
  },
  {
   "cell_type": "code",
   "execution_count": null,
   "metadata": {
    "collapsed": true
   },
   "outputs": [],
   "source": [
    "# Verify that changes did go through (wait a bit for things to switch)\n",
    "print(vna.check_if_true(constants.VNA_MODE.POLAR),vna.check_if_true(constants.VNA_MEAS.S21))"
   ]
  },
  {
   "cell_type": "markdown",
   "metadata": {},
   "source": [
    "** Changing sweep parameters **"
   ]
  },
  {
   "cell_type": "code",
   "execution_count": null,
   "metadata": {
    "collapsed": true
   },
   "outputs": [],
   "source": [
    "# Set setting to what we want, printing state after each change\n",
    "vna.print_current_state()\n",
    "vna.set_ifbw(30)\n",
    "vna.print_current_state()\n",
    "vna.set_num_points(1601)\n",
    "vna.print_current_state()\n",
    "\n",
    "fmin, fmax = 2.275E3, 2.276E3\n",
    "\n",
    "print(fmin, fmax)\n",
    "\n",
    "vna.set_freq_range(fmin, fmax,units=\"MHz\")\n",
    "vna.print_current_state()\n",
    "vna.set_power(-10)\n",
    "vna.print_current_state()"
   ]
  },
  {
   "cell_type": "markdown",
   "metadata": {},
   "source": [
    "** Doing a sweep **"
   ]
  },
  {
   "cell_type": "code",
   "execution_count": null,
   "metadata": {
    "collapsed": true
   },
   "outputs": [],
   "source": [
    "# After setting desired parameters, several method will use those to give useful sweep properties\n",
    "# For example, we can get a rough local estimate of sweep time (quickly, for algorithm scheduling purposes)\n",
    "print(vna.estimate_sweep_time())\n",
    "# Or query VNA for actual value (which is by default the lowest possible sweep time for current settings)\n",
    "swt = vna.get_actual_sweep_time()\n",
    "print(swt)\n",
    "# And also get number of bytes we expect from VNA\n",
    "# Note how result of form 2 (binary transfer) is so much smaller than ASCII form 4\n",
    "# (don't worry - parsing of these is handled internally, so this is just for your memory consumption calcs)\n",
    "print(vna.estimate_sweep_size(form=2),vna.estimate_sweep_size(form=4))"
   ]
  },
  {
   "cell_type": "code",
   "execution_count": null,
   "metadata": {
    "collapsed": true
   },
   "outputs": [],
   "source": [
    "# Now, lets start the sweep - this command returns immediately, and you can do other things while vna sweeps\n",
    "# Note how sweep params dictionary is generated at this point\n",
    "sweep_parameters = vna.start_sweep()\n",
    "# But here, we will block to await completion with a timeout (returns -1 if timeout occurs)\n",
    "timetaken = vna.await_completion(swt+10.0)\n",
    "print(timetaken)"
   ]
  },
  {
   "cell_type": "markdown",
   "metadata": {},
   "source": [
    "** Reading out data **"
   ]
  },
  {
   "cell_type": "code",
   "execution_count": null,
   "metadata": {
    "collapsed": true
   },
   "outputs": [],
   "source": [
    "# Now, we need to explicitly read out the data.\n",
    "# This can take awhile if run immediately after sweep, since vna is formatting things internally.\n",
    "start = timer()\n",
    "data2 = vna.retrieve_sweep_data(pause=0,form=2)\n",
    "print(timer()-start)\n",
    "# You can read out same data many times. Note how ASCII readout takes longer and is generally discouraged.\n",
    "start = timer()\n",
    "data4 = vna.retrieve_sweep_data(pause=0,form=4)\n",
    "print(timer()-start)"
   ]
  },
  {
   "cell_type": "code",
   "execution_count": null,
   "metadata": {
    "collapsed": true
   },
   "outputs": [],
   "source": [
    "# Finally, we can at a later timer parse data blob + sweep parameters to obtain results dictionary\n",
    "results = vna.parse_vna_data(sweep_parameters, data2, form=2)\n",
    "results.keys()"
   ]
  },
  {
   "cell_type": "code",
   "execution_count": null,
   "metadata": {
    "collapsed": true
   },
   "outputs": [],
   "source": [
    "# Let's plot it!\n",
    "[il,ql] = [results[\"I\"],results[\"Q\"]]\n",
    "datatoplot = [10.0*math.log10((il[i]**2+ql[i]**2)/(50.0*.001)) for i in range(0,len(il))]\n",
    "plt.figure()\n",
    "plt.plot(results[\"F\"],datatoplot,'-',lw=2)\n",
    "plt.show()"
   ]
  },
  {
   "cell_type": "markdown",
   "metadata": {},
   "source": [
    "** Saving data **"
   ]
  },
  {
   "cell_type": "code",
   "execution_count": null,
   "metadata": {
    "collapsed": true
   },
   "outputs": [],
   "source": [
    "# Assuming you want to mimic the standard output, utilities are provided to create text files from results dictionary\n",
    "# You can either specify folder (which exists) (and use autonaming 'vnasweep-%Y-%m-%d-%H-%M-%S.txt')\n",
    "vna.save_results_to_file(results,folder='/home/pi/Desktop/DataNX/vna/tests/')\n",
    "# Or, specify a full path\n",
    "vna.save_results_to_file(results,fullpath='/home/pi/Desktop/DataNX/vna/tests/test.blaa')"
   ]
  },
  {
   "cell_type": "markdown",
   "metadata": {},
   "source": [
    "** But what if I am lazy and want 1 liners? **"
   ]
  },
  {
   "cell_type": "code",
   "execution_count": null,
   "metadata": {
    "collapsed": true
   },
   "outputs": [],
   "source": [
    "results = vna.do_full_measurement({\"ifbw\": 30, \"numpoints\": 1601, \"freqs\": [500,700,\"MHz\"], \"power\": -8,\\\n",
    "                               \"mode\": constants.VNA_MODE.POLAR, \"meas\": constants.VNA_MEAS.S21, \"preset\": True})\n",
    "\n",
    "# its two lines...close enough!"
   ]
  },
  {
   "cell_type": "code",
   "execution_count": null,
   "metadata": {
    "collapsed": true
   },
   "outputs": [],
   "source": [
    "# Let's plot it (again)!\n",
    "[il,ql] = [results[\"I\"],results[\"Q\"]]\n",
    "datatoplot = [10.0*math.log10((il[i]**2+ql[i]**2)/(50.0*.001)) for i in range(0,len(il))]\n",
    "plt.figure()\n",
    "plt.plot(results[\"F\"],datatoplot,'-')\n",
    "plt.show()"
   ]
  }
 ],
 "metadata": {
  "kernelspec": {
   "display_name": "Python 3",
   "language": "python",
   "name": "python3"
  },
  "language_info": {
   "codemirror_mode": {
    "name": "ipython",
    "version": 3
   },
   "file_extension": ".py",
   "mimetype": "text/x-python",
   "name": "python",
   "nbconvert_exporter": "python",
   "pygments_lexer": "ipython3",
   "version": "3.4.2"
  }
 },
 "nbformat": 4,
 "nbformat_minor": 2
}
