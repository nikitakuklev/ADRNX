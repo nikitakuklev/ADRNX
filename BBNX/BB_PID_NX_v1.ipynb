{
 "cells": [
  {
   "cell_type": "code",
   "execution_count": 1,
   "metadata": {
    "collapsed": true
   },
   "outputs": [],
   "source": [
    "import serial, threading, sys, time\n",
    "sys.path.append('/home/pi/Desktop/ADR_NX/Utils')\n",
    "sys.path.append('/home/pi/Desktop/ADR_NX/Mainframe')\n",
    "from adr_PID import ADR_PID\n",
    "import adr_utils, SIM900_controller, SIM921, SIM922, SIM960\n",
    "import numpy as np\n",
    "import matplotlib.pyplot as plt\n",
    "from timeit import default_timer as timer\n",
    "from HCLib import HeaterController"
   ]
  },
  {
   "cell_type": "code",
   "execution_count": 2,
   "metadata": {},
   "outputs": [],
   "source": [
    "debug = 1\n",
    "HC = HeaterController.HeaterController()\n",
    "HC.debug = 0\n",
    "HC.establish_comms()"
   ]
  },
  {
   "cell_type": "code",
   "execution_count": 3,
   "metadata": {},
   "outputs": [
    {
     "name": "stdout",
     "output_type": "stream",
     "text": [
      "Input read thread is up!Input loop started\n",
      "\n",
      "Output loop started\n"
     ]
    }
   ],
   "source": [
    "mfc = SIM900_controller.SIM900()\n",
    "mfc.init_and_open_connection()\n",
    "mfc.start_input_loop()\n",
    "mfc.start_output_loop()\n",
    "s921 = SIM921.SIM921(mfc)\n",
    "s922 = SIM922.SIM922(mfc)\n",
    "s960 = SIM960.SIM960(mfc)"
   ]
  },
  {
   "cell_type": "code",
   "execution_count": 4,
   "metadata": {},
   "outputs": [
    {
     "name": "stdout",
     "output_type": "stream",
     "text": [
      "OQADD (t:0): |*IDN?\\n|\n",
      "OQSEND (t:0): |*IDN?\\n|\n",
      "Read line: 'Stanford_Research_Systems,SIM900,s/n130132,ver3.6\\r\\n'\n",
      "GOT MSG -> S0:Stanford_Research_Systems,SIM900,s/n130132,ver3.6\n",
      "GOT RESP IN 0.0979099273682\n"
     ]
    },
    {
     "data": {
      "text/plain": [
       "'Stanford_Research_Systems,SIM900,s/n130132,ver3.6'"
      ]
     },
     "execution_count": 4,
     "metadata": {},
     "output_type": "execute_result"
    }
   ],
   "source": [
    "mfc.get_IDN()"
   ]
  },
  {
   "cell_type": "code",
   "execution_count": 5,
   "metadata": {},
   "outputs": [
    {
     "name": "stdout",
     "output_type": "stream",
     "text": [
      "OQADD (t:0): |RPER 74\\n|\n",
      "OQSEND (t:0): |RPER 74\\n|\n"
     ]
    }
   ],
   "source": [
    "mfc.set_RPER([s921.MODNUM, s922.MODNUM, s960.MODNUM])"
   ]
  },
  {
   "cell_type": "code",
   "execution_count": 6,
   "metadata": {},
   "outputs": [
    {
     "name": "stdout",
     "output_type": "stream",
     "text": [
      "OQADD (t:0): |SNDT 1,\"TVAL? 0\\n\"\\n|\n",
      "OQSEND (t:0): |SNDT 1,\"TVAL? 0\\n\"\\n|\n",
      "Read line: 'MSG 1,#215+1.232788E-01\\r\\n'\n",
      "GOT MSG -> S1:+1.232788E-01\n",
      "Got temperature data: +1.232788E-01|17:33:47.766706\n",
      "NEW DATA\n",
      "OQADD (t:0): |SNDT 1,\"SOUT \\n\"\\n|\n",
      "OQSEND (t:0): |SNDT 1,\"SOUT \\n\"\\n|\n"
     ]
    }
   ],
   "source": [
    "s921.start_data_stream()\n",
    "s921.newdataevent.wait(20)\n",
    "print \"NEW DATA\"\n",
    "s921.stop_data_stream()"
   ]
  },
  {
   "cell_type": "code",
   "execution_count": null,
   "metadata": {
    "collapsed": true
   },
   "outputs": [],
   "source": [
    "P = 1.0\n",
    "I = 0.0\n",
    "D = 0.0\n",
    "pid = ADR_PID(P,I,D,0)\n",
    "feedback = 0\n",
    "feedback_list = []\n",
    "time_list = []\n",
    "setpoint_list = []\n",
    "pid.SetPoint = 0.0\n",
    "pid.setSlewLimit(1.0)"
   ]
  },
  {
   "cell_type": "code",
   "execution_count": null,
   "metadata": {
    "collapsed": true
   },
   "outputs": [],
   "source": [
    "mfc.get_serial_object().write(\"SNDT 1,\\\"SOUT\\n\\\"\\n\")"
   ]
  },
  {
   "cell_type": "code",
   "execution_count": null,
   "metadata": {
    "collapsed": true
   },
   "outputs": [],
   "source": [
    "mfc.stop_input_loop()\n",
    "mfc.stop_output_loop()"
   ]
  }
 ],
 "metadata": {
  "kernelspec": {
   "display_name": "Python 2",
   "language": "python",
   "name": "python2"
  },
  "language_info": {
   "codemirror_mode": {
    "name": "ipython",
    "version": 2
   },
   "file_extension": ".py",
   "mimetype": "text/x-python",
   "name": "python",
   "nbconvert_exporter": "python",
   "pygments_lexer": "ipython2",
   "version": "2.7.9"
  }
 },
 "nbformat": 4,
 "nbformat_minor": 2
}
