{
 "cells": [
  {
   "cell_type": "code",
   "execution_count": 1,
   "metadata": {
    "collapsed": true
   },
   "outputs": [],
   "source": [
    "%matplotlib inline"
   ]
  },
  {
   "cell_type": "code",
   "execution_count": 2,
   "metadata": {
    "collapsed": true
   },
   "outputs": [],
   "source": [
    "import serial, threading, sys, time, datetime\n",
    "sys.path.append('/home/pi/Desktop/ADR_NX/Utils')\n",
    "sys.path.append('/home/pi/Desktop/ADR_NX/Mainframe')\n",
    "from adr_PID import ADR_PID\n",
    "import adr_utils, SIM900_controller, SIM921, SIM922\n",
    "import numpy as np\n",
    "import matplotlib.pyplot as plt\n",
    "from timeit import default_timer as timer\n",
    "from HCLib import HeaterController"
   ]
  },
  {
   "cell_type": "code",
   "execution_count": 3,
   "metadata": {
    "collapsed": true
   },
   "outputs": [],
   "source": [
    "db = False\n",
    "HC = HeaterController.HeaterController()\n",
    "HC.debug = db\n",
    "HC.establish_comms()"
   ]
  },
  {
   "cell_type": "code",
   "execution_count": 4,
   "metadata": {},
   "outputs": [
    {
     "name": "stdout",
     "output_type": "stream",
     "text": [
      "Input loop started\n",
      "Output loop started\n"
     ]
    }
   ],
   "source": [
    "mfc = SIM900_controller.SIM900()\n",
    "mfc.debug = db\n",
    "mfc.init_and_open_connection()\n",
    "mfc.start_input_loop()\n",
    "mfc.start_output_loop()\n",
    "s921 = SIM921.SIM921(mfc); s921.debug = db\n",
    "s922 = SIM922.SIM922(mfc); s922.debug = db\n",
    "mfc.set_RPER([s922.MODNUM, s921.MODNUM])"
   ]
  },
  {
   "cell_type": "code",
   "execution_count": 5,
   "metadata": {},
   "outputs": [
    {
     "data": {
      "text/plain": [
       "15"
      ]
     },
     "execution_count": 5,
     "metadata": {},
     "output_type": "execute_result"
    }
   ],
   "source": [
    "mfc.debug = db\n",
    "HC.set_dutycycle(0)\n",
    "HC.set_onoff(0)\n",
    "mfc.get_serial_object().write(\"SNDT 6,\\\"SOUT\\n\\\"\\n\")\n",
    "mfc.get_serial_object().write(\"SNDT 1,\\\"SOUT\\n\\\"\\n\")"
   ]
  },
  {
   "cell_type": "markdown",
   "metadata": {},
   "source": [
    "============== RERUN THESE 2 AT EVERY TEMP ============="
   ]
  },
  {
   "cell_type": "code",
   "execution_count": 22,
   "metadata": {
    "collapsed": true
   },
   "outputs": [],
   "source": [
    "from IPython.display import clear_output\n",
    "P = 20.0\n",
    "I = 0.2\n",
    "D = 0.1\n",
    "pid = ADR_PID(P,I,D,0)\n",
    "pid.SetPoint = 24.0\n",
    "pid.setSlewLimit(0.8)\n",
    "start = timer()\n",
    "temps, times, temps_st = ([] for i in range(3))"
   ]
  },
  {
   "cell_type": "code",
   "execution_count": 23,
   "metadata": {},
   "outputs": [
    {
     "name": "stdout",
     "output_type": "stream",
     "text": [
      "35.8933|23.4400|0.1805|105\n",
      "35.5987|23.4590|0.1805|106\n"
     ]
    }
   ],
   "source": [
    "global runPID\n",
    "runPID = True\n",
    "print pid.SetPoint\n",
    "\n",
    "def PID_thread():\n",
    "    HC.set_onoff(1)\n",
    "    HC.set_dutycycle(0)\n",
    "    global runPID    \n",
    "    i = 0\n",
    "    time = 0.0\n",
    "    while (runPID == True):   \n",
    "        s922.s922dataevent.wait(5)\n",
    "        s922.s922dataevent.clear()\n",
    "\n",
    "        temp = s922.lasttemperature\n",
    "        temp_st = s921.lasttemperature\n",
    "        temps_st.append(temp_st)\n",
    "\n",
    "        if (temp > 40.0):\n",
    "            continue\n",
    "            #raise IOError(\"WRONG TEMP?\")\n",
    "        else:            \n",
    "            if (time == s922.lastdatatime):\n",
    "                print(\"NOT GOOD\")\n",
    "                #HC.set_onoff(0)\n",
    "                #s922.stop_data_stream()\n",
    "                #raise IOError(\"STUCK\")   \n",
    "            time = s922.lastdatatime\n",
    "            temps.append(temp)\n",
    "            times.append(timer()-start)    \n",
    "            pid.update(temp)\n",
    "            output = pid.output\n",
    "            if output < 0.0 or output > 100.0:\n",
    "                continue\n",
    "            else:\n",
    "                HC.set_dutycycle(output)                \n",
    "        print(\"{:6.4f}|{:6.4f}|{:6.4f}|{}\".format(output,temp,temp_st,str(i)))\n",
    "        i += 1\n",
    "        if i%15 == 0:\n",
    "            clear_output()\n",
    "        \n",
    "    print(\"EXITING\")\n",
    "\n",
    "s922.start_data_stream()\n",
    "s921.start_data_stream()\n",
    "thread = threading.Thread(name='pidbb',target=PID_thread, args=())\n",
    "thread.start()"
   ]
  },
  {
   "cell_type": "markdown",
   "metadata": {},
   "source": [
    "============== BELOW IS SHUTDOWN COMMAND ============="
   ]
  },
  {
   "cell_type": "code",
   "execution_count": 24,
   "metadata": {},
   "outputs": [
    {
     "name": "stdout",
     "output_type": "stream",
     "text": [
      "35.3014|23.4780|0.1805|107\n"
     ]
    },
    {
     "data": {
      "text/plain": [
       "15"
      ]
     },
     "execution_count": 24,
     "metadata": {},
     "output_type": "execute_result"
    },
    {
     "name": "stdout",
     "output_type": "stream",
     "text": [
      "NOT GOOD\n",
      "35.8281|23.4780|0.1811|108\n",
      "EXITING\n"
     ]
    }
   ],
   "source": [
    "global runPID\n",
    "runPID = False\n",
    "s922.stop_data_stream()\n",
    "HC.set_onoff(0)\n",
    "s921.stop_data_stream()\n",
    "mfc.get_serial_object().write(\"SNDT 6,\\\"SOUT\\n\\\"\\n\")"
   ]
  },
  {
   "cell_type": "code",
   "execution_count": null,
   "metadata": {
    "collapsed": true
   },
   "outputs": [],
   "source": [
    "============== EXTRA STUFF ============="
   ]
  },
  {
   "cell_type": "code",
   "execution_count": null,
   "metadata": {
    "collapsed": true
   },
   "outputs": [],
   "source": [
    "mfc.get_serial_object().write(\"SNDT 6,\\\"CURV 0,1\\n\\\"\\n\")"
   ]
  },
  {
   "cell_type": "code",
   "execution_count": null,
   "metadata": {
    "collapsed": true
   },
   "outputs": [],
   "source": [
    "t1 = [x if x> 8 else 20.0 for x in temps]\n",
    "t2 = [x if x< 0.2 else 0.170 for x in temps_st]\n",
    "t2 = [x if x> 0.112 else 0.170 for x in t2]"
   ]
  },
  {
   "cell_type": "code",
   "execution_count": null,
   "metadata": {
    "collapsed": true
   },
   "outputs": [],
   "source": [
    "fig = plt.figure()\n",
    "plt.plot(times,t1,'-')\n",
    "plt.xlabel(\"Time (s)\")\n",
    "plt.ylabel(\"Temperature (K)\")\n",
    "plt.show()\n",
    "\n",
    "fig = plt.figure()\n",
    "plt.plot(times,t2,'-')\n",
    "plt.xlabel(\"Time (s)\")\n",
    "plt.ylabel(\"Temperature (K)\")\n",
    "plt.show()"
   ]
  },
  {
   "cell_type": "code",
   "execution_count": null,
   "metadata": {
    "collapsed": true
   },
   "outputs": [],
   "source": [
    "mfc.stop_input_loop()\n",
    "mfc.stop_output_loop()"
   ]
  }
 ],
 "metadata": {
  "kernelspec": {
   "display_name": "Python 2",
   "language": "python",
   "name": "python2"
  },
  "language_info": {
   "codemirror_mode": {
    "name": "ipython",
    "version": 2
   },
   "file_extension": ".py",
   "mimetype": "text/x-python",
   "name": "python",
   "nbconvert_exporter": "python",
   "pygments_lexer": "ipython2",
   "version": "2.7.9"
  }
 },
 "nbformat": 4,
 "nbformat_minor": 2
}
