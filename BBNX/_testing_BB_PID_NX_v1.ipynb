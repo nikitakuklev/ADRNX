{
 "cells": [
  {
   "cell_type": "code",
   "execution_count": 1,
   "metadata": {
    "collapsed": true
   },
   "outputs": [],
   "source": [
    "import serial, threading, sys, time\n",
    "sys.path.append('/home/pi/Desktop/ADR_NX/Utils')\n",
    "#sys.path.append('C:/GoogleDrive/SPT/SW/ADR_NX/Utils')\n",
    "from HCLib import HeaterController\n",
    "import matplotlib.pyplot as plt\n",
    "from adr_PID import ADR_PID\n",
    "import numpy as np"
   ]
  },
  {
   "cell_type": "code",
   "execution_count": 2,
   "metadata": {},
   "outputs": [
    {
     "name": "stdout",
     "output_type": "stream",
     "text": [
      "HCDBG: Port ready: Serial<id=0x6fd9fbd0, open=False>(port=None, baudrate=9600, bytesize=8, parity='N', stopbits=1, timeout=0.2, xonxoff=False, rtscts=False, dsrdtr=False)\n",
      "HCDBG: Platform (linux2) -> device list is ['/dev/ADR_heatercontrol', '/dev/ttyUSB2']\n",
      "HCDBG: Starting device search\n",
      "HCDBG: Port /dev/ADR_heatercontrol did not work, exception: [Errno 2] could not open port /dev/ADR_heatercontrol: [Errno 2] No such file or directory: '/dev/ADR_heatercontrol'\n",
      "HCDBG: Port /dev/ttyUSB2 incorrect msg: \u0000\u0000\n",
      "HCDBG: Port /dev/ttyUSB2 incorrect msg: \n",
      "HCDBG: Port /dev/ttyUSB2 incorrect msg: I am HeaterController: 1E 95 F\n",
      "HCDBG: Port /dev/ttyUSB2 incorrect msg: Type: A0\n",
      "HCDBG: Port /dev/ttyUSB2 incorrect msg: FW: 12\n",
      "HCDBG: Port /dev/ttyUSB2 incorrect msg: SN: 11\n",
      "HCDBG: Port /dev/ttyUSB2 incorrect msg: Freq: 16000000\n",
      "HCDBG: Port /dev/ttyUSB2 incorrect msg: Checking EEPROM...TYPE OK...SN OK!\n",
      "HCDBG: Port /dev/ttyUSB2 incorrect msg: Timer 1 setup: TOP=31250 and f=4\n",
      "HCDBG: Port /dev/ttyUSB2 CORRECT msg: HCA011\n",
      "HCDBG: Found device on port /dev/ttyUSB2 -> connected!\n",
      "HCDBG: Device READY!\n"
     ]
    }
   ],
   "source": [
    "debug = 1\n",
    "run_tests = 1\n",
    "HC = HeaterController.HeaterController()\n",
    "HC.establish_comms()\n",
    "HC.debug = 0"
   ]
  },
  {
   "cell_type": "code",
   "execution_count": null,
   "metadata": {
    "collapsed": true
   },
   "outputs": [],
   "source": []
  },
  {
   "cell_type": "code",
   "execution_count": null,
   "metadata": {
    "collapsed": true
   },
   "outputs": [],
   "source": [
    "print(HC.deviceportname)"
   ]
  },
  {
   "cell_type": "code",
   "execution_count": 3,
   "metadata": {},
   "outputs": [
    {
     "name": "stdout",
     "output_type": "stream",
     "text": [
      "HCDBG: Device type is A0\n",
      "HCDBG: Device serial is 11\n",
      "HCDBG: Device status is 0\n",
      "HCDBG: Device duty cycle is 0\n"
     ]
    }
   ],
   "source": [
    "if (debug):\n",
    "    print('HCDBG: Device type is {}'.format(HC.get_type()))\n",
    "    print('HCDBG: Device serial is {}'.format(HC.get_serialnum()))\n",
    "    print('HCDBG: Device status is {}'.format(HC.get_onoff()))\n",
    "    print('HCDBG: Device duty cycle is {}'.format(HC.get_dutycycle()))"
   ]
  },
  {
   "cell_type": "code",
   "execution_count": null,
   "metadata": {
    "collapsed": true
   },
   "outputs": [],
   "source": []
  },
  {
   "cell_type": "code",
   "execution_count": null,
   "metadata": {
    "collapsed": true
   },
   "outputs": [],
   "source": [
    "P = 1.0\n",
    "I = 0.0\n",
    "D = 0.0\n",
    "pid = ADR_PID(P,I,D,0)\n",
    "feedback = 0\n",
    "feedback_list = []\n",
    "time_list = []\n",
    "setpoint_list = []\n",
    "pid.SetPoint = 0.0\n",
    "pid.setSlewLimit(0.0)\n",
    "for i in range(1,100):\n",
    "    if i>9:\n",
    "        pid.SetPoint = 15\n",
    "    pid.update(feedback)\n",
    "    output = pid.output\n",
    "    if pid.SetPoint > 0:\n",
    "        feedback += (output - 1/i)\n",
    "    time.sleep(0.02)\n",
    "    feedback_list.append(feedback)\n",
    "    setpoint_list.append(pid.SetPoint)\n",
    "    time_list.append(i)"
   ]
  },
  {
   "cell_type": "code",
   "execution_count": null,
   "metadata": {
    "collapsed": true
   },
   "outputs": [],
   "source": [
    "plt.figure(1)\n",
    "plt.plot(time_list, feedback_list)\n",
    "plt.plot(time_list, setpoint_list),\n",
    "plt.xlim(0, 100)\n",
    "plt.xlabel('time (s)'),\n",
    "plt.ylabel('PID (PV)')\n",
    "plt.grid(True)\n",
    "plt.show()"
   ]
  },
  {
   "cell_type": "code",
   "execution_count": null,
   "metadata": {
    "collapsed": true
   },
   "outputs": [],
   "source": [
    "    \"plt.figure(2)\\n\",\n",
    "    \"plt.plot(time_list, [(feedback_list[i] - setpoint_list[i]) for  i in range(0,len(feedback_list))])\\n\",\n",
    "    \"plt.xlim((0, END))\\n\",\n",
    "    \"#plt.ylim((min(feedback_list)-0.5, max(feedback_list)+0.5))\\n\",\n",
    "    \"#plt.ylim((0,3))\\n\",\n",
    "    \"plt.xlabel('time (s)')\\n\",\n",
    "    \"plt.ylabel('PID (PV)')\\n\",\n",
    "    \"plt.title('TEST PID')\\n\",\n",
    "    \"\\n\",\n",
    "    \"#plt.ylim((1-0.5, 1+0.5))\\n\",\n",
    "    \"plt.ylim((0,3))\\n\",\n",
    "    \"\\n\",\n",
    "    \"plt.grid(True)\\n\",\n",
    "    \"plt.show()\""
   ]
  },
  {
   "cell_type": "code",
   "execution_count": 4,
   "metadata": {},
   "outputs": [
    {
     "name": "stdout",
     "output_type": "stream",
     "text": [
      "HCDBG:    Command    | S  | C    \n",
      "HCDBG: 0| ON0000     | 1  | 0   \n",
      "HCDBG: 1| OFF000     | 0  | 0   \n",
      "HCDBG: 2| ON0000     | 1  | 0   \n",
      "HCDBG: 3| SC0000     | 1  | 0   \n",
      "HCDBG: 4| SC9999     | 1  | 9999\n",
      "HCDBG: 5| SC0000     | 1  | 0   \n",
      "HCDBG: 6| SC1000     | 1  | 1000\n",
      "HCDBG: 7| SC0000     | 1  | 0   \n",
      "HCDBG: 8| SCFULL     | 1  | 9999\n",
      "HCDBG: 9| OFF000     | 0  | 9999\n",
      "HCDBG:10| ON0000     | 1  | 9999\n",
      "HCDBG:11| OFF000     | 0  | 9999\n",
      "HCDBG:12| SC0000     | 0  | 0   \n",
      "HCDBG:13| ON0000     | 1  | 0   \n",
      "HCDBG:14| SC0050     | 1  | 50  \n",
      "HCDBG:15| SC1000     | 1  | 1000\n",
      "HCDBG:16| SC3000     | 1  | 3000\n",
      "HCDBG:17| SC5000     | 1  | 5000\n",
      "HCDBG:18| SC7000     | 1  | 7000\n",
      "HCDBG:19| SC9950     | 1  | 9950\n",
      "HCDBG:20| SC5000     | 1  | 5000\n"
     ]
    }
   ],
   "source": [
    "#Testing block\n",
    "if(run_tests): \n",
    "    HC.flush_serial()\n",
    "    HC.set_dutycycle(0)\n",
    "    HC.set_onoff(0)\n",
    "    commands = ['ON0000','OFF000','ON0000','SC0000','SC9999','SC0000','SC1000',\\\n",
    "              'SC0000','SCFULL','OFF000','ON0000','OFF000','SC0000','ON0000',\\\n",
    "              'SC0050','SC1000','SC3000','SC5000','SC7000','SC9950','SC5000']\n",
    "    expected_s = [1,0,1,1,1,1,1,\\\n",
    "                  1,1,0,1,0,0,1,\\\n",
    "                  1,1,1,1,1,1,1,\\\n",
    "                  1,1,1,1,1,1,1]\n",
    "    expected_c = [0,0,0,0,9999,0,1000,\\\n",
    "                  0,9999,9999,9999,9999,0,0,\\\n",
    "                  50,1000,3000,5000,7000,9950,5000,\\\n",
    "                  5000,5000,5000,5000,5000,5000,5000]\n",
    "    print('HCDBG:    Command {:2} | S{:1} | C{:4}'.format('','','',''))\n",
    "    for i,cmd in enumerate(commands):  \n",
    "        if (cmd == 'ON0000'):\n",
    "            HC.set_onoff(1)\n",
    "        elif (cmd == 'OFF000'):\n",
    "            HC.set_onoff(0)\n",
    "        elif (cmd.startswith('SC')):\n",
    "            if (cmd[2:] == 'FULL'):\n",
    "                HC.set_dutycycle(100) \n",
    "            elif (cmd.endswith('0000')):\n",
    "                HC.set_dutycycle(0) \n",
    "            else:\n",
    "                HC.set_dutycycle(float(int(cmd[2:])+1)/100.0) \n",
    "        resp2 = HC.get_onoff()\n",
    "        resp3 = HC.get_dutycycle()\n",
    "        print('HCDBG:{:2}| {:10} | {:2} | {:4}'.format(i,cmd,resp2,resp3))\n",
    "        if (resp2 != str(expected_s[i])):\n",
    "            print('HCDBG: Wrong S {}, wanted {}'.format(resp2,expected_s[i]))\n",
    "        if (resp3 != str(expected_c[i])):\n",
    "            print('HCDBG: Wrong C {}, wanted {}'.format(resp3,expected_c[i]))\n",
    "        time.sleep(1)\n",
    "    HC.set_dutycycle(0)\n",
    "    HC.set_onoff(0)"
   ]
  },
  {
   "cell_type": "code",
   "execution_count": null,
   "metadata": {
    "collapsed": true
   },
   "outputs": [],
   "source": []
  }
 ],
 "metadata": {
  "kernelspec": {
   "display_name": "Python 2",
   "language": "python",
   "name": "python2"
  },
  "language_info": {
   "codemirror_mode": {
    "name": "ipython",
    "version": 2
   },
   "file_extension": ".py",
   "mimetype": "text/x-python",
   "name": "python",
   "nbconvert_exporter": "python",
   "pygments_lexer": "ipython2",
   "version": "2.7.9"
  }
 },
 "nbformat": 4,
 "nbformat_minor": 2
}
