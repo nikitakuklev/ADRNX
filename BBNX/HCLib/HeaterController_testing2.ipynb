{
 "cells": [
  {
   "cell_type": "code",
   "execution_count": null,
   "metadata": {
    "collapsed": true
   },
   "outputs": [],
   "source": [
    "\"\"\"\n",
    "HeaterController class provides all the methods\n",
    "required to control HC module. It looks through any ports\n",
    "in appropriate devicelist, listening for key hello messages.\n",
    "\n",
    "See readme.md for more information on protocol\n",
    "\n",
    "06/15/2017 Nikita Kuklev\n",
    "\"\"\""
   ]
  },
  {
   "cell_type": "code",
   "execution_count": 1,
   "metadata": {
    "collapsed": true
   },
   "outputs": [],
   "source": [
    "import serial, threading, sys, time\n",
    "import numpy as np"
   ]
  },
  {
   "cell_type": "code",
   "execution_count": 2,
   "metadata": {
    "collapsed": true
   },
   "outputs": [],
   "source": [
    "# Constants\n",
    "devicelist_win = ['COM4','COM3'] # List of devices that will be attempted, in order\n",
    "devicelist_unix = ['/dev/ADR_heatercontrol']\n",
    "devicekey = 'HCA011' # HeaterControl type A0 and serial number 11\n",
    "debug = 1\n",
    "run_tests = 1"
   ]
  },
  {
   "cell_type": "code",
   "execution_count": 3,
   "metadata": {
    "collapsed": true
   },
   "outputs": [],
   "source": [
    "# Detect opeating system and choose right device list\n",
    "def get_device_list(): \n",
    "    if sys.platform.startswith('win'):\n",
    "        devicelist = devicelist_win\n",
    "    elif sys.platform.startswith('linux') or sys.platform.startswith('cygwin'):\n",
    "        devicelist = devicelist_unix\n",
    "    else:\n",
    "        raise EnvironmentError('Unsupported platform')\n",
    "\n",
    "    if(debug): print('HCDBG: Platform ({}) -> device list is {}'.format(sys.platform,devicelist))\n",
    "    return devicelist"
   ]
  },
  {
   "cell_type": "code",
   "execution_count": 4,
   "metadata": {
    "collapsed": true
   },
   "outputs": [],
   "source": []
  },
  {
   "cell_type": "code",
   "execution_count": 5,
   "metadata": {
    "collapsed": true,
    "scrolled": true
   },
   "outputs": [],
   "source": [
    "def establish_comms(ser):\n",
    "    devicefound = False\n",
    "    deviceportname = ''\n",
    "    linelim = 20\n",
    "    if(debug): print('HCDBG: Starting device search')\n",
    "    for device in devicelist:\n",
    "        try:\n",
    "            ser.port = device\n",
    "            if (ser.isOpen()):\n",
    "                if(debug): print('HCDBG: Port {} already open, skipping'.format(device))\n",
    "                #ser.close()\n",
    "            else:\n",
    "                ser.open()\n",
    "                time.sleep(1)\n",
    "                for i in range(1,linelim):\n",
    "                    ln = ser.readline().decode('ASCII').rstrip()\n",
    "                    time.sleep(0.1)\n",
    "                    if(ln == devicekey):\n",
    "                        devicefound = True\n",
    "                        deviceportname = device\n",
    "                        if(debug): print('HCDBG: Port {} CORRECT msg: {}'.format(device, ln))\n",
    "                        break  \n",
    "                    else:\n",
    "                        if(debug): print('HCDBG: Port {} incorrect msg: {}'.format(device, ln))\n",
    "\n",
    "        except serial.SerialException as err:\n",
    "            if(debug): print('HCDBG: Port {} did not work, exception: {}'.format(device, err))\n",
    "\n",
    "        finally:\n",
    "            if (not devicefound):\n",
    "                ser.close()\n",
    "            else:\n",
    "                break\n",
    "\n",
    "    if(not devicefound):\n",
    "        print('HC: Did not find any suitable ports -> terminating')\n",
    "        raise EnvironmentError('No appropriate devices found!')\n",
    "    else:\n",
    "        if(debug): print('HCDBG: Found device on port {} -> connected!'.format(device))\n",
    "           \n",
    "    # Reply with greeting\n",
    "    time.sleep(0.1)\n",
    "    ser.write((devicekey+'\\n').encode('ASCII'))\n",
    "    time.sleep(0.01)\n",
    "    ser.reset_input_buffer()\n",
    "    ser.reset_output_buffer()\n",
    "    time.sleep(0.5)\n",
    "    rdyresp = ser.readline().decode('ASCII').rstrip()\n",
    "    if(rdyresp == \"RDY\"):\n",
    "        if(debug): print('HCDBG: Device READY!')\n",
    "    else:\n",
    "        if(debug): print('HCDBG: Device rdy reply was {}'.format(rdyresp))\n",
    "        raise EnvironmentError('Device did not reply it was ready')"
   ]
  },
  {
   "cell_type": "code",
   "execution_count": null,
   "metadata": {
    "collapsed": true
   },
   "outputs": [],
   "source": [
    "def send_command(msg):\n",
    "    msg = msg+'\\n'\n",
    "    msg = msg.encode('ASCII')\n",
    "    ser.write(msg)\n",
    "    time.sleep(0.05)\n",
    "    return ser.readline().decode('ASCII').rstrip()"
   ]
  },
  {
   "cell_type": "code",
   "execution_count": 14,
   "metadata": {},
   "outputs": [
    {
     "name": "stdout",
     "output_type": "stream",
     "text": [
      "HCDBG: Platform (win32) -> device list is ['COM4', 'COM3']\n",
      "HCDBG: Port ready: Serial<id=0x1e9f1237710, open=False>(port=None, baudrate=9600, bytesize=8, parity='N', stopbits=1, timeout=0.2, xonxoff=False, rtscts=False, dsrdtr=False)\n",
      "HCDBG: Starting device search\n",
      "HCDBG: Port COM4 incorrect msg: \n",
      "HCDBG: Port COM4 incorrect msg: \n",
      "HCDBG: Port COM4 incorrect msg: I am HeaterController: 1E 95 F\n",
      "HCDBG: Port COM4 incorrect msg: Type: A0\n",
      "HCDBG: Port COM4 incorrect msg: FW: 12\n",
      "HCDBG: Port COM4 incorrect msg: SN: 11\n",
      "HCDBG: Port COM4 incorrect msg: Freq: 16000000\n",
      "HCDBG: Port COM4 incorrect msg: Checking EEPROM...TYPE OK...SN OK!\n",
      "HCDBG: Port COM4 incorrect msg: Timer 1 setup: TOP=31250 and f=4\n",
      "HCDBG: Port COM4 CORRECT msg: HCA011\n",
      "HCDBG: Found device on port COM4 -> connected!\n",
      "HCDBG: Device READY!\n"
     ]
    }
   ],
   "source": [
    "devicelist = get_device_list()\n",
    "ser = prepare_serial_port()\n",
    "establish_comms(ser)"
   ]
  },
  {
   "cell_type": "code",
   "execution_count": 15,
   "metadata": {
    "scrolled": true
   },
   "outputs": [
    {
     "name": "stdout",
     "output_type": "stream",
     "text": [
      "HCDBG: Device type is A0\n",
      "HCDBG: Device serial is 11\n",
      "HCDBG: Device status is 0\n",
      "HCDBG: Device duty cycle is 0\n"
     ]
    }
   ],
   "source": [
    "if (debug):\n",
    "    print('HCDBG: Device type is {}'.format(send_command('TYPE??')))\n",
    "    print('HCDBG: Device serial is {}'.format(send_command('SN????')))\n",
    "    print('HCDBG: Device status is {}'.format(send_command('QS????')))\n",
    "    print('HCDBG: Device duty cycle is {}'.format(send_command('QC????')))"
   ]
  },
  {
   "cell_type": "code",
   "execution_count": 24,
   "metadata": {
    "scrolled": true
   },
   "outputs": [
    {
     "name": "stdout",
     "output_type": "stream",
     "text": [
      "HCDBG:    Command    | R                    | S  | C    \n",
      "HCDBG: 0| ON0000     | OK                   | 1  | 0   \n",
      "HCDBG: 1| OFF000     | OK                   | 0  | 0   \n",
      "HCDBG: 2| ON0000     | OK                   | 1  | 0   \n",
      "HCDBG: 3| SC0000     | OK                   | 1  | 0   \n",
      "HCDBG: 4| SC9999     | OK                   | 1  | 9999\n",
      "HCDBG: 5| SC0000     | OK                   | 1  | 0   \n",
      "HCDBG: 6| SC1000     | OK                   | 1  | 1000\n",
      "HCDBG: 7| SC0000     | OK                   | 1  | 0   \n",
      "HCDBG: 8| SC9999     | OK                   | 1  | 9999\n",
      "HCDBG: 9| OFF000     | OK                   | 0  | 9999\n",
      "HCDBG:10| ON0000     | OK                   | 1  | 9999\n",
      "HCDBG:11| OFF000     | OK                   | 0  | 9999\n",
      "HCDBG:12| SC0000     | OK                   | 0  | 0   \n",
      "HCDBG:13| ON0000     | OK                   | 1  | 0   \n",
      "HCDBG: Wrong S 1, wanted 0\n",
      "HCDBG:14| SC0100     | OK                   | 1  | 100 \n",
      "HCDBG:15| SC1000     | OK                   | 1  | 1000\n",
      "HCDBG:16| SC3000     | OK                   | 1  | 3000\n",
      "HCDBG:17| SC5000     | OK                   | 1  | 5000\n",
      "HCDBG:18| SC7000     | OK                   | 1  | 7000\n",
      "HCDBG:19| SC9900     | OK                   | 1  | 9900\n",
      "HCDBG:20| SC5000     | OK                   | 1  | 5000\n",
      "HCDBG:21| 666666     | BAD CMD              | 1  | 5000\n",
      "HCDBG:22| SC-100     | BAD SC NUMBER        | 1  | 5000\n",
      "HCDBG:23| SC100+     | BAD SC NUMBER        | 1  | 5000\n",
      "HCDBG:24| BLA        | BAD CMD LEN          | 1  | 5000\n",
      "HCDBG:25|            | BAD CMD LEN          | 1  | 5000\n"
     ]
    }
   ],
   "source": [
    "#Testing block\n",
    "if(run_tests): \n",
    "    ser.reset_input_buffer()\n",
    "    ser.reset_output_buffer()\n",
    "    send_command('SC0000')\n",
    "    send_command('OFF000')\n",
    "    commands = ['ON0000','OFF000','ON0000','SC0000','SC9999','SC0000','SC1000',\\\n",
    "              'SC0000','SC9999','OFF000','ON0000','OFF000','SC0000','ON0000',\\\n",
    "              'SC0050','SC1000','SC3000','SC5000','SC7000','SC9950','SC5000',\\\n",
    "               '666666','SC-100','SC100+','BLA','']\n",
    "    expected_s = [1,0,1,1,1,1,1,\\\n",
    "                  1,1,0,1,0,0,1,\\\n",
    "                  1,1,1,1,1,1,1,\\\n",
    "                  1,1,1,1,1,1,1]\n",
    "    expected_c = [0,0,0,0,9999,0,1000,\\\n",
    "                  0,9999,9999,9999,9999,0,0,\\\n",
    "                  50,1000,3000,5000,7000,9950,5000,\\\n",
    "                  5000,5000,5000,5000,5000,5000,5000]\n",
    "    expected_r = ['OK','OK','OK','OK','OK','OK','OK',\\\n",
    "                  'OK','OK','OK','OK','OK','OK','OK',\\\n",
    "                  'OK','OK','OK','OK','OK','OK','OK',\\\n",
    "                  'BAD CMD','BAD SC NUMBER','BAD SC NUMBER','BAD CMD LEN','BAD CMD LEN']\n",
    "    print('HCDBG:    Command {:2} | R{:19} | S{:1} | C{:4}'.format('','','',''))\n",
    "    for i,cmd  in enumerate(commands):        \n",
    "        resp1 = send_command(cmd)\n",
    "        resp2 = send_command('QS????')\n",
    "        resp3 = send_command('QC????')\n",
    "        print('HCDBG:{:2}| {:10} | {:20} | {:2} | {:4}'.format(i,cmd,resp1,resp2,resp3))\n",
    "        if (resp1 != expected_r[i]):\n",
    "            print('HCDBG: Wrong resp {}, wanted {}'.format(resp1,expected_r[i]))\n",
    "        if (resp2 != str(expected_s[i])):\n",
    "            print('HCDBG: Wrong S {}, wanted {}'.format(resp2,expected_s[i]))\n",
    "        if (resp3 != str(expected_c[i])):\n",
    "            print('HCDBG: Wrong C {}, wanted {}'.format(resp3,expected_c[i]))\n",
    "        time.sleep(1)\n",
    "    send_command('SC0000')\n",
    "    send_command('OFF000')"
   ]
  },
  {
   "cell_type": "code",
   "execution_count": null,
   "metadata": {
    "collapsed": true
   },
   "outputs": [],
   "source": []
  },
  {
   "cell_type": "code",
   "execution_count": 17,
   "metadata": {},
   "outputs": [
    {
     "data": {
      "text/plain": [
       "'0'"
      ]
     },
     "execution_count": 17,
     "metadata": {},
     "output_type": "execute_result"
    }
   ],
   "source": [
    "send_command('QS????')"
   ]
  },
  {
   "cell_type": "code",
   "execution_count": 18,
   "metadata": {},
   "outputs": [
    {
     "data": {
      "text/plain": [
       "'0'"
      ]
     },
     "execution_count": 18,
     "metadata": {},
     "output_type": "execute_result"
    }
   ],
   "source": [
    "send_command('QC????')"
   ]
  },
  {
   "cell_type": "code",
   "execution_count": 26,
   "metadata": {},
   "outputs": [
    {
     "data": {
      "text/plain": [
       "'OK'"
      ]
     },
     "execution_count": 26,
     "metadata": {},
     "output_type": "execute_result"
    }
   ],
   "source": [
    "send_command('ON0000')"
   ]
  },
  {
   "cell_type": "code",
   "execution_count": 34,
   "metadata": {},
   "outputs": [
    {
     "data": {
      "text/plain": [
       "'OK'"
      ]
     },
     "execution_count": 34,
     "metadata": {},
     "output_type": "execute_result"
    }
   ],
   "source": [
    "send_command('SC0001')"
   ]
  },
  {
   "cell_type": "markdown",
   "metadata": {},
   "source": [
    "def handle_data(data):\n",
    "    print(data)\n",
    "\n",
    "def read_from_port(ser):\n",
    "    while not connected:\n",
    "        #serin = ser.read()\n",
    "        connected = True\n",
    "\n",
    "        while True:\n",
    "           print(\"test\")\n",
    "           reading = ser.readline().decode()\n",
    "           handle_data(reading)\n",
    "\n",
    "thread = threading.Thread(target=read_from_port, args=(serial_port,))\n",
    "thread.start()"
   ]
  },
  {
   "cell_type": "code",
   "execution_count": null,
   "metadata": {
    "collapsed": true
   },
   "outputs": [],
   "source": [
    "ser.in_waiting"
   ]
  },
  {
   "cell_type": "code",
   "execution_count": null,
   "metadata": {
    "collapsed": true
   },
   "outputs": [],
   "source": [
    "ser.readline()"
   ]
  },
  {
   "cell_type": "code",
   "execution_count": null,
   "metadata": {
    "collapsed": true
   },
   "outputs": [],
   "source": [
    "ser.readable()"
   ]
  },
  {
   "cell_type": "code",
   "execution_count": null,
   "metadata": {
    "collapsed": true
   },
   "outputs": [],
   "source": []
  },
  {
   "cell_type": "code",
   "execution_count": 13,
   "metadata": {
    "collapsed": true
   },
   "outputs": [],
   "source": [
    "ser.close()"
   ]
  },
  {
   "cell_type": "code",
   "execution_count": null,
   "metadata": {
    "collapsed": true
   },
   "outputs": [],
   "source": []
  }
 ],
 "metadata": {
  "kernelspec": {
   "display_name": "Python 3",
   "language": "python",
   "name": "python3"
  },
  "language_info": {
   "codemirror_mode": {
    "name": "ipython",
    "version": 3
   },
   "file_extension": ".py",
   "mimetype": "text/x-python",
   "name": "python",
   "nbconvert_exporter": "python",
   "pygments_lexer": "ipython3",
   "version": "3.4.2"
  }
 },
 "nbformat": 4,
 "nbformat_minor": 2
}
