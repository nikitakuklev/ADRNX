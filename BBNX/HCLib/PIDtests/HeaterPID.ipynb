{
 "cells": [
  {
   "cell_type": "code",
   "execution_count": null,
   "metadata": {
    "collapsed": true
   },
   "outputs": [],
   "source": [
    "\"\"\"\n",
    "This script is to be imported by any software that wants to PID\n",
    "the black body. It will establist connection with the diode thermistor\n",
    "on the specified channel for feedback.\n",
    "\n",
    "\"\"\"\n",
    "# Constants\n",
    "SIM_win = 'COM1' # SIM address on windows\n",
    "SIM_unix = ['/dev/ttyUSB0','/dev/ttyUSB1']\n",
    "debug = 1\n",
    "\n",
    "def prepareSerial:\n",
    "    # Prepare serial port\n",
    "    ser = serial.Serial()\n",
    "\n",
    "    ser.baudrate = 9600\n",
    "    ser.timeout = 0.2        # Return immediately\n",
    "    ser.write_Timeout = 0.5  # Wait for write to complete\n",
    "\n",
    "    ser.bytesize = serial.EIGHTBITS #number of bits per bytes\n",
    "    ser.parity = serial.PARITY_NONE #set parity check: no parity\n",
    "    ser.stopbits = serial.STOPBITS_ONE #number of stop bits\n",
    "\n",
    "    ser.xonxoff = False\n",
    "    ser.rtscts= False\n",
    "    ser.dsrdtr = False\n",
    "\n",
    "    if(debug): print('HCDBG: Port ready: {}'.format(ser))\n",
    "    return ser\n",
    "\n",
    "def DiodeTemp(channel_no):\n",
    "    #connect and read Diode Monitor SIM 922\n",
    "    ser = serial.Serial('COM1',9600,timeout=1)\n",
    "    time.sleep(0.2)\n",
    "    string1 = 'CONN 6, \"dde\"\\n'\n",
    "    ser.write(string1)\n",
    "    string2 = 'TVAL?' + str(channel_no) + '\\n'\n",
    "    ser.write(string2)\n",
    "    time.sleep(0.2)\n",
    "    response = ser.read(64)\n",
    "    time.sleep(0.2)\n",
    "    ser.write('dde\\n')\n",
    "    ser.close()\n",
    "    return float(response)"
   ]
  },
  {
   "cell_type": "code",
   "execution_count": null,
   "metadata": {
    "collapsed": true
   },
   "outputs": [],
   "source": []
  }
 ],
 "metadata": {
  "kernelspec": {
   "display_name": "Python 3",
   "language": "python",
   "name": "python3"
  },
  "language_info": {
   "codemirror_mode": {
    "name": "ipython",
    "version": 3
   },
   "file_extension": ".py",
   "mimetype": "text/x-python",
   "name": "python",
   "nbconvert_exporter": "python",
   "pygments_lexer": "ipython3",
   "version": "3.4.2"
  }
 },
 "nbformat": 4,
 "nbformat_minor": 2
}
