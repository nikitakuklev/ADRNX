{
 "cells": [
  {
   "cell_type": "code",
   "execution_count": 1,
   "metadata": {},
   "outputs": [
    {
     "data": {
      "text/plain": [
       "'\\nHeaterController class that provides all the methods\\nrequired to control HC module. It looks through any ports\\nin appropriate devicelist, listening for key hello messages.\\n\\nSee readme.md for more information on protocol\\n\\n06/14/2017 Nikita Kuklev\\n'"
      ]
     },
     "execution_count": 1,
     "metadata": {},
     "output_type": "execute_result"
    }
   ],
   "source": [
    "\"\"\"\n",
    "HeaterController class provides all the methods\n",
    "required to control HC module. It looks through any ports\n",
    "in appropriate devicelist, listening for key hello messages.\n",
    "\n",
    "See readme.md for more information on protocol\n",
    "\n",
    "06/14/2017 Nikita Kuklev\n",
    "\"\"\""
   ]
  },
  {
   "cell_type": "code",
   "execution_count": 2,
   "metadata": {
    "collapsed": true
   },
   "outputs": [],
   "source": [
    "import serial, threading, sys, time\n",
    "import numpy as np"
   ]
  },
  {
   "cell_type": "code",
   "execution_count": 3,
   "metadata": {
    "collapsed": true
   },
   "outputs": [],
   "source": [
    "# Constants\n",
    "devicelist_win = ['COM4','COM3'] # List of devices that will be attempted, in order\n",
    "devicelist_unix = ['/dev/ttyUSB0','/dev/ttyUSB1']\n",
    "devicekey = 'HCA011' # HeaterControl type A0 and serial number 11\n",
    "debug = 1\n",
    "run_tests = 1"
   ]
  },
  {
   "cell_type": "code",
   "execution_count": 4,
   "metadata": {},
   "outputs": [
    {
     "name": "stdout",
     "output_type": "stream",
     "text": [
      "HCDBG: Platform (win32) -> device list is ['COM4', 'COM3']\n"
     ]
    }
   ],
   "source": [
    "# Detect opeating system and choose right device list\n",
    "if sys.platform.startswith('win'):\n",
    "    devicelist = devicelist_win\n",
    "elif sys.platform.startswith('linux') or sys.platform.startswith('cygwin'):\n",
    "    devicelist = devicelist_unix\n",
    "else:\n",
    "    raise EnvironmentError('Unsupported platform')\n",
    "    \n",
    "if(debug): print('HCDBG: Platform ({}) -> device list is {}'.format(sys.platform,devicelist))"
   ]
  },
  {
   "cell_type": "code",
   "execution_count": 5,
   "metadata": {},
   "outputs": [
    {
     "name": "stdout",
     "output_type": "stream",
     "text": [
      "HCDBG: Port ready: Serial<id=0x260ea2aa2b0, open=False>(port=None, baudrate=9600, bytesize=8, parity='N', stopbits=1, timeout=0.2, xonxoff=False, rtscts=False, dsrdtr=False)\n"
     ]
    }
   ],
   "source": [
    "# Prepare serial port\n",
    "ser = serial.Serial()\n",
    "\n",
    "ser.baudrate = 9600\n",
    "ser.timeout = 0.2        # Return immediately\n",
    "ser.write_Timeout = 0.5  # Wait for write to complete\n",
    "\n",
    "ser.bytesize = serial.EIGHTBITS #number of bits per bytes\n",
    "ser.parity = serial.PARITY_NONE #set parity check: no parity\n",
    "ser.stopbits = serial.STOPBITS_ONE #number of stop bits\n",
    "\n",
    "ser.xonxoff = False\n",
    "ser.rtscts= False\n",
    "ser.dsrdtr = False\n",
    "\n",
    "if(debug): print('HCDBG: Port ready: {}'.format(ser))"
   ]
  },
  {
   "cell_type": "code",
   "execution_count": 7,
   "metadata": {
    "scrolled": true
   },
   "outputs": [
    {
     "name": "stdout",
     "output_type": "stream",
     "text": [
      "HCDBG: Starting device search\n",
      "HCDBG: Port COM4 did not work, exception: could not open port 'COM4': FileNotFoundError(2, 'The system cannot find the file specified.', None, 2)\n",
      "HCDBG: Port COM3 incorrect msg: I am HeaterController: 1E 95 F\n",
      "HCDBG: Port COM3 incorrect msg: Type: A0\n",
      "HCDBG: Port COM3 incorrect msg: FW: 12\n",
      "HCDBG: Port COM3 incorrect msg: SN: 11\n",
      "HCDBG: Port COM3 incorrect msg: Freq: 16000000\n",
      "HCDBG: Port COM3 incorrect msg: Checking EEPROM...TYPE OK...SN OK!\n",
      "HCDBG: Port COM3 incorrect msg: Timer 1 setup: TOP=31250 and f=4\n",
      "HCDBG: Port COM3 CORRECT msg: HCA011\n",
      "HCDBG: Found device on port COM3 -> connected!\n"
     ]
    }
   ],
   "source": [
    "devicefound = False\n",
    "deviceportname = ''\n",
    "linelim = 20\n",
    "if(debug): print('HCDBG: Starting device search')\n",
    "for device in devicelist:\n",
    "    try:\n",
    "        ser.port = device\n",
    "        if (ser.isOpen()):\n",
    "            if(debug): print('HCDBG: Port {} already open, skipping'.format(device))\n",
    "            #ser.close()\n",
    "        else:\n",
    "            ser.open()\n",
    "            time.sleep(1)\n",
    "            for i in range(1,linelim):\n",
    "                ln = ser.readline().decode('ASCII').rstrip()\n",
    "                time.sleep(0.1)\n",
    "                if(ln == devicekey):\n",
    "                    devicefound = True\n",
    "                    deviceportname = device\n",
    "                    if(debug): print('HCDBG: Port {} CORRECT msg: {}'.format(device, ln))\n",
    "                    break  \n",
    "                else:\n",
    "                    if(debug): print('HCDBG: Port {} incorrect msg: {}'.format(device, ln))\n",
    "        \n",
    "    except serial.SerialException as err:\n",
    "        if(debug): print('HCDBG: Port {} did not work, exception: {}'.format(device, err))\n",
    "\n",
    "    finally:\n",
    "        if (not devicefound):\n",
    "            ser.close()\n",
    "        else:\n",
    "            break\n",
    "        \n",
    "if(not devicefound):\n",
    "    print('HC: Did not find any suitable ports -> terminating')\n",
    "    raise EnvironmentError('No appropriate devices found!')\n",
    "else:\n",
    "    dp = ser\n",
    "    if(debug): print('HCDBG: Found device on port {} -> connected!'.format(device))"
   ]
  },
  {
   "cell_type": "code",
   "execution_count": 8,
   "metadata": {},
   "outputs": [
    {
     "name": "stdout",
     "output_type": "stream",
     "text": [
      "HCDBG: Device READY!\n"
     ]
    }
   ],
   "source": [
    "# Reply with greeting\n",
    "time.sleep(0.1)\n",
    "dp.write((devicekey+'\\n').encode('ASCII'))\n",
    "time.sleep(0.01)\n",
    "dp.reset_input_buffer()\n",
    "dp.reset_output_buffer()\n",
    "time.sleep(0.5)\n",
    "rdyresp = dp.readline().decode('ASCII').rstrip()\n",
    "if(rdyresp == \"RDY\"):\n",
    "    if(debug): print('HCDBG: Device READY!')\n",
    "else:\n",
    "    if(debug): print('HCDBG: Device rdy reply was {}'.format(rdyresp))\n",
    "    raise EnvironmentError('Device did not reply it was ready')"
   ]
  },
  {
   "cell_type": "code",
   "execution_count": 9,
   "metadata": {
    "collapsed": true
   },
   "outputs": [],
   "source": [
    "def send_command(msg):\n",
    "    msg = msg+'\\n'\n",
    "    msg = msg.encode('ASCII')\n",
    "    dp.write(msg)\n",
    "    time.sleep(0.05)\n",
    "    return dp.readline().decode('ASCII').rstrip()"
   ]
  },
  {
   "cell_type": "code",
   "execution_count": 10,
   "metadata": {
    "scrolled": true
   },
   "outputs": [
    {
     "name": "stdout",
     "output_type": "stream",
     "text": [
      "HCDBG: Device type is A0\n",
      "HCDBG: Device serial is 11\n",
      "HCDBG: Device status is 0\n",
      "HCDBG: Device duty cycle is 0\n"
     ]
    }
   ],
   "source": [
    "if (debug):\n",
    "    print('HCDBG: Device type is {}'.format(send_command('TYPE??')))\n",
    "    print('HCDBG: Device serial is {}'.format(send_command('SN????')))\n",
    "    print('HCDBG: Device status is {}'.format(send_command('QS????')))\n",
    "    print('HCDBG: Device duty cycle is {}'.format(send_command('QC????')))"
   ]
  },
  {
   "cell_type": "code",
   "execution_count": 11,
   "metadata": {
    "scrolled": true
   },
   "outputs": [
    {
     "name": "stdout",
     "output_type": "stream",
     "text": [
      "HCDBG:    Command    | R                    | S  | C    \n",
      "HCDBG: 0| ON0000     | OK                   | 1  | 0   \n",
      "HCDBG: 1| OFF000     | OK                   | 0  | 0   \n",
      "HCDBG: 2| ON0000     | OK                   | 1  | 0   \n",
      "HCDBG: 3| SC0000     | OK                   | 1  | 0   \n",
      "HCDBG: 4| SC9999     | OK                   | 1  | 9999\n",
      "HCDBG: 5| SC0000     | OK                   | 1  | 0   \n",
      "HCDBG: 6| SC1000     | OK                   | 1  | 1000\n",
      "HCDBG: 7| SC0000     | OK                   | 1  | 0   \n",
      "HCDBG: 8| SC9999     | OK                   | 1  | 9999\n",
      "HCDBG: 9| OFF000     | OK                   | 0  | 9999\n",
      "HCDBG:10| ON0000     | OK                   | 1  | 9999\n",
      "HCDBG:11| OFF000     | OK                   | 0  | 9999\n",
      "HCDBG:12| SC0000     | OK                   | 0  | 0   \n",
      "HCDBG:13| BLA        | BAD CMD LEN          | 0  | 0   \n",
      "HCDBG:14| 666666     | BAD CMD              | 0  | 0   \n",
      "HCDBG:15| SC-100     | BAD SC NUMBER        | 0  | 0   \n",
      "HCDBG:16| SC100+     | BAD SC NUMBER        | 0  | 0   \n",
      "HCDBG:17|            | BAD CMD LEN          | 0  | 0   \n"
     ]
    }
   ],
   "source": [
    "#Testing block\n",
    "if(run_tests): \n",
    "    dp.reset_input_buffer()\n",
    "    dp.reset_output_buffer()\n",
    "    commands = ['ON0000','OFF000','ON0000','SC0000','SC9999','SC0000','SC1000',\\\n",
    "              'SC0000','SC9999','OFF000','ON0000','OFF000','SC0000','BLA',\\\n",
    "               '666666','SC-100','SC100+','']\n",
    "    expected_s = [1,0,1,1,1,1,1\\\n",
    "                  ,1,1,0,1,0,0,0,\\\n",
    "                 0,0,0,0,0,0,0]\n",
    "    expected_c = [0,0,0,0,9999,0,1000,\\\n",
    "                  0,9999,9999,9999,9999,0,\\\n",
    "                 0,0,0,0,0,0,0]\n",
    "    expected_r = ['OK','OK','OK','OK','OK','OK','OK',\\\n",
    "                  'OK','OK','OK','OK','OK','OK','BAD CMD LEN',\\\n",
    "                 'BAD CMD','BAD SC NUMBER','BAD SC NUMBER','BAD CMD LEN','BAD CMD LEN']\n",
    "    print('HCDBG:    Command {:2} | R{:19} | S{:1} | C{:4}'.format('','','',''))\n",
    "    for i,cmd  in enumerate(commands): \n",
    "        resp1 = send_command(cmd)\n",
    "        resp2 = send_command('QS????')\n",
    "        resp3 = send_command('QC????')\n",
    "        print('HCDBG:{:2}| {:10} | {:20} | {:2} | {:4}'.format(i,cmd,resp1,resp2,resp3))\n",
    "        if (resp1 != expected_r[i]):\n",
    "            print('HCDBG: Wrong resp {}, wanted {}'.format(resp1,expected_r[i]))\n",
    "        if (resp2 != str(expected_s[i])):\n",
    "            print('HCDBG: Wrong S {}, wanted {}'.format(resp2,expected_s[i]))\n",
    "        if (resp3 != str(expected_c[i])):\n",
    "            print('HCDBG: Wrong C {}, wanted {}'.format(resp3,expected_c[i]))"
   ]
  },
  {
   "cell_type": "code",
   "execution_count": null,
   "metadata": {
    "collapsed": true
   },
   "outputs": [],
   "source": []
  },
  {
   "cell_type": "code",
   "execution_count": 33,
   "metadata": {},
   "outputs": [
    {
     "data": {
      "text/plain": [
       "'1'"
      ]
     },
     "execution_count": 33,
     "metadata": {},
     "output_type": "execute_result"
    }
   ],
   "source": [
    "send_command('QS????')"
   ]
  },
  {
   "cell_type": "code",
   "execution_count": 64,
   "metadata": {},
   "outputs": [
    {
     "data": {
      "text/plain": [
       "'0'"
      ]
     },
     "execution_count": 64,
     "metadata": {},
     "output_type": "execute_result"
    }
   ],
   "source": [
    "send_command('QC????')"
   ]
  },
  {
   "cell_type": "code",
   "execution_count": 12,
   "metadata": {},
   "outputs": [
    {
     "data": {
      "text/plain": [
       "'OK'"
      ]
     },
     "execution_count": 12,
     "metadata": {},
     "output_type": "execute_result"
    }
   ],
   "source": [
    "send_command('ON0000')"
   ]
  },
  {
   "cell_type": "code",
   "execution_count": 13,
   "metadata": {},
   "outputs": [
    {
     "data": {
      "text/plain": [
       "'OK'"
      ]
     },
     "execution_count": 13,
     "metadata": {},
     "output_type": "execute_result"
    }
   ],
   "source": [
    "send_command('SC9999')"
   ]
  },
  {
   "cell_type": "markdown",
   "metadata": {},
   "source": [
    "def handle_data(data):\n",
    "    print(data)\n",
    "\n",
    "def read_from_port(ser):\n",
    "    while not connected:\n",
    "        #serin = ser.read()\n",
    "        connected = True\n",
    "\n",
    "        while True:\n",
    "           print(\"test\")\n",
    "           reading = ser.readline().decode()\n",
    "           handle_data(reading)\n",
    "\n",
    "thread = threading.Thread(target=read_from_port, args=(serial_port,))\n",
    "thread.start()"
   ]
  },
  {
   "cell_type": "code",
   "execution_count": null,
   "metadata": {
    "collapsed": true
   },
   "outputs": [],
   "source": [
    "ser.in_waiting"
   ]
  },
  {
   "cell_type": "code",
   "execution_count": null,
   "metadata": {
    "collapsed": true
   },
   "outputs": [],
   "source": [
    "ser.readline()"
   ]
  },
  {
   "cell_type": "code",
   "execution_count": null,
   "metadata": {
    "collapsed": true
   },
   "outputs": [],
   "source": [
    "ser.readable()"
   ]
  },
  {
   "cell_type": "code",
   "execution_count": null,
   "metadata": {
    "collapsed": true
   },
   "outputs": [],
   "source": []
  },
  {
   "cell_type": "code",
   "execution_count": 103,
   "metadata": {
    "collapsed": true
   },
   "outputs": [],
   "source": [
    "ser.close()"
   ]
  },
  {
   "cell_type": "code",
   "execution_count": null,
   "metadata": {
    "collapsed": true
   },
   "outputs": [],
   "source": []
  }
 ],
 "metadata": {
  "kernelspec": {
   "display_name": "Python 3",
   "language": "python",
   "name": "python3"
  },
  "language_info": {
   "codemirror_mode": {
    "name": "ipython",
    "version": 3
   },
   "file_extension": ".py",
   "mimetype": "text/x-python",
   "name": "python",
   "nbconvert_exporter": "python",
   "pygments_lexer": "ipython3",
   "version": "3.6.1"
  }
 },
 "nbformat": 4,
 "nbformat_minor": 2
}
