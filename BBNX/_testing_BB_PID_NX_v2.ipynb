{
 "cells": [
  {
   "cell_type": "code",
   "execution_count": 1,
   "metadata": {
    "collapsed": true
   },
   "outputs": [],
   "source": [
    "%matplotlib inline"
   ]
  },
  {
   "cell_type": "code",
   "execution_count": 2,
   "metadata": {
    "collapsed": true
   },
   "outputs": [],
   "source": [
    "import serial, threading, sys, time\n",
    "sys.path.append('/home/pi/Desktop/ADR_NX/Utils')\n",
    "sys.path.append('/home/pi/Desktop/ADR_NX/Mainframe')\n",
    "from adr_PID import ADR_PID\n",
    "import adr_utils, SIM900_controller, SIM921, SIM922, SIM960\n",
    "import numpy as np\n",
    "import matplotlib.pyplot as plt\n",
    "from timeit import default_timer as timer\n",
    "from HCLib import HeaterController"
   ]
  },
  {
   "cell_type": "code",
   "execution_count": 3,
   "metadata": {
    "collapsed": true
   },
   "outputs": [],
   "source": [
    "debug = 1\n",
    "HC = HeaterController.HeaterController()\n",
    "HC.debug = 0\n",
    "HC.establish_comms()"
   ]
  },
  {
   "cell_type": "code",
   "execution_count": 4,
   "metadata": {},
   "outputs": [
    {
     "name": "stdout",
     "output_type": "stream",
     "text": [
      "Input loop started\n",
      "Input read thread is up!\n",
      "Output loop started\n"
     ]
    }
   ],
   "source": [
    "mfc = SIM900_controller.SIM900()\n",
    "mfc.init_and_open_connection()\n",
    "mfc.start_input_loop()\n",
    "mfc.start_output_loop()\n",
    "s921 = SIM921.SIM921(mfc)\n",
    "s922 = SIM922.SIM922(mfc)\n",
    "s960 = SIM960.SIM960(mfc)"
   ]
  },
  {
   "cell_type": "code",
   "execution_count": 5,
   "metadata": {},
   "outputs": [
    {
     "data": {
      "text/plain": [
       "15"
      ]
     },
     "execution_count": 5,
     "metadata": {},
     "output_type": "execute_result"
    }
   ],
   "source": [
    "HC.set_dutycycle(0)\n",
    "HC.set_onoff(0)\n",
    "mfc.get_serial_object().write(\"SNDT 6,\\\"SOUT\\n\\\"\\n\")"
   ]
  },
  {
   "cell_type": "code",
   "execution_count": 6,
   "metadata": {},
   "outputs": [
    {
     "name": "stdout",
     "output_type": "stream",
     "text": [
      "OQADD (t:0): |*IDN?\\n|\n",
      "OQSEND (t:0): |*IDN?\\n|\n",
      "Read line: 'Stanford_Research_Systems,SIM900,s/n130132,ver3.6\\r\\n'\n",
      "GOT MSG -> S0:'Stanford_Research_Systems,SIM900,s/n130132,ver3.6'\n",
      "GOT RESP IN 0.096184015274\n",
      "OQADD (t:0): |RPER 74\\n|\n",
      "OQSEND (t:0): |RPER 74\\n|\n"
     ]
    }
   ],
   "source": [
    "mfc.get_IDN()\n",
    "mfc.set_RPER([s921.MODNUM, s922.MODNUM, s960.MODNUM])"
   ]
  },
  {
   "cell_type": "code",
   "execution_count": 7,
   "metadata": {},
   "outputs": [
    {
     "name": "stdout",
     "output_type": "stream",
     "text": [
      "OQADD (t:0): |SNDT 6,\"TVAL? 4,0\\n\"\\n|OQSEND (t:0): |SNDT 6,\"TVAL? 4,0\\n\"\\n|\n",
      "\n",
      "Read line: 'MSG 6,#2142.972000E+00\\r\\n'\n",
      "GOT MSG -> S6:'2.972000E+00'\n",
      "Got temperature data: 2.972000E+00|17:58:30.489652\n",
      "Blank line ignored!\n",
      "Read line: 'MSG 6,#2142.972000E+00\\r\\n'\n",
      "GOT MSG -> S6:'2.972000E+00'\n",
      "Got temperature data: 2.972000E+00|17:58:31.288751\n",
      "Blank line ignored!\n",
      "OQADD (t:0): |SNDT 6,\"SOUT \\n\"\\n|\n",
      "OQSEND (t:0): |SNDT 6,\"SOUT \\n\"\\n|\n"
     ]
    }
   ],
   "source": [
    "s922.start_data_stream()\n",
    "s922.newdataevent.wait(20)\n",
    "time.sleep(1)\n",
    "s922.stop_data_stream()"
   ]
  },
  {
   "cell_type": "code",
   "execution_count": 8,
   "metadata": {},
   "outputs": [
    {
     "name": "stdout",
     "output_type": "stream",
     "text": [
      "OQADD (t:0): |SNDT 1,\"TVAL? 0\\n\"\\n|\n",
      "OQSEND (t:0): |SNDT 1,\"TVAL? 0\\n\"\\n|\n",
      "Read line: 'MSG 1,#215+1.249154E-01\\r\\n'\n",
      "GOT MSG -> S1:'+1.249154E-01'\n",
      "Got temperature data: +1.249154E-01|17:58:46.557722\n",
      "Blank line ignored!\n",
      "OQADD (t:0): |SNDT 1,\"SOUT \\n\"\\n|\n",
      "OQSEND (t:0): |SNDT 1,\"SOUT \\n\"\\n|\n"
     ]
    }
   ],
   "source": [
    "s921.start_data_stream()\n",
    "s921.newdataevent.wait(20)\n",
    "time.sleep(1)\n",
    "s921.stop_data_stream()"
   ]
  },
  {
   "cell_type": "code",
   "execution_count": 18,
   "metadata": {},
   "outputs": [
    {
     "name": "stdout",
     "output_type": "stream",
     "text": [
      "Read line: 'MSG 6,#2142.006700E+01\\r\\n'\n",
      "Blank line ignored!\n",
      "GOT MSG -> S6:'2.006700E+01'\n",
      "Got temperature data: 2.006700E+01|18:58:57.676164\n",
      "5.50712030455|20.067|1196\n",
      "Read line: 'MSG 1,#215+1.722018E-01\\r\\n'\n",
      "GOT MSG -> S1:'+1.722018E-01'\n",
      "Got temperature data: +1.722018E-01|18:58:58.162149\n",
      "Blank line ignored!\n",
      "Read line: 'MSG 6,#2142.006700E+01\\r\\n'\n",
      "GOT MSG -> S6:'2.006700E+01'\n",
      "Got temperature data: 2.006700E+01|18:58:58.465977\n",
      "Blank line ignored!\n",
      "5.50459193974|20.067|1197\n",
      "Read line: 'MSG 6,#2142.006700E+01\\r\\n'\n",
      "Blank line ignored!\n",
      "GOT MSG -> S6:'2.006700E+01'\n",
      "Got temperature data: 2.006700E+01|18:58:59.264236\n",
      "5.50195799227|20.067|1198\n",
      "Read line: 'MSG 6,#2142.006800E+01\\r\\n'\n",
      "Blank line ignored!\n",
      "GOT MSG -> S6:'2.006800E+01'\n",
      "Got temperature data: 2.006800E+01|18:59:00.073978\n",
      "5.49215697685|20.068|1199\n",
      "OQADD (t:0): |SNDT 6,\"SOUT \\n\"\\n|\n",
      "OQSEND (t:0): |SNDT 6,\"SOUT \\n\"\\n|OQADD (t:0): |SNDT 1,\"SOUT \\n\"\\n|\n",
      "\n",
      "Read line: 'MSG 1,#215+1.718597E-01\\r\\n'\n",
      "OQSEND (t:0): |SNDT 1,\"SOUT \\n\"\\n|\n",
      "GOT MSG -> S1:'+1.718597E-01'Blank line ignored!\n",
      "\n"
     ]
    }
   ],
   "source": [
    "from IPython.display import clear_output\n",
    "P = 7.0\n",
    "I = 0.05\n",
    "D = 0.1\n",
    "pid = ADR_PID(P,I,D,0)\n",
    "pid.SetPoint = 20.0\n",
    "pid.setSlewLimit(0.5)\n",
    "s922.start_data_stream()\n",
    "s921.start_data_stream()\n",
    "HC.set_onoff(1)\n",
    "start = timer()\n",
    "\n",
    "temps = []\n",
    "times = []\n",
    "temps_st = []\n",
    "for i in range(1,1200):    \n",
    "    s922.newdataevent.wait(5)\n",
    "    s922.newdataevent.clear()\n",
    "    \n",
    "    temp_st = s921.lasttemperature\n",
    "    temps_st.append(temp_st)\n",
    "    \n",
    "    temp = s922.lasttemperature\n",
    "    if (temp > 40.0):\n",
    "        continue\n",
    "        #raise IOError(\"WRONG TEMP?\")\n",
    "    else:        \n",
    "        if (time == s922.lastdatatime):\n",
    "            HC.set_onoff(0)\n",
    "            s922.stop_data_stream()\n",
    "            #raise IOError(\"STUCK\")\n",
    "        time = s922.lastdatatime\n",
    "        temps.append(temp)\n",
    "        times.append(timer()-start)    \n",
    "        pid.update(temp)\n",
    "        output = pid.output\n",
    "        if output < 0.0 or output > 100.0:\n",
    "            continue\n",
    "        else:\n",
    "            HC.set_dutycycle(output)\n",
    "    print(\"{}|{}|{}\".format(str(output),str(temp),str(i)))\n",
    "    if i%5 == 0:\n",
    "        clear_output()\n",
    "    \n",
    "HC.set_onoff(0)\n",
    "s922.stop_data_stream()\n",
    "s921.stop_data_stream()"
   ]
  },
  {
   "cell_type": "code",
   "execution_count": 17,
   "metadata": {},
   "outputs": [
    {
     "name": "stdout",
     "output_type": "stream",
     "text": [
      "OQSEND (t:0): |SNDT 6,\"SOUT \\n\"\\n|OQADD (t:0): |SNDT 6,\"SOUT \\n\"\\n|\n",
      "\n",
      "OQADD (t:0): |SNDT 1,\"SOUT \\n\"\\n|\n"
     ]
    },
    {
     "data": {
      "text/plain": [
       "15"
      ]
     },
     "execution_count": 17,
     "metadata": {},
     "output_type": "execute_result"
    },
    {
     "name": "stdout",
     "output_type": "stream",
     "text": [
      "OQSEND (t:0): |SNDT 1,\"SOUT \\n\"\\n|\n"
     ]
    }
   ],
   "source": [
    "s922.stop_data_stream()\n",
    "s921.stop_data_stream()\n",
    "mfc.get_serial_object().write(\"SNDT 6,\\\"SOUT\\n\\\"\\n\")"
   ]
  },
  {
   "cell_type": "code",
   "execution_count": null,
   "metadata": {
    "collapsed": true
   },
   "outputs": [],
   "source": [
    "HC.set_onoff(0)\n",
    "s922.stop_data_stream()"
   ]
  },
  {
   "cell_type": "code",
   "execution_count": 23,
   "metadata": {
    "collapsed": true
   },
   "outputs": [],
   "source": [
    "t1 = [x if x> 8 else 20.0 for x in temps]\n",
    "t2 = [x if x< 0.2 else 0.170 for x in temps_st]\n",
    "t2 = [x if x> 0.112 else 0.170 for x in t2]"
   ]
  },
  {
   "cell_type": "code",
   "execution_count": 21,
   "metadata": {},
   "outputs": [
    {
     "data": {
      "text/plain": [
       "list"
      ]
     },
     "execution_count": 21,
     "metadata": {},
     "output_type": "execute_result"
    }
   ],
   "source": [
    "type(times)"
   ]
  },
  {
   "cell_type": "code",
   "execution_count": 24,
   "metadata": {},
   "outputs": [
    {
     "data": {
      "image/png": "[encoded data removed]",
      "text/plain": [
       "<matplotlib.figure.Figure at 0x6c015590>"
      ]
     },
     "metadata": {},
     "output_type": "display_data"
    },
    {
     "data": {
      "image/png": "[encoded data removed]",
      "text/plain": [
       "<matplotlib.figure.Figure at 0x6bf8cf90>"
      ]
     },
     "metadata": {},
     "output_type": "display_data"
    }
   ],
   "source": [
    "fig = plt.figure()\n",
    "plt.plot(times,t1,'-')\n",
    "plt.xlabel(\"Time (s)\")\n",
    "plt.ylabel(\"Temperature (K)\")\n",
    "plt.show()\n",
    "\n",
    "fig = plt.figure()\n",
    "plt.plot(times,t2,'-')\n",
    "plt.xlabel(\"Time (s)\")\n",
    "plt.ylabel(\"Temperature (K)\")\n",
    "plt.show()"
   ]
  },
  {
   "cell_type": "code",
   "execution_count": null,
   "metadata": {
    "collapsed": true
   },
   "outputs": [],
   "source": [
    "from IPython.display import clear_output\n",
    "s921.start_data_stream()\n",
    "start = timer()\n",
    "temps = []\n",
    "times = []\n",
    "for i in range(1,50):    \n",
    "    s921.newdataevent.wait(5)\n",
    "    s921.newdataevent.clear()\n",
    "    temp = s921.lasttemperature    \n",
    "    if (temp > 40.0):\n",
    "        raise IOError(\"WRONG TEMP?\")\n",
    "    if (time == s921.lastdatatime):\n",
    "        HC.set_onoff(0)\n",
    "        s921.stop_data_stream()\n",
    "        raise IOError(\"STUCK\")\n",
    "    time = s921.lastdatatime\n",
    "    \n",
    "    temps.append(temp)\n",
    "    times.append(timer()-start)\n",
    "    print(\"{}|{}|{}\".format(temp,time,i))\n",
    "    if i%10 == 0:\n",
    "        clear_output()\n",
    "    \n",
    "s921.stop_data_stream()"
   ]
  },
  {
   "cell_type": "code",
   "execution_count": null,
   "metadata": {
    "collapsed": true
   },
   "outputs": [],
   "source": [
    "fig = plt.figure()\n",
    "plt.plot(times,temps,'-')\n",
    "plt.xlabel(\"Time (s)\")\n",
    "plt.ylabel(\"Temperature (K)\")\n",
    "plt.show()\n",
    "fig = plt.figure()\n",
    "plt.plot(times[-50:],temps[-50:],'-')\n",
    "plt.xlabel(\"Time (s)\")\n",
    "plt.ylabel(\"Temperature (K)\")\n",
    "plt.show()"
   ]
  },
  {
   "cell_type": "code",
   "execution_count": null,
   "metadata": {
    "collapsed": true
   },
   "outputs": [],
   "source": [
    "mfc.stop_input_loop()\n",
    "mfc.stop_output_loop()"
   ]
  },
  {
   "cell_type": "code",
   "execution_count": null,
   "metadata": {
    "collapsed": true
   },
   "outputs": [],
   "source": [
    "s921.stop_data_stream()\n",
    "mfc.get_serial_object().write(\"SNDT 1,\\\"SOUT\\n\\\"\\n\")"
   ]
  },
  {
   "cell_type": "code",
   "execution_count": null,
   "metadata": {
    "collapsed": true
   },
   "outputs": [],
   "source": []
  }
 ],
 "metadata": {
  "kernelspec": {
   "display_name": "Python 2",
   "language": "python",
   "name": "python2"
  },
  "language_info": {
   "codemirror_mode": {
    "name": "ipython",
    "version": 2
   },
   "file_extension": ".py",
   "mimetype": "text/x-python",
   "name": "python",
   "nbconvert_exporter": "python",
   "pygments_lexer": "ipython2",
   "version": "2.7.9"
  }
 },
 "nbformat": 4,
 "nbformat_minor": 2
}
