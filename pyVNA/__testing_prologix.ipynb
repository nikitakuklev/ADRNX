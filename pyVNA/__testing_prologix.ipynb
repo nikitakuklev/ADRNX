{
 "cells": [
  {
   "cell_type": "code",
   "execution_count": 46,
   "metadata": {
    "collapsed": true
   },
   "outputs": [],
   "source": [
    "import serial,sys\n",
    "ser = serial.Serial()\n",
    "ser.port = \"/dev/ttyUSB1\"\n",
    "ser.baudrate = 9600\n",
    "ser.timeout = 5\n",
    "ser.open()"
   ]
  },
  {
   "cell_type": "code",
   "execution_count": 51,
   "metadata": {},
   "outputs": [
    {
     "name": "stdout",
     "output_type": "stream",
     "text": [
      "1\n"
     ]
    }
   ],
   "source": [
    "ser.write('++mode\\n'.encode('ascii'))\n",
    "print(ser.readline().decode().rstrip())"
   ]
  },
  {
   "cell_type": "code",
   "execution_count": 57,
   "metadata": {},
   "outputs": [
    {
     "data": {
      "text/plain": [
       "12"
      ]
     },
     "execution_count": 57,
     "metadata": {},
     "output_type": "execute_result"
    }
   ],
   "source": [
    "ser.write('++savecfg 0\\n'.encode('ascii'))"
   ]
  },
  {
   "cell_type": "code",
   "execution_count": 58,
   "metadata": {},
   "outputs": [
    {
     "name": "stdout",
     "output_type": "stream",
     "text": [
      "1\n",
      "1\n",
      "0\n",
      "0\n",
      "1\n",
      "Unrecognized command\n",
      "0\n",
      "Unrecognized command\n",
      "Prologix GPIB-USB Controller version 6.107\n"
     ]
    }
   ],
   "source": [
    "ser.write('++addr\\n'.encode('ascii'))\n",
    "print(ser.readline().decode().rstrip())\n",
    "ser.write('++auto\\n'.encode('ascii'))\n",
    "print(ser.readline().decode().rstrip())\n",
    "ser.write('++eot_enable\\n'.encode('ascii'))\n",
    "print(ser.readline().decode().rstrip())\n",
    "ser.write('++eos\\n'.encode('ascii'))\n",
    "print(ser.readline().decode().rstrip())\n",
    "ser.write('++eoi\\n'.encode('ascii'))\n",
    "print(ser.readline().decode().rstrip())\n",
    "ser.write('++lon\\n'.encode('ascii'))\n",
    "print(ser.readline().decode().rstrip())\n",
    "ser.write('++savecfg\\n'.encode('ascii'))\n",
    "print(ser.readline().decode().rstrip())\n",
    "ser.write('++status\\n'.encode('ascii'))\n",
    "print(ser.readline().decode().rstrip())\n",
    "ser.write('++ver\\n'.encode('ascii'))\n",
    "print(ser.readline().decode().rstrip())"
   ]
  },
  {
   "cell_type": "code",
   "execution_count": 7,
   "metadata": {},
   "outputs": [
    {
     "name": "stdout",
     "output_type": "stream",
     "text": [
      "++mode\n",
      "\n",
      "b'++mode\\n'\n",
      "<class 'bytes'>\n"
     ]
    }
   ],
   "source": [
    "cmd = '++mode\\n'\n",
    "print(cmd)\n",
    "cmd = '++mode\\n'.encode('ascii')\n",
    "print (cmd)\n",
    "bt = bytes('++mode\\n','ascii')\n",
    "print (type(bt))"
   ]
  },
  {
   "cell_type": "code",
   "execution_count": 48,
   "metadata": {
    "collapsed": true
   },
   "outputs": [],
   "source": [
    "ans = ser.read(2048)"
   ]
  },
  {
   "cell_type": "code",
   "execution_count": 49,
   "metadata": {},
   "outputs": [
    {
     "name": "stdout",
     "output_type": "stream",
     "text": [
      "The following commands are available: \r\n",
      "++addr 0-30 [96-126]  -- specify GPIB address \r\n",
      "++addr                -- query GPIB address \r\n",
      "++auto 0|1            -- enable (1) or disable (0) read-after-write \r\n",
      "++auto                -- query read-after-write sett         -- query eos setting \r\n",
      "++eot_enable 0|1      -- enablnding eot_char on EOI \r\n",
      "++eot_enable          -- query eot_enaeot_char <char>     -- specify eot character in decimal \r\n",
      "++eo     -- query eot_char character \r\n",
      "++ifc                 -- isclear \r\n",
      "++llo                 -- disable local control \r\n",
      "++loc   -- enable local control \r\n",
      "++lon                 -- enable (0) listen only mode \r\n",
      "++mode 0|1            -- set mode - 0:DELLER \r\n",
      "++mode                -- query current mode \r\n",
      "++read [eead until EOI, <char>, or timeout \r\n",
      "++read_tmo_ms 1-3000  -- st in millisec\r\n",
      "++read_tmo_ms         -- query timeout \r\n",
      "++rst   -- reset controller \r\n",
      "++savecfg 0|1         -- enable (1) orving configuration to EPROM \r\n",
      "++savecfg             -- query sg \r\n",
      "++spoll               -- serial poll currently addressed dl 0-30 [96-126] -- serial poll device at specified address \r\n",
      "+    -- query SRQ status \r\n",
      "++status 0-255        -- specify seryte \r\n",
      "++status              -- query serial poll status byte \r",
      "          -- issue device trigger \r\n",
      "++ver                 -- qion \r\n",
      "++help                -- display this help\r\n",
      "\n"
     ]
    }
   ],
   "source": [
    "#print(repr(ans))\n",
    "print(ans.decode('ascii'))"
   ]
  },
  {
   "cell_type": "code",
   "execution_count": 47,
   "metadata": {},
   "outputs": [
    {
     "data": {
      "text/plain": [
       "7"
      ]
     },
     "execution_count": 47,
     "metadata": {},
     "output_type": "execute_result"
    }
   ],
   "source": [
    "ser.write(\"++help\\r\".encode('ascii'))  "
   ]
  },
  {
   "cell_type": "code",
   "execution_count": 12,
   "metadata": {},
   "outputs": [
    {
     "data": {
      "text/plain": [
       "'3.4.2 (default, Oct 19 2014, 13:31:11) \\n[GCC 4.9.1]'"
      ]
     },
     "execution_count": 12,
     "metadata": {},
     "output_type": "execute_result"
    }
   ],
   "source": [
    "sys.version"
   ]
  },
  {
   "cell_type": "code",
   "execution_count": 59,
   "metadata": {
    "collapsed": true
   },
   "outputs": [],
   "source": [
    "ser.close()"
   ]
  },
  {
   "cell_type": "code",
   "execution_count": null,
   "metadata": {
    "collapsed": true
   },
   "outputs": [],
   "source": []
  }
 ],
 "metadata": {
  "kernelspec": {
   "display_name": "Python 3",
   "language": "python",
   "name": "python3"
  },
  "language_info": {
   "codemirror_mode": {
    "name": "ipython",
    "version": 3
   },
   "file_extension": ".py",
   "mimetype": "text/x-python",
   "name": "python",
   "nbconvert_exporter": "python",
   "pygments_lexer": "ipython3",
   "version": "3.4.2"
  }
 },
 "nbformat": 4,
 "nbformat_minor": 2
}
