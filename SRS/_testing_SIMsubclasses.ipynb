{
 "cells": [
  {
   "cell_type": "code",
   "execution_count": 1,
   "metadata": {},
   "outputs": [],
   "source": [
    "import serial, threading, sys, time\n",
    "sys.path.append('/home/pi/Desktop/ADR_NX/Utils')\n",
    "sys.path.append('/home/pi/Desktop/ADR_NX/Mainframe')\n",
    "sys.path.append('/home/pi/Desktop/ADR_NX/HeaterControl')\n",
    "from adr_PID import ADR_PID\n",
    "import adr_utils, SIM900_controller, SIM921, SIM922, SIM960, SIM970\n",
    "import numpy as np\n",
    "import matplotlib.pyplot as plt\n",
    "from timeit import default_timer as timer\n",
    "from HCLib import HeaterController"
   ]
  },
  {
   "cell_type": "code",
   "execution_count": 2,
   "metadata": {},
   "outputs": [
    {
     "name": "stdout",
     "output_type": "stream",
     "text": [
      "Input loop started\n",
      "Output loop started\n"
     ]
    }
   ],
   "source": [
    "mfc = SIM900_controller.SIM900()\n",
    "mfc.debug = 0\n",
    "mfc.init_and_open_connection()\n",
    "mfc.start_input_loop()\n",
    "mfc.start_output_loop()\n",
    "s970 = SIM970.SIM970(mfc,name=\"SIM970(DVM)\",debug=True)\n",
    "s960 = SIM960.SIM960(mfc,name=\"SIM960(PID)\",debug=True)\n",
    "mfc.set_RPER([s960.MODNUM, s970.MODNUM])"
   ]
  },
  {
   "cell_type": "code",
   "execution_count": 9,
   "metadata": {},
   "outputs": [
    {
     "name": "stdout",
     "output_type": "stream",
     "text": [
      "My name is SIM970(DVM) (ID: Stanford_Research_Systems,SIM970,s/n015635,ver2.2)\n",
      "Status is 0b10000\n",
      "Trigger mode is     0 (LOCAL 0, EXTERNAL 1, REMOTE 2)\n",
      "Selftest reponse is 0 (0 is expected)\n",
      " Channel 1 settings:\n",
      "  Autocal mode is    1 (NONE 0, GND 1, GNDREF4 2, or GNDREF3 3)\n",
      "  Autorange mode is  15 (see manual)\n",
      "  Attenuator mode is 0 (OFF 0, ON 1, or OUT 2)\n",
      "  Filter mode is     1 (OFF 0, ON 1)\n",
      " Channel 2 settings:\n",
      "  Autocal mode is    1 (NONE 0, GND 1, GNDREF4 2, or GNDREF3 3)\n",
      "  Autorange mode is  15 (see manual)\n",
      "  Attenuator mode is 0 (OFF 0, ON 1, or OUT 2)\n",
      "  Filter mode is     1 (OFF 0, ON 1)\n",
      " Channel 3 settings:\n",
      "  Autocal mode is    1 (NONE 0, GND 1, GNDREF4 2, or GNDREF3 3)\n",
      "  Autorange mode is  15 (see manual)\n",
      "  Attenuator mode is 0 (OFF 0, ON 1, or OUT 2)\n",
      "  Filter mode is     1 (OFF 0, ON 1)\n",
      " Channel 4 settings:\n",
      "  Autocal mode is    1 (NONE 0, GND 1, GNDREF4 2, or GNDREF3 3)\n",
      "  Autorange mode is  15 (see manual)\n",
      "  Attenuator mode is 0 (OFF 0, ON 1, or OUT 2)\n",
      "  Filter mode is     1 (OFF 0, ON 1)\n"
     ]
    }
   ],
   "source": [
    "s970.tellastory()"
   ]
  },
  {
   "cell_type": "code",
   "execution_count": 20,
   "metadata": {
    "scrolled": false
   },
   "outputs": [
    {
     "name": "stdout",
     "output_type": "stream",
     "text": [
      "My name is SIM960(PID) (ID: Stanford_Research_Systems,SIM960,s/n014669,ver2.17)\n",
      "Status is  0b10000\n",
      " Settings:\n",
      "  PID mode is     1 (MAN 0, PID 1)\n",
      "  Setpt source is 0 (INT 0, EXT 1)\n",
      "  RAMP mode is    1 (OFF 0, ON 1)\n",
      "  RAMP rate is    +1.0E-2 (V/s)\n",
      "  RAMP status is  0 (IDLE 0, PENDING 1, RAMPING 2, PAUSED 3)\n",
      " PID:\n",
      "  P term is         +2.0E+1\n",
      "  I term is         +0.2E+0\n",
      "  D term is         +1.0E-5\n",
      "  P onoff is        1 (OFF 0, ON 1)\n",
      "  I onoff is        1 (OFF 0, ON 1)\n",
      "  D onoff is        0 (OFF 0, ON 1)\n",
      " Setpoints:\n",
      "  Manual output is +0.000 (V)\n",
      "  PID setpoint is  +0.000 (V)\n",
      "  Offset is        +0.000 (V)\n",
      "  Offset onoff is  1 (OFF 0, ON 1)\n",
      "  ULim is          +0.10 (V)\n",
      "  LLim is          -0.10 (V)\n",
      " Voltages:\n",
      "  Output V is   -00.165785\n",
      "  Measure V is  +02.438763\n",
      "  Setpoint V is -00.000109\n"
     ]
    }
   ],
   "source": [
    "s960.tellastory()"
   ]
  },
  {
   "cell_type": "code",
   "execution_count": 17,
   "metadata": {},
   "outputs": [],
   "source": [
    "s960.set_ramp_onoff(1)  \n",
    "s960.set_setpoint(0.0)\n",
    "s960.set_upper_lim(0.1)"
   ]
  },
  {
   "cell_type": "code",
   "execution_count": 15,
   "metadata": {
    "collapsed": true
   },
   "outputs": [],
   "source": [
    "s960.set_ramp_startpause(1)"
   ]
  },
  {
   "cell_type": "code",
   "execution_count": 19,
   "metadata": {
    "collapsed": true
   },
   "outputs": [],
   "source": [
    "s960.set_PID_mode(1)"
   ]
  },
  {
   "cell_type": "code",
   "execution_count": null,
   "metadata": {},
   "outputs": [],
   "source": [
    "s970.start_data_stream(SIM970.CHANNELS.MAGEMF)\n",
    "s970.newdataevent.wait(2)\n",
    "s970.newdataevent.clear()\n",
    "s = timer()\n",
    "print(\"HI\")\n",
    "s970.newdataevent.wait(2)\n",
    "s970.newdataevent.clear()\n",
    "print(timer()-s)\n",
    "time.sleep(1)\n",
    "s970.stop_data_stream()"
   ]
  },
  {
   "cell_type": "code",
   "execution_count": null,
   "metadata": {
    "collapsed": true
   },
   "outputs": [],
   "source": []
  },
  {
   "cell_type": "code",
   "execution_count": null,
   "metadata": {},
   "outputs": [],
   "source": [
    "s970.sq.queue.clear()\n"
   ]
  },
  {
   "cell_type": "code",
   "execution_count": null,
   "metadata": {},
   "outputs": [],
   "source": [
    "SIM970.CHANNELS.MAGEMF"
   ]
  },
  {
   "cell_type": "code",
   "execution_count": null,
   "metadata": {
    "collapsed": true
   },
   "outputs": [],
   "source": [
    "True == mfc.sim970q.not_empty"
   ]
  },
  {
   "cell_type": "code",
   "execution_count": null,
   "metadata": {
    "collapsed": true
   },
   "outputs": [],
   "source": [
    "mfc.sim970q.get()"
   ]
  },
  {
   "cell_type": "code",
   "execution_count": null,
   "metadata": {
    "collapsed": true
   },
   "outputs": [],
   "source": [
    "test = 5\n",
    "str(bin(test))"
   ]
  },
  {
   "cell_type": "code",
   "execution_count": null,
   "metadata": {},
   "outputs": [],
   "source": [
    "print(\"Status is {}\".format(str(bin(5))))"
   ]
  },
  {
   "cell_type": "code",
   "execution_count": null,
   "metadata": {},
   "outputs": [],
   "source": [
    "s970.stop_data_stream()"
   ]
  },
  {
   "cell_type": "code",
   "execution_count": null,
   "metadata": {},
   "outputs": [],
   "source": [
    "'|{:+6.3f}|'.format(0.1111221111)"
   ]
  },
  {
   "cell_type": "code",
   "execution_count": null,
   "metadata": {},
   "outputs": [],
   "source": [
    "'|{:+.1E}|'.format(1)"
   ]
  },
  {
   "cell_type": "code",
   "execution_count": null,
   "metadata": {
    "collapsed": true
   },
   "outputs": [],
   "source": []
  }
 ],
 "metadata": {
  "kernelspec": {
   "display_name": "Python 2",
   "language": "python",
   "name": "python2"
  },
  "language_info": {
   "codemirror_mode": {
    "name": "ipython",
    "version": 2
   },
   "file_extension": ".py",
   "mimetype": "text/x-python",
   "name": "python",
   "nbconvert_exporter": "python",
   "pygments_lexer": "ipython2",
   "version": "2.7.9"
  }
 },
 "nbformat": 4,
 "nbformat_minor": 2
}
