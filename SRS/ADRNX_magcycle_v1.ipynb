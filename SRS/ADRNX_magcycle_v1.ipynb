{
 "cells": [
  {
   "cell_type": "code",
   "execution_count": null,
   "metadata": {
    "collapsed": true
   },
   "outputs": [],
   "source": [
    "# Various imports\n",
    "import serial, threading, sys, time, os, datetime, warnings, numpy as np, matplotlib.pyplot as plt\n",
    "from IPython.display import clear_output\n",
    "from timeit import default_timer as timer\n",
    "# The important imports\n",
    "sys.path.append('/home/pi/Desktop/ADRNX/SRS')\n",
    "import SRS"
   ]
  },
  {
   "cell_type": "code",
   "execution_count": null,
   "metadata": {
    "collapsed": true
   },
   "outputs": [],
   "source": [
    "# Initialize mainframe controller (with config file and optional debug)\n",
    "mf = SRS.SIM900.SIM900('/home/pi/Desktop/ADRNX/SRS/config.yaml',debug=False)\n",
    "mf.init_mainframe()\n",
    "# Create module objects and add them to mainframe\n",
    "s921 = SRS.SIM921.SIM921(mf,'s921',debug=False)\n",
    "s922 = SRS.SIM922.SIM922(mf,'s922',debug=False)\n",
    "s960 = SRS.SIM960.SIM960(mf,'s960',debug=False)\n",
    "s970 = SRS.SIM970.SIM970(mf,'s970',debug=False)\n",
    "mf.register_and_init_mods([s921, s922, s960, s970])\n",
    "# Finally, start communication threads (this will enable all the queues)\n",
    "mf.start_comm_threads()"
   ]
  },
  {
   "cell_type": "code",
   "execution_count": null,
   "metadata": {
    "collapsed": true
   },
   "outputs": [],
   "source": [
    "s922.send_cmd('CURV 0,1\\n')"
   ]
  },
  {
   "cell_type": "code",
   "execution_count": null,
   "metadata": {},
   "outputs": [],
   "source": [
    "s970.tellastory() # Essentially a __str__ function, gives summary of current state, a good check"
   ]
  },
  {
   "cell_type": "code",
   "execution_count": null,
   "metadata": {},
   "outputs": [],
   "source": [
    "s922.tellastory()"
   ]
  },
  {
   "cell_type": "code",
   "execution_count": null,
   "metadata": {},
   "outputs": [],
   "source": [
    "s921.tellastory()"
   ]
  },
  {
   "cell_type": "code",
   "execution_count": null,
   "metadata": {},
   "outputs": [],
   "source": [
    "s960.tellastory()"
   ]
  },
  {
   "cell_type": "code",
   "execution_count": null,
   "metadata": {},
   "outputs": [],
   "source": [
    "# Logic used to prevent unintended explosions, should be self explanatory\n",
    "if abs(s960.get_output_voltage())>0.01: warnings.warn(\"Current is not zero - BE CAREFUL\")\n",
    "if s960.get_ramp_state() != 0: raise Exception(\"2\")\n",
    "if s960.get_PID_mode() == 0:\n",
    "    if abs(s960.get_manual_output())>0.01: warnings.warn(\"Manual output is not zero - BE CAREFUL\")\n",
    "else:\n",
    "    raise Exception(\"3\")\n",
    "if s960.get_offset_onoff() != 0: \n",
    "    if s960.get_offset != 0.0: raise Exception(\"4\")\n",
    "        \n",
    "s960.set_PID_mode(0); assert s960.get_PID_mode() == 0\n",
    "s960.set_offset(0); assert s960.get_offset() == 0\n",
    "s960.set_offset_onoff(0); assert s960.get_offset_onoff() == 0\n",
    "\n",
    "s960.set_setpoint(0); assert s960.get_setpoint() == 0\n",
    "s960.set_setpoint_mode(0); assert s960.get_setpoint_mode() == 0\n",
    "s960.set_ramp_onoff(0); assert s960.get_ramp_onoff() == 0\n",
    "    \n",
    "# Setting limits both in SIM960 and also in code as extra protection\n",
    "ul = 2.5\n",
    "s960.set_upper_lim(ul-0.1); assert s960.get_upper_lim() == ul-0.1\n",
    "s960.manlim_high = ul\n",
    "\n",
    "ll = -0.1\n",
    "s960.set_lower_lim(-0.1); assert s960.get_lower_lim() == -0.1\n",
    "s960.manlim_low = -0.1\n",
    "\n",
    "s960.tellastory()"
   ]
  },
  {
   "cell_type": "code",
   "execution_count": 39,
   "metadata": {
    "scrolled": true
   },
   "outputs": [
    {
     "name": "stdout",
     "output_type": "stream",
     "text": [
      "Starting run - direction 1\n"
     ]
    },
    {
     "data": {
      "application/vnd.jupyter.widget-view+json": {
       "model_id": "e09c687d3f3348ac8d4c95f3dffc0c63"
      }
     },
     "metadata": {},
     "output_type": "display_data"
    },
    {
     "data": {
      "application/vnd.jupyter.widget-view+json": {
       "model_id": "c8bc9451b90a4c0d96c1af8741c7ef17"
      }
     },
     "metadata": {},
     "output_type": "display_data"
    },
    {
     "name": "stdout",
     "output_type": "stream",
     "text": [
      "00.00% | VMEAS: 0.77069 | VRESP: 0.77000 | VOLD: 0.76900 | VNEW:0.77000 | EMF: 0.000012\n",
      "00.08% | VMEAS: 0.77223 | VRESP: 0.77100 | VOLD: 0.77000 | VNEW:0.77100 | EMF: 0.000011\n",
      "00.16% | VMEAS: 0.77326 | VRESP: 0.77200 | VOLD: 0.77100 | VNEW:0.77200 | EMF: 0.000012\n",
      "00.24% | VMEAS: 0.77424 | VRESP: 0.77300 | VOLD: 0.77200 | VNEW:0.77300 | EMF: 0.000012\n",
      "00.32% | VMEAS: 0.77423 | VRESP: 0.77400 | VOLD: 0.77300 | VNEW:0.77400 | EMF: 0.000012\n",
      "00.41% | VMEAS: 0.77623 | VRESP: 0.77500 | VOLD: 0.77400 | VNEW:0.77500 | EMF: 0.000012\n",
      "00.49% | VMEAS: 0.77725 | VRESP: 0.77600 | VOLD: 0.77500 | VNEW:0.77600 | EMF: 0.000011\n",
      "00.57% | VMEAS: 0.77824 | VRESP: 0.77700 | VOLD: 0.77600 | VNEW:0.77700 | EMF: 0.000013\n",
      "00.65% | VMEAS: 0.77925 | VRESP: 0.77800 | VOLD: 0.77700 | VNEW:0.77800 | EMF: 0.000014\n",
      "00.73% | VMEAS: 0.77924 | VRESP: 0.77900 | VOLD: 0.77800 | VNEW:0.77900 | EMF: 0.000016\n",
      "00.81% | VMEAS: 0.78129 | VRESP: 0.78000 | VOLD: 0.77900 | VNEW:0.78000 | EMF: 0.000016\n",
      "00.89% | VMEAS: 0.78227 | VRESP: 0.78100 | VOLD: 0.78000 | VNEW:0.78100 | EMF: 0.000018\n",
      "00.97% | VMEAS: 0.78331 | VRESP: 0.78200 | VOLD: 0.78100 | VNEW:0.78200 | EMF: 0.000017\n",
      "01.06% | VMEAS: 0.78330 | VRESP: 0.78300 | VOLD: 0.78200 | VNEW:0.78300 | EMF: 0.000015\n",
      "01.14% | VMEAS: 0.78533 | VRESP: 0.78400 | VOLD: 0.78300 | VNEW:0.78400 | EMF: 0.000015\n",
      "01.22% | VMEAS: 0.78632 | VRESP: 0.78500 | VOLD: 0.78400 | VNEW:0.78500 | EMF: 0.000015\n",
      "01.30% | VMEAS: 0.78735 | VRESP: 0.78600 | VOLD: 0.78500 | VNEW:0.78600 | EMF: 0.000015\n",
      "01.38% | VMEAS: 0.78732 | VRESP: 0.78700 | VOLD: 0.78600 | VNEW:0.78700 | EMF: 0.000014\n",
      "01.46% | VMEAS: 0.78841 | VRESP: 0.78800 | VOLD: 0.78700 | VNEW:0.78800 | EMF: 0.000014\n",
      "01.54% | VMEAS: 0.79035 | VRESP: 0.78900 | VOLD: 0.78800 | VNEW:0.78900 | EMF: 0.000016\n",
      "01.62% | VMEAS: 0.79035 | VRESP: 0.79000 | VOLD: 0.78900 | VNEW:0.79000 | EMF: 0.000016\n",
      "01.71% | VMEAS: 0.79238 | VRESP: 0.79100 | VOLD: 0.79000 | VNEW:0.79100 | EMF: 0.000015\n",
      "01.79% | VMEAS: 0.79339 | VRESP: 0.79200 | VOLD: 0.79100 | VNEW:0.79200 | EMF: 0.000014\n",
      "01.87% | VMEAS: 0.79438 | VRESP: 0.79300 | VOLD: 0.79200 | VNEW:0.79300 | EMF: 0.000014\n",
      "01.95% | VMEAS: 0.79538 | VRESP: 0.79400 | VOLD: 0.79300 | VNEW:0.79400 | EMF: 0.000013\n",
      "02.03% | VMEAS: 0.79537 | VRESP: 0.79500 | VOLD: 0.79400 | VNEW:0.79500 | EMF: 0.000014\n",
      "02.11% | VMEAS: 0.79739 | VRESP: 0.79600 | VOLD: 0.79500 | VNEW:0.79600 | EMF: 0.000014\n",
      "02.19% | VMEAS: 0.79737 | VRESP: 0.79700 | VOLD: 0.79600 | VNEW:0.79700 | EMF: 0.000014\n",
      "02.27% | VMEAS: 0.79888 | VRESP: 0.79800 | VOLD: 0.79700 | VNEW:0.79800 | EMF: 0.000013\n",
      "02.36% | VMEAS: 0.80036 | VRESP: 0.79900 | VOLD: 0.79800 | VNEW:0.79900 | EMF: 0.000014\n",
      "02.44% | VMEAS: 0.80142 | VRESP: 0.80000 | VOLD: 0.79900 | VNEW:0.80000 | EMF: 0.000014\n",
      "02.52% | VMEAS: 0.80241 | VRESP: 0.80100 | VOLD: 0.80000 | VNEW:0.80100 | EMF: 0.000013\n",
      "02.60% | VMEAS: 0.80243 | VRESP: 0.80200 | VOLD: 0.80100 | VNEW:0.80200 | EMF: 0.000013\n",
      "02.68% | VMEAS: 0.80441 | VRESP: 0.80300 | VOLD: 0.80200 | VNEW:0.80300 | EMF: 0.000012\n",
      "02.76% | VMEAS: 0.80542 | VRESP: 0.80400 | VOLD: 0.80300 | VNEW:0.80400 | EMF: 0.000013\n",
      "02.84% | VMEAS: 0.80645 | VRESP: 0.80500 | VOLD: 0.80400 | VNEW:0.80500 | EMF: 0.000014\n",
      "02.92% | VMEAS: 0.80647 | VRESP: 0.80600 | VOLD: 0.80500 | VNEW:0.80600 | EMF: 0.000015\n",
      "03.01% | VMEAS: 0.80746 | VRESP: 0.80700 | VOLD: 0.80600 | VNEW:0.80700 | EMF: 0.000014\n",
      "03.09% | VMEAS: 0.80948 | VRESP: 0.80800 | VOLD: 0.80700 | VNEW:0.80800 | EMF: 0.000013\n",
      "03.17% | VMEAS: 0.81048 | VRESP: 0.80900 | VOLD: 0.80800 | VNEW:0.80900 | EMF: 0.000013\n",
      "03.25% | VMEAS: 0.81150 | VRESP: 0.81000 | VOLD: 0.80900 | VNEW:0.81000 | EMF: 0.000015\n",
      "03.33% | VMEAS: 0.81148 | VRESP: 0.81100 | VOLD: 0.81000 | VNEW:0.81100 | EMF: 0.000014\n",
      "03.41% | VMEAS: 0.81350 | VRESP: 0.81200 | VOLD: 0.81100 | VNEW:0.81200 | EMF: 0.000013\n",
      "03.49% | VMEAS: 0.81449 | VRESP: 0.81300 | VOLD: 0.81200 | VNEW:0.81300 | EMF: 0.000014\n",
      "03.57% | VMEAS: 0.81552 | VRESP: 0.81400 | VOLD: 0.81300 | VNEW:0.81400 | EMF: 0.000015\n",
      "03.66% | VMEAS: 0.81550 | VRESP: 0.81500 | VOLD: 0.81400 | VNEW:0.81500 | EMF: 0.000014\n",
      "03.74% | VMEAS: 0.81651 | VRESP: 0.81600 | VOLD: 0.81500 | VNEW:0.81600 | EMF: 0.000013\n",
      "03.82% | VMEAS: 0.81854 | VRESP: 0.81700 | VOLD: 0.81600 | VNEW:0.81700 | EMF: 0.000012\n",
      "03.90% | VMEAS: 0.81953 | VRESP: 0.81800 | VOLD: 0.81700 | VNEW:0.81800 | EMF: 0.000014\n",
      "03.98% | VMEAS: 0.82053 | VRESP: 0.81900 | VOLD: 0.81800 | VNEW:0.81900 | EMF: 0.000013\n",
      "04.06% | VMEAS: 0.82055 | VRESP: 0.82000 | VOLD: 0.81900 | VNEW:0.82000 | EMF: 0.000014\n",
      "04.14% | VMEAS: 0.82257 | VRESP: 0.82100 | VOLD: 0.82000 | VNEW:0.82100 | EMF: 0.000015\n",
      "04.22% | VMEAS: 0.82357 | VRESP: 0.82200 | VOLD: 0.82100 | VNEW:0.82200 | EMF: 0.000015\n",
      "04.31% | VMEAS: 0.82423 | VRESP: 0.82300 | VOLD: 0.82200 | VNEW:0.82300 | EMF: 0.000015\n",
      "04.39% | VMEAS: 0.82524 | VRESP: 0.82400 | VOLD: 0.82300 | VNEW:0.82400 | EMF: 0.000012\n",
      "04.47% | VMEAS: 0.82625 | VRESP: 0.82500 | VOLD: 0.82400 | VNEW:0.82500 | EMF: 0.000013\n",
      "04.55% | VMEAS: 0.82628 | VRESP: 0.82600 | VOLD: 0.82500 | VNEW:0.82600 | EMF: 0.000012\n",
      "04.63% | VMEAS: 0.82725 | VRESP: 0.82700 | VOLD: 0.82600 | VNEW:0.82700 | EMF: 0.000011\n",
      "04.71% | VMEAS: 0.82928 | VRESP: 0.82800 | VOLD: 0.82700 | VNEW:0.82800 | EMF: 0.000012\n",
      "04.79% | VMEAS: 0.83031 | VRESP: 0.82900 | VOLD: 0.82800 | VNEW:0.82900 | EMF: 0.000012\n",
      "04.87% | VMEAS: 0.83132 | VRESP: 0.83000 | VOLD: 0.82900 | VNEW:0.83000 | EMF: 0.000012\n",
      "04.96% | VMEAS: 0.83128 | VRESP: 0.83100 | VOLD: 0.83000 | VNEW:0.83100 | EMF: 0.000013\n",
      "05.04% | VMEAS: 0.83333 | VRESP: 0.83200 | VOLD: 0.83100 | VNEW:0.83200 | EMF: 0.000013\n",
      "05.12% | VMEAS: 0.83429 | VRESP: 0.83300 | VOLD: 0.83200 | VNEW:0.83300 | EMF: 0.000014\n",
      "05.20% | VMEAS: 0.83535 | VRESP: 0.83400 | VOLD: 0.83300 | VNEW:0.83400 | EMF: 0.000014\n",
      "05.28% | VMEAS: 0.83633 | VRESP: 0.83500 | VOLD: 0.83400 | VNEW:0.83500 | EMF: 0.000015\n",
      "05.36% | VMEAS: 0.83631 | VRESP: 0.83600 | VOLD: 0.83500 | VNEW:0.83600 | EMF: 0.000015\n",
      "05.44% | VMEAS: 0.83834 | VRESP: 0.83700 | VOLD: 0.83600 | VNEW:0.83700 | EMF: 0.000016\n",
      "05.52% | VMEAS: 0.83936 | VRESP: 0.83800 | VOLD: 0.83700 | VNEW:0.83800 | EMF: 0.000015\n",
      "05.61% | VMEAS: 0.84034 | VRESP: 0.83900 | VOLD: 0.83800 | VNEW:0.83900 | EMF: 0.000013\n",
      "05.69% | VMEAS: 0.84036 | VRESP: 0.84000 | VOLD: 0.83900 | VNEW:0.84000 | EMF: 0.000012\n",
      "05.77% | VMEAS: 0.84224 | VRESP: 0.84100 | VOLD: 0.84000 | VNEW:0.84100 | EMF: 0.000012\n",
      "05.85% | VMEAS: 0.84337 | VRESP: 0.84200 | VOLD: 0.84100 | VNEW:0.84200 | EMF: 0.000011\n",
      "05.93% | VMEAS: 0.84337 | VRESP: 0.84300 | VOLD: 0.84200 | VNEW:0.84300 | EMF: 0.000009\n",
      "06.01% | VMEAS: 0.84539 | VRESP: 0.84400 | VOLD: 0.84300 | VNEW:0.84400 | EMF: 0.000008\n",
      "06.09% | VMEAS: 0.84638 | VRESP: 0.84500 | VOLD: 0.84400 | VNEW:0.84500 | EMF: 0.000009\n",
      "06.17% | VMEAS: 0.84737 | VRESP: 0.84600 | VOLD: 0.84500 | VNEW:0.84600 | EMF: 0.000009\n",
      "06.26% | VMEAS: 0.84740 | VRESP: 0.84700 | VOLD: 0.84600 | VNEW:0.84700 | EMF: 0.000007\n",
      "06.34% | VMEAS: 0.84890 | VRESP: 0.84800 | VOLD: 0.84700 | VNEW:0.84800 | EMF: 0.000009\n",
      "06.42% | VMEAS: 0.85042 | VRESP: 0.84900 | VOLD: 0.84800 | VNEW:0.84900 | EMF: 0.000009\n",
      "06.50% | VMEAS: 0.85143 | VRESP: 0.85000 | VOLD: 0.84900 | VNEW:0.85000 | EMF: 0.000009\n",
      "06.58% | VMEAS: 0.85244 | VRESP: 0.85100 | VOLD: 0.85000 | VNEW:0.85100 | EMF: 0.000009\n",
      "06.66% | VMEAS: 0.85245 | VRESP: 0.85200 | VOLD: 0.85100 | VNEW:0.85200 | EMF: 0.000010\n",
      "06.74% | VMEAS: 0.85447 | VRESP: 0.85300 | VOLD: 0.85200 | VNEW:0.85300 | EMF: 0.000008\n",
      "06.82% | VMEAS: 0.85546 | VRESP: 0.85400 | VOLD: 0.85300 | VNEW:0.85400 | EMF: 0.000009\n",
      "06.90% | VMEAS: 0.85646 | VRESP: 0.85500 | VOLD: 0.85400 | VNEW:0.85500 | EMF: 0.000010\n",
      "06.99% | VMEAS: 0.85645 | VRESP: 0.85600 | VOLD: 0.85500 | VNEW:0.85600 | EMF: 0.000010\n",
      "07.07% | VMEAS: 0.85748 | VRESP: 0.85700 | VOLD: 0.85600 | VNEW:0.85700 | EMF: 0.000011\n",
      "07.15% | VMEAS: 0.85947 | VRESP: 0.85800 | VOLD: 0.85700 | VNEW:0.85800 | EMF: 0.000013\n",
      "07.23% | VMEAS: 0.86048 | VRESP: 0.85900 | VOLD: 0.85800 | VNEW:0.85900 | EMF: 0.000015\n",
      "07.31% | VMEAS: 0.86150 | VRESP: 0.86000 | VOLD: 0.85900 | VNEW:0.86000 | EMF: 0.000015\n",
      "07.39% | VMEAS: 0.86145 | VRESP: 0.86100 | VOLD: 0.86000 | VNEW:0.86100 | EMF: 0.000016\n",
      "07.47% | VMEAS: 0.86351 | VRESP: 0.86200 | VOLD: 0.86100 | VNEW:0.86200 | EMF: 0.000016\n",
      "07.55% | VMEAS: 0.86448 | VRESP: 0.86300 | VOLD: 0.86200 | VNEW:0.86300 | EMF: 0.000016\n"
     ]
    },
    {
     "name": "stdout",
     "output_type": "stream",
     "text": [
      "07.64% | VMEAS: 0.86552 | VRESP: 0.86400 | VOLD: 0.86300 | VNEW:0.86400 | EMF: 0.000015\n",
      "07.72% | VMEAS: 0.86550 | VRESP: 0.86500 | VOLD: 0.86400 | VNEW:0.86500 | EMF: 0.000017\n",
      "07.80% | VMEAS: 0.86652 | VRESP: 0.86600 | VOLD: 0.86500 | VNEW:0.86600 | EMF: 0.000017\n",
      "07.88% | VMEAS: 0.86851 | VRESP: 0.86700 | VOLD: 0.86600 | VNEW:0.86700 | EMF: 0.000014\n",
      "07.96% | VMEAS: 0.86954 | VRESP: 0.86800 | VOLD: 0.86700 | VNEW:0.86800 | EMF: 0.000013\n",
      "08.04% | VMEAS: 0.87053 | VRESP: 0.86900 | VOLD: 0.86800 | VNEW:0.86900 | EMF: 0.000014\n",
      "08.12% | VMEAS: 0.87054 | VRESP: 0.87000 | VOLD: 0.86900 | VNEW:0.87000 | EMF: 0.000014\n",
      "08.20% | VMEAS: 0.87257 | VRESP: 0.87100 | VOLD: 0.87000 | VNEW:0.87100 | EMF: 0.000014\n",
      "08.29% | VMEAS: 0.87256 | VRESP: 0.87200 | VOLD: 0.87100 | VNEW:0.87200 | EMF: 0.000014\n",
      "08.37% | VMEAS: 0.87358 | VRESP: 0.87300 | VOLD: 0.87200 | VNEW:0.87300 | EMF: 0.000012\n",
      "08.45% | VMEAS: 0.87558 | VRESP: 0.87400 | VOLD: 0.87300 | VNEW:0.87400 | EMF: 0.000011\n",
      "08.53% | VMEAS: 0.87661 | VRESP: 0.87500 | VOLD: 0.87400 | VNEW:0.87500 | EMF: 0.000010\n",
      "08.61% | VMEAS: 0.87727 | VRESP: 0.87600 | VOLD: 0.87500 | VNEW:0.87600 | EMF: 0.000012\n",
      "08.69% | VMEAS: 0.87728 | VRESP: 0.87700 | VOLD: 0.87600 | VNEW:0.87700 | EMF: 0.000011\n",
      "08.77% | VMEAS: 0.87921 | VRESP: 0.87800 | VOLD: 0.87700 | VNEW:0.87800 | EMF: 0.000012\n",
      "08.85% | VMEAS: 0.88029 | VRESP: 0.87900 | VOLD: 0.87800 | VNEW:0.87900 | EMF: 0.000013\n",
      "08.94% | VMEAS: 0.88130 | VRESP: 0.88000 | VOLD: 0.87900 | VNEW:0.88000 | EMF: 0.000014\n",
      "09.02% | VMEAS: 0.88227 | VRESP: 0.88100 | VOLD: 0.88000 | VNEW:0.88100 | EMF: 0.000012\n",
      "09.10% | VMEAS: 0.88226 | VRESP: 0.88200 | VOLD: 0.88100 | VNEW:0.88200 | EMF: 0.000012\n",
      "09.18% | VMEAS: 0.88428 | VRESP: 0.88300 | VOLD: 0.88200 | VNEW:0.88300 | EMF: 0.000014\n",
      "09.26% | VMEAS: 0.88426 | VRESP: 0.88400 | VOLD: 0.88300 | VNEW:0.88400 | EMF: 0.000014\n",
      "09.34% | VMEAS: 0.88630 | VRESP: 0.88500 | VOLD: 0.88400 | VNEW:0.88500 | EMF: 0.000013\n",
      "09.42% | VMEAS: 0.88732 | VRESP: 0.88600 | VOLD: 0.88500 | VNEW:0.88600 | EMF: 0.000013\n",
      "09.50% | VMEAS: 0.88832 | VRESP: 0.88700 | VOLD: 0.88600 | VNEW:0.88700 | EMF: 0.000014\n",
      "09.59% | VMEAS: 0.88832 | VRESP: 0.88800 | VOLD: 0.88700 | VNEW:0.88800 | EMF: 0.000015\n",
      "09.67% | VMEAS: 0.88949 | VRESP: 0.88900 | VOLD: 0.88800 | VNEW:0.88900 | EMF: 0.000012\n",
      "09.75% | VMEAS: 0.89130 | VRESP: 0.89000 | VOLD: 0.88900 | VNEW:0.89000 | EMF: 0.000014\n",
      "09.83% | VMEAS: 0.89235 | VRESP: 0.89100 | VOLD: 0.89000 | VNEW:0.89100 | EMF: 0.000013\n",
      "09.91% | VMEAS: 0.89336 | VRESP: 0.89200 | VOLD: 0.89100 | VNEW:0.89200 | EMF: 0.000013\n",
      "09.99% | VMEAS: 0.89336 | VRESP: 0.89300 | VOLD: 0.89200 | VNEW:0.89300 | EMF: 0.000014\n",
      "10.07% | VMEAS: 0.89537 | VRESP: 0.89400 | VOLD: 0.89300 | VNEW:0.89400 | EMF: 0.000013\n",
      "10.15% | VMEAS: 0.89637 | VRESP: 0.89500 | VOLD: 0.89400 | VNEW:0.89500 | EMF: 0.000012\n",
      "10.24% | VMEAS: 0.89738 | VRESP: 0.89600 | VOLD: 0.89500 | VNEW:0.89600 | EMF: 0.000012\n",
      "10.32% | VMEAS: 0.89738 | VRESP: 0.89700 | VOLD: 0.89600 | VNEW:0.89700 | EMF: 0.000011\n",
      "10.40% | VMEAS: 0.89860 | VRESP: 0.89800 | VOLD: 0.89700 | VNEW:0.89800 | EMF: 0.000010\n",
      "10.48% | VMEAS: 0.90039 | VRESP: 0.89900 | VOLD: 0.89800 | VNEW:0.89900 | EMF: 0.000011\n",
      "10.56% | VMEAS: 0.90139 | VRESP: 0.90000 | VOLD: 0.89900 | VNEW:0.90000 | EMF: 0.000012\n",
      "10.64% | VMEAS: 0.90240 | VRESP: 0.90100 | VOLD: 0.90000 | VNEW:0.90100 | EMF: 0.000010\n",
      "10.72% | VMEAS: 0.90239 | VRESP: 0.90200 | VOLD: 0.90100 | VNEW:0.90200 | EMF: 0.000009\n",
      "10.80% | VMEAS: 0.90445 | VRESP: 0.90300 | VOLD: 0.90200 | VNEW:0.90300 | EMF: 0.000011\n",
      "10.89% | VMEAS: 0.90544 | VRESP: 0.90400 | VOLD: 0.90300 | VNEW:0.90400 | EMF: 0.000013\n",
      "10.97% | VMEAS: 0.90647 | VRESP: 0.90500 | VOLD: 0.90400 | VNEW:0.90500 | EMF: 0.000015\n",
      "11.05% | VMEAS: 0.90644 | VRESP: 0.90600 | VOLD: 0.90500 | VNEW:0.90600 | EMF: 0.000015\n",
      "11.13% | VMEAS: 0.90746 | VRESP: 0.90700 | VOLD: 0.90600 | VNEW:0.90700 | EMF: 0.000017\n",
      "11.21% | VMEAS: 0.90947 | VRESP: 0.90800 | VOLD: 0.90700 | VNEW:0.90800 | EMF: 0.000016\n",
      "11.29% | VMEAS: 0.91049 | VRESP: 0.90900 | VOLD: 0.90800 | VNEW:0.90900 | EMF: 0.000015\n",
      "11.37% | VMEAS: 0.91150 | VRESP: 0.91000 | VOLD: 0.90900 | VNEW:0.91000 | EMF: 0.000011\n",
      "s960 | Recovered: |'+00.911477\\r'|, buf |+00.|\n",
      "11.45% | VMEAS: 0.91148 | VRESP: 0.91100 | VOLD: 0.91000 | VNEW:0.91100 | EMF: 0.000011\n",
      "11.54% | VMEAS: 0.91350 | VRESP: 0.91200 | VOLD: 0.91100 | VNEW:0.91200 | EMF: 0.000010\n",
      "11.62% | VMEAS: 0.91451 | VRESP: 0.91300 | VOLD: 0.91200 | VNEW:0.91300 | EMF: 0.000010\n",
      "11.70% | VMEAS: 0.91553 | VRESP: 0.91400 | VOLD: 0.91300 | VNEW:0.91400 | EMF: 0.000010\n",
      "11.78% | VMEAS: 0.91554 | VRESP: 0.91500 | VOLD: 0.91400 | VNEW:0.91500 | EMF: 0.000011\n",
      "11.86% | VMEAS: 0.91652 | VRESP: 0.91600 | VOLD: 0.91500 | VNEW:0.91600 | EMF: 0.000010\n",
      "11.94% | VMEAS: 0.91853 | VRESP: 0.91700 | VOLD: 0.91600 | VNEW:0.91700 | EMF: 0.000011\n",
      "12.02% | VMEAS: 0.91955 | VRESP: 0.91800 | VOLD: 0.91700 | VNEW:0.91800 | EMF: 0.000011\n",
      "12.10% | VMEAS: 0.92057 | VRESP: 0.91900 | VOLD: 0.91800 | VNEW:0.91900 | EMF: 0.000010\n",
      "12.19% | VMEAS: 0.92056 | VRESP: 0.92000 | VOLD: 0.91900 | VNEW:0.92000 | EMF: 0.000012\n",
      "12.27% | VMEAS: 0.92232 | VRESP: 0.92100 | VOLD: 0.92000 | VNEW:0.92100 | EMF: 0.000011\n",
      "12.35% | VMEAS: 0.92257 | VRESP: 0.92200 | VOLD: 0.92100 | VNEW:0.92200 | EMF: 0.000010\n",
      "12.43% | VMEAS: 0.92453 | VRESP: 0.92300 | VOLD: 0.92200 | VNEW:0.92300 | EMF: 0.000010\n",
      "12.51% | VMEAS: 0.92559 | VRESP: 0.92400 | VOLD: 0.92300 | VNEW:0.92400 | EMF: 0.000008\n",
      "12.59% | VMEAS: 0.92658 | VRESP: 0.92500 | VOLD: 0.92400 | VNEW:0.92500 | EMF: 0.000008\n",
      "12.67% | VMEAS: 0.92758 | VRESP: 0.92600 | VOLD: 0.92500 | VNEW:0.92600 | EMF: 0.000009\n",
      "12.75% | VMEAS: 0.92758 | VRESP: 0.92700 | VOLD: 0.92600 | VNEW:0.92700 | EMF: 0.000008\n",
      "12.84% | VMEAS: 0.92961 | VRESP: 0.92800 | VOLD: 0.92700 | VNEW:0.92800 | EMF: 0.000009\n",
      "12.92% | VMEAS: 0.93026 | VRESP: 0.92900 | VOLD: 0.92800 | VNEW:0.92900 | EMF: 0.000008\n",
      "13.00% | VMEAS: 0.93130 | VRESP: 0.93000 | VOLD: 0.92900 | VNEW:0.93000 | EMF: 0.000007\n",
      "13.08% | VMEAS: 0.93129 | VRESP: 0.93100 | VOLD: 0.93000 | VNEW:0.93100 | EMF: 0.000009\n",
      "13.16% | VMEAS: 0.93318 | VRESP: 0.93200 | VOLD: 0.93100 | VNEW:0.93200 | EMF: 0.000009\n",
      "13.24% | VMEAS: 0.93431 | VRESP: 0.93300 | VOLD: 0.93200 | VNEW:0.93300 | EMF: 0.000010\n",
      "13.32% | VMEAS: 0.93533 | VRESP: 0.93400 | VOLD: 0.93300 | VNEW:0.93400 | EMF: 0.000009\n",
      "13.40% | VMEAS: 0.93634 | VRESP: 0.93500 | VOLD: 0.93400 | VNEW:0.93500 | EMF: 0.000010\n",
      "13.48% | VMEAS: 0.93631 | VRESP: 0.93600 | VOLD: 0.93500 | VNEW:0.93600 | EMF: 0.000011\n",
      "13.57% | VMEAS: 0.93834 | VRESP: 0.93700 | VOLD: 0.93600 | VNEW:0.93700 | EMF: 0.000010\n",
      "13.65% | VMEAS: 0.93935 | VRESP: 0.93800 | VOLD: 0.93700 | VNEW:0.93800 | EMF: 0.000010\n",
      "13.73% | VMEAS: 0.94035 | VRESP: 0.93900 | VOLD: 0.93800 | VNEW:0.93900 | EMF: 0.000010\n",
      "13.81% | VMEAS: 0.94031 | VRESP: 0.94000 | VOLD: 0.93900 | VNEW:0.94000 | EMF: 0.000010\n",
      "13.89% | VMEAS: 0.94238 | VRESP: 0.94100 | VOLD: 0.94000 | VNEW:0.94100 | EMF: 0.000010\n",
      "13.97% | VMEAS: 0.94336 | VRESP: 0.94200 | VOLD: 0.94100 | VNEW:0.94200 | EMF: 0.000013\n",
      "14.05% | VMEAS: 0.94337 | VRESP: 0.94300 | VOLD: 0.94200 | VNEW:0.94300 | EMF: 0.000013\n",
      "14.13% | VMEAS: 0.94537 | VRESP: 0.94400 | VOLD: 0.94300 | VNEW:0.94400 | EMF: 0.000011\n",
      "14.22% | VMEAS: 0.94640 | VRESP: 0.94500 | VOLD: 0.94400 | VNEW:0.94500 | EMF: 0.000010\n",
      "14.30% | VMEAS: 0.94740 | VRESP: 0.94600 | VOLD: 0.94500 | VNEW:0.94600 | EMF: 0.000009\n",
      "14.38% | VMEAS: 0.94740 | VRESP: 0.94700 | VOLD: 0.94600 | VNEW:0.94700 | EMF: 0.000010\n",
      "14.46% | VMEAS: 0.94841 | VRESP: 0.94800 | VOLD: 0.94700 | VNEW:0.94800 | EMF: 0.000008\n",
      "14.54% | VMEAS: 0.95042 | VRESP: 0.94900 | VOLD: 0.94800 | VNEW:0.94900 | EMF: 0.000010\n",
      "14.62% | VMEAS: 0.95142 | VRESP: 0.95000 | VOLD: 0.94900 | VNEW:0.95000 | EMF: 0.000010\n",
      "14.70% | VMEAS: 0.95244 | VRESP: 0.95100 | VOLD: 0.95000 | VNEW:0.95100 | EMF: 0.000011\n",
      "14.78% | VMEAS: 0.95245 | VRESP: 0.95200 | VOLD: 0.95100 | VNEW:0.95200 | EMF: 0.000010\n",
      "14.87% | VMEAS: 0.95445 | VRESP: 0.95300 | VOLD: 0.95200 | VNEW:0.95300 | EMF: 0.000009\n",
      "14.95% | VMEAS: 0.95544 | VRESP: 0.95400 | VOLD: 0.95300 | VNEW:0.95400 | EMF: 0.000008\n",
      "15.03% | VMEAS: 0.95644 | VRESP: 0.95500 | VOLD: 0.95400 | VNEW:0.95500 | EMF: 0.000008\n",
      "15.11% | VMEAS: 0.95644 | VRESP: 0.95600 | VOLD: 0.95500 | VNEW:0.95600 | EMF: 0.000008\n"
     ]
    },
    {
     "name": "stdout",
     "output_type": "stream",
     "text": [
      "15.19% | VMEAS: 0.95746 | VRESP: 0.95700 | VOLD: 0.95600 | VNEW:0.95700 | EMF: 0.000008\n",
      "15.27% | VMEAS: 0.95948 | VRESP: 0.95800 | VOLD: 0.95700 | VNEW:0.95800 | EMF: 0.000007\n",
      "15.35% | VMEAS: 0.95949 | VRESP: 0.95900 | VOLD: 0.95800 | VNEW:0.95900 | EMF: 0.000006\n",
      "15.43% | VMEAS: 0.96146 | VRESP: 0.96000 | VOLD: 0.95900 | VNEW:0.96000 | EMF: 0.000006\n",
      "15.52% | VMEAS: 0.96251 | VRESP: 0.96100 | VOLD: 0.96000 | VNEW:0.96100 | EMF: 0.000007\n",
      "15.60% | VMEAS: 0.96353 | VRESP: 0.96200 | VOLD: 0.96100 | VNEW:0.96200 | EMF: 0.000007\n",
      "15.68% | VMEAS: 0.96452 | VRESP: 0.96300 | VOLD: 0.96200 | VNEW:0.96300 | EMF: 0.000007\n",
      "15.76% | VMEAS: 0.96451 | VRESP: 0.96400 | VOLD: 0.96300 | VNEW:0.96400 | EMF: 0.000007\n",
      "15.84% | VMEAS: 0.96655 | VRESP: 0.96500 | VOLD: 0.96400 | VNEW:0.96500 | EMF: 0.000006\n",
      "15.92% | VMEAS: 0.96750 | VRESP: 0.96600 | VOLD: 0.96500 | VNEW:0.96600 | EMF: 0.000007\n",
      "16.00% | VMEAS: 0.96850 | VRESP: 0.96700 | VOLD: 0.96600 | VNEW:0.96700 | EMF: 0.000007\n",
      "16.08% | VMEAS: 0.96852 | VRESP: 0.96800 | VOLD: 0.96700 | VNEW:0.96800 | EMF: 0.000008\n",
      "16.17% | VMEAS: 0.96955 | VRESP: 0.96900 | VOLD: 0.96800 | VNEW:0.96900 | EMF: 0.000007\n",
      "16.25% | VMEAS: 0.97154 | VRESP: 0.97000 | VOLD: 0.96900 | VNEW:0.97000 | EMF: 0.000007\n",
      "16.33% | VMEAS: 0.97254 | VRESP: 0.97100 | VOLD: 0.97000 | VNEW:0.97100 | EMF: 0.000008\n",
      "16.41% | VMEAS: 0.97354 | VRESP: 0.97200 | VOLD: 0.97100 | VNEW:0.97200 | EMF: 0.000007\n",
      "16.49% | VMEAS: 0.97355 | VRESP: 0.97300 | VOLD: 0.97200 | VNEW:0.97300 | EMF: 0.000006\n",
      "16.57% | VMEAS: 0.97559 | VRESP: 0.97400 | VOLD: 0.97300 | VNEW:0.97400 | EMF: 0.000005\n",
      "16.65% | VMEAS: 0.97556 | VRESP: 0.97500 | VOLD: 0.97400 | VNEW:0.97500 | EMF: 0.000007\n",
      "16.73% | VMEAS: 0.97759 | VRESP: 0.97600 | VOLD: 0.97500 | VNEW:0.97600 | EMF: 0.000008\n",
      "16.82% | VMEAS: 0.97759 | VRESP: 0.97700 | VOLD: 0.97600 | VNEW:0.97700 | EMF: 0.000009\n",
      "16.90% | VMEAS: 0.97962 | VRESP: 0.97800 | VOLD: 0.97700 | VNEW:0.97800 | EMF: 0.000010\n",
      "16.98% | VMEAS: 0.98061 | VRESP: 0.97900 | VOLD: 0.97800 | VNEW:0.97900 | EMF: 0.000010\n",
      "17.06% | VMEAS: 0.98163 | VRESP: 0.98000 | VOLD: 0.97900 | VNEW:0.98000 | EMF: 0.000007\n",
      "17.14% | VMEAS: 0.98161 | VRESP: 0.98100 | VOLD: 0.98000 | VNEW:0.98100 | EMF: 0.000010\n",
      "17.22% | VMEAS: 0.98263 | VRESP: 0.98200 | VOLD: 0.98100 | VNEW:0.98200 | EMF: 0.000011\n",
      "17.30% | VMEAS: 0.98432 | VRESP: 0.98300 | VOLD: 0.98200 | VNEW:0.98300 | EMF: 0.000010\n",
      "17.38% | VMEAS: 0.98532 | VRESP: 0.98400 | VOLD: 0.98300 | VNEW:0.98400 | EMF: 0.000009\n",
      "17.47% | VMEAS: 0.98632 | VRESP: 0.98500 | VOLD: 0.98400 | VNEW:0.98500 | EMF: 0.000008\n",
      "17.55% | VMEAS: 0.98635 | VRESP: 0.98600 | VOLD: 0.98500 | VNEW:0.98600 | EMF: 0.000008\n",
      "17.63% | VMEAS: 0.98832 | VRESP: 0.98700 | VOLD: 0.98600 | VNEW:0.98700 | EMF: 0.000008\n",
      "17.71% | VMEAS: 0.98834 | VRESP: 0.98800 | VOLD: 0.98700 | VNEW:0.98800 | EMF: 0.000005\n",
      "17.79% | VMEAS: 0.99037 | VRESP: 0.98900 | VOLD: 0.98800 | VNEW:0.98900 | EMF: 0.000007\n",
      "17.87% | VMEAS: 0.99039 | VRESP: 0.99000 | VOLD: 0.98900 | VNEW:0.99000 | EMF: 0.000008\n",
      "17.95% | VMEAS: 0.99234 | VRESP: 0.99100 | VOLD: 0.99000 | VNEW:0.99100 | EMF: 0.000009\n",
      "18.03% | VMEAS: 0.99338 | VRESP: 0.99200 | VOLD: 0.99100 | VNEW:0.99200 | EMF: 0.000009\n",
      "18.12% | VMEAS: 0.99441 | VRESP: 0.99300 | VOLD: 0.99200 | VNEW:0.99300 | EMF: 0.000008\n",
      "18.20% | VMEAS: 0.99540 | VRESP: 0.99400 | VOLD: 0.99300 | VNEW:0.99400 | EMF: 0.000010\n",
      "18.28% | VMEAS: 0.99538 | VRESP: 0.99500 | VOLD: 0.99400 | VNEW:0.99500 | EMF: 0.000010\n",
      "18.36% | VMEAS: 0.99739 | VRESP: 0.99600 | VOLD: 0.99500 | VNEW:0.99600 | EMF: 0.000011\n",
      "18.44% | VMEAS: 0.99843 | VRESP: 0.99700 | VOLD: 0.99600 | VNEW:0.99700 | EMF: 0.000010\n",
      "18.52% | VMEAS: 0.99943 | VRESP: 0.99800 | VOLD: 0.99700 | VNEW:0.99800 | EMF: 0.000011\n",
      "18.60% | VMEAS: 0.99944 | VRESP: 0.99900 | VOLD: 0.99800 | VNEW:0.99900 | EMF: 0.000009\n"
     ]
    },
    {
     "ename": "ValueError",
     "evalue": "MANUAL OUTPUT 1.0000000000000002 OUT OF LIMITS",
     "output_type": "error",
     "traceback": [
      "\u001b[0;31m---------------------------------------------------------------------------\u001b[0m",
      "\u001b[0;31mValueError\u001b[0m                                Traceback (most recent call last)",
      "\u001b[0;32m<ipython-input-39-32b7b11f682c>\u001b[0m in \u001b[0;36m<module>\u001b[0;34m()\u001b[0m\n\u001b[1;32m     52\u001b[0m             \u001b[0;32mif\u001b[0m \u001b[0;34m(\u001b[0m\u001b[0mvout\u001b[0m \u001b[0;34m-\u001b[0m \u001b[0mvstep\u001b[0m \u001b[0;34m>\u001b[0m \u001b[0mtarget\u001b[0m\u001b[0;34m)\u001b[0m\u001b[0;34m:\u001b[0m \u001b[0mvnew\u001b[0m \u001b[0;34m=\u001b[0m \u001b[0mvout\u001b[0m \u001b[0;34m-\u001b[0m \u001b[0mvstep\u001b[0m\u001b[0;34m\u001b[0m\u001b[0m\n\u001b[1;32m     53\u001b[0m             \u001b[0;32melse\u001b[0m\u001b[0;34m:\u001b[0m \u001b[0mvnew\u001b[0m \u001b[0;34m=\u001b[0m \u001b[0mtarget\u001b[0m\u001b[0;34m\u001b[0m\u001b[0m\n\u001b[0;32m---> 54\u001b[0;31m         \u001b[0ms960\u001b[0m\u001b[0;34m.\u001b[0m\u001b[0mset_manual_output\u001b[0m\u001b[0;34m(\u001b[0m\u001b[0mvnew\u001b[0m\u001b[0;34m)\u001b[0m\u001b[0;34m\u001b[0m\u001b[0m\n\u001b[0m\u001b[1;32m     55\u001b[0m         \u001b[0mtime\u001b[0m\u001b[0;34m.\u001b[0m\u001b[0msleep\u001b[0m\u001b[0;34m(\u001b[0m\u001b[0;36m0.2\u001b[0m\u001b[0;34m)\u001b[0m\u001b[0;34m\u001b[0m\u001b[0m\n\u001b[1;32m     56\u001b[0m \u001b[0;34m\u001b[0m\u001b[0m\n",
      "\u001b[0;32m~/Desktop/ADRNX/SRS/SIM960.py\u001b[0m in \u001b[0;36mset_manual_output\u001b[0;34m(self, val)\u001b[0m\n\u001b[1;32m     73\u001b[0m             \u001b[0;32mraise\u001b[0m \u001b[0mValueError\u001b[0m\u001b[0;34m(\u001b[0m\u001b[0;34m\"MANUAL OUTPUT {} OUT OF BOUNDS\"\u001b[0m\u001b[0;34m.\u001b[0m\u001b[0mformat\u001b[0m\u001b[0;34m(\u001b[0m\u001b[0mval\u001b[0m\u001b[0;34m)\u001b[0m\u001b[0;34m)\u001b[0m\u001b[0;34m\u001b[0m\u001b[0m\n\u001b[1;32m     74\u001b[0m         \u001b[0;32melif\u001b[0m \u001b[0;34m(\u001b[0m\u001b[0mval\u001b[0m \u001b[0;34m<\u001b[0m \u001b[0mself\u001b[0m\u001b[0;34m.\u001b[0m\u001b[0mmanlim_low\u001b[0m \u001b[0;32mor\u001b[0m \u001b[0mval\u001b[0m \u001b[0;34m>\u001b[0m \u001b[0mself\u001b[0m\u001b[0;34m.\u001b[0m\u001b[0mmanlim_high\u001b[0m\u001b[0;34m)\u001b[0m\u001b[0;34m:\u001b[0m\u001b[0;34m\u001b[0m\u001b[0m\n\u001b[0;32m---> 75\u001b[0;31m             \u001b[0;32mraise\u001b[0m \u001b[0mValueError\u001b[0m\u001b[0;34m(\u001b[0m\u001b[0;34m\"MANUAL OUTPUT {} OUT OF LIMITS\"\u001b[0m\u001b[0;34m.\u001b[0m\u001b[0mformat\u001b[0m\u001b[0;34m(\u001b[0m\u001b[0mval\u001b[0m\u001b[0;34m)\u001b[0m\u001b[0;34m)\u001b[0m\u001b[0;34m\u001b[0m\u001b[0m\n\u001b[0m\u001b[1;32m     76\u001b[0m         \u001b[0;32melse\u001b[0m\u001b[0;34m:\u001b[0m\u001b[0;34m\u001b[0m\u001b[0m\n\u001b[1;32m     77\u001b[0m             \u001b[0;32mreturn\u001b[0m \u001b[0mself\u001b[0m\u001b[0;34m.\u001b[0m\u001b[0m_process_cmd_no_resp\u001b[0m\u001b[0;34m(\u001b[0m\u001b[0mself\u001b[0m\u001b[0;34m.\u001b[0m\u001b[0m_cmd_sMOUT\u001b[0m\u001b[0;34m(\u001b[0m\u001b[0mval\u001b[0m\u001b[0;34m)\u001b[0m\u001b[0;34m)\u001b[0m\u001b[0;34m\u001b[0m\u001b[0m\n",
      "\u001b[0;31mValueError\u001b[0m: MANUAL OUTPUT 1.0000000000000002 OUT OF LIMITS"
     ]
    },
    {
     "name": "stderr",
     "output_type": "stream",
     "text": [
      "/home/pi/Desktop/ADRNX/SRS/SIM900.py:274: UserWarning: Bad message payload length - msg:|'MSG 3,#251StanforResearch_Systems,M960,s/n014669,ver17\\rMS01.000431\\r'| len:|57| (want |51|)\n",
      "  warnings.warn(\"Bad message payload length - msg:|{}| len:|{}| (want |{}|)\".format(repr(msg),len(msg3),numchar))\n",
      "Exception in thread srsinput:\n",
      "Traceback (most recent call last):\n",
      "  File \"/usr/lib/python3.4/threading.py\", line 920, in _bootstrap_inner\n",
      "    self.run()\n",
      "  File \"/usr/lib/python3.4/threading.py\", line 868, in run\n",
      "    self._target(*self._args, **self._kwargs)\n",
      "  File \"/home/pi/Desktop/ADRNX/SRS/SIM900.py\", line 176, in _input_loop\n",
      "    self._iq_process(ser)\n",
      "  File \"/home/pi/Desktop/ADRNX/SRS/SIM900.py\", line 221, in _iq_process\n",
      "    [source,message] = self._msg_parser(resp)\n",
      "  File \"/home/pi/Desktop/ADRNX/SRS/SIM900.py\", line 259, in _msg_parser\n",
      "    numchar = int(msg2[2:4])#numchar = int(msg2[2:4])-2\n",
      "ValueError: invalid literal for int() with base 10: '5t'\n",
      "\n"
     ]
    }
   ],
   "source": [
    "target = 2.0\n",
    "maxemf = 0.150\n",
    "vstep = 0.001 #Max slew rate in V/s\n",
    "\n",
    "emfs, vouts, times, times2 = ([] for i in range(4))\n",
    "\n",
    "vout = s960.get_manual_output()\n",
    "vout2 = s960.get_manual_output()\n",
    "assert vout == vout2\n",
    "mf.clear_virtual_queues()\n",
    "mf.clear_hw_queues()\n",
    "if vout > target: \n",
    "    dir_up = 0 #down\n",
    "elif vout == target: \n",
    "    warnings.warn(\"Target same as current value\")\n",
    "else:\n",
    "    dir_up = 1 #up\n",
    "delta = abs(vout - target)\n",
    "s = timer()\n",
    "print(\"Starting run - direction {}\".format(dir_up))\n",
    "barv = make_bar(min(target,vout),max(target,vout),prefix='Voltage: ',postfix='')\n",
    "baremf = make_bar(0,300,prefix='Back EMF: ',postfix='mV')\n",
    "\n",
    "i = 0\n",
    "try:\n",
    "    # Start streaming EMF channel\n",
    "    s970.start_data_stream(SRS.SIM970.CHANNELS.MAGEMF)\n",
    "    while(abs(vout - target) > 0.0):\n",
    "        start_t = timer()\n",
    "        gotevent = s970.await_next_event(tm=2.0,clear_before=True,clear_after=False)\n",
    "        if not gotevent:\n",
    "            raise RuntimeError(\"DID NOT GET VOLTAGE VALUE IN TIME - ABORTING\")\n",
    "        emf = abs(s970.lastvalues[SRS.SIM970.CHANNELS.MAGEMF])\n",
    "        emfs.append(emf)\n",
    "        update_bar(baremf,emf*1000)\n",
    "        times.append(timer()-s)\n",
    "        #print(\"EMF: {}\".format(emf))    \n",
    "        while (emf > maxemf): \n",
    "            # Loop until under threshold\n",
    "            gotevent = s970.await_next_event(tm=1.5,clear_before=True,clear_after=False)\n",
    "            if not gotevent:\n",
    "                raise RuntimeError(\"DID NOT GET VOLTAGE VALUE IN TIME - ABORTING\")            \n",
    "            emf = abs(s970.lastvalues[SRS.SIM970.CHANNELS.MAGEMF]) \n",
    "            update_bar(baremf,emf*1000)\n",
    "            #print(\"EMFW: {}\".format(emf))\n",
    "            \n",
    "        # Set new manual voltage\n",
    "        if (dir_up):\n",
    "            if (vout + vstep < target): vnew = vout + vstep               \n",
    "            else: vnew = target                   \n",
    "        else:\n",
    "            if (vout - vstep > target): vnew = vout - vstep                \n",
    "            else: vnew = target                 \n",
    "        s960.set_manual_output(vnew)\n",
    "        time.sleep(0.2)\n",
    "        \n",
    "        # Check that new manual voltage is as intended (setting and actual output)\n",
    "        attempts = 0\n",
    "        while attempts < 2:\n",
    "            try:\n",
    "                vout_chk = s960.get_manual_output()\n",
    "                time.sleep(0.2)  \n",
    "                break\n",
    "            except Exception as e: \n",
    "                print(e)\n",
    "                attempts += 1\n",
    "                warnings.warn(\"VMAN FAILED\")\n",
    "        \n",
    "        attempts = 0\n",
    "        while attempts < 2:\n",
    "            try:            \n",
    "                vmeas_chk = s960.get_output_voltage()\n",
    "                time.sleep(0.2)  \n",
    "                break\n",
    "            except Exception as e: \n",
    "                print(e)\n",
    "                attempts += 1\n",
    "                warnings.warn(\"VMEAS FAILED\")\n",
    "        #clear_output()    \n",
    "        print(\"{:05.2f}% | VMEAS: {:.5f} | VRESP: {:.5f} | VOLD: {:.5f} | VNEW:{:.5f} | EMF: {:.6f}\".format(\\\n",
    "            100-abs(vout - target)*100/delta,vmeas_chk,vout_chk,vout,vnew,emf))\n",
    "        vout = vnew; vouts.append(vmeas_chk); times2.append(timer()-s)\n",
    "        try:\n",
    "            warnings.warn(s960.excq.get_nowait())\n",
    "            raise RuntimeError(\"Got s960 exc\")\n",
    "        except:\n",
    "            pass\n",
    "        assert abs(vout_chk - vnew) < 0.000001 #rounding of floats a problem \n",
    "        assert abs(vmeas_chk - vnew) < 0.01\n",
    "        update_bar(barv,vout_chk)\n",
    "        i+=1\n",
    "        #print(i)\n",
    "#         if i%20 == 0:\n",
    "#             clear_output()\n",
    "        # Wait remainder of 1 second\n",
    "        while(timer()-start_t < 1.0): time.sleep(0.05)  \n",
    "    print(\"DONE - took {:2f} minutes\".format(timer()-s))\n",
    "finally:\n",
    "    # Stop data and clean up\n",
    "    s970.stop_data_stream()\n",
    "    time.sleep(0.2)\n",
    "    s970.flush_queue()   "
   ]
  },
  {
   "cell_type": "code",
   "execution_count": null,
   "metadata": {
    "collapsed": true
   },
   "outputs": [],
   "source": [
    "s970.start_data_stream()"
   ]
  },
  {
   "cell_type": "code",
   "execution_count": 36,
   "metadata": {},
   "outputs": [],
   "source": [
    "def make_bar(minv=0,maxv=1,prefix='Voltage: ',postfix='/2.0V'):\n",
    "    from ipywidgets import FloatProgress,IntProgress, HTML, VBox\n",
    "    from IPython.display import display\n",
    "\n",
    "    progress = FloatProgress(min=minv,max=maxv,step=(maxv-minv)/1000)\n",
    "    progress.bar_style = 'success'\n",
    "    label = HTML()\n",
    "    box = VBox(children=[label, progress])\n",
    "    display(box)\n",
    "    \n",
    "    label.value = prefix+''+postfix\n",
    "    return [progress, label, box,prefix,postfix]\n",
    "#     time.sleep(5)\n",
    "#     progress.bar_style = 'danger'\n",
    "#     time.sleep(5)\n",
    "#     progress.bar_style = 'success'\n",
    "    \n",
    "def update_bar(bar,val,fmt='{:.3f}'):\n",
    "    bar[0].value = val\n",
    "    bar[1].value = bar[3]+fmt.format(val)+bar[4]"
   ]
  },
  {
   "cell_type": "code",
   "execution_count": 35,
   "metadata": {},
   "outputs": [
    {
     "data": {
      "application/vnd.jupyter.widget-view+json": {
       "model_id": "76a74dee7da34756983a04a095ab4212"
      }
     },
     "metadata": {},
     "output_type": "display_data"
    },
    {
     "name": "stdout",
     "output_type": "stream",
     "text": [
      "test\n",
      "test\n",
      "test\n",
      "test\n",
      "test\n",
      "test\n",
      "test\n",
      "test\n",
      "test\n",
      "test\n"
     ]
    }
   ],
   "source": [
    "bar = make_bar(0,1.5,prefix='Voltage: ',postfix='/2.0V')\n",
    "for i in np.arange(0,1,0.1):\n",
    "    time.sleep(1)\n",
    "    update_bar(bar,i)\n",
    "    print('test')"
   ]
  },
  {
   "cell_type": "code",
   "execution_count": null,
   "metadata": {
    "collapsed": true
   },
   "outputs": [],
   "source": [
    "s970.stop_data_stream()\n",
    "s921.stop_data_stream()\n",
    "s922.stop_data_stream()"
   ]
  },
  {
   "cell_type": "code",
   "execution_count": null,
   "metadata": {
    "collapsed": true
   },
   "outputs": [],
   "source": [
    "#%matplotlib notebook"
   ]
  },
  {
   "cell_type": "code",
   "execution_count": null,
   "metadata": {
    "collapsed": true
   },
   "outputs": [],
   "source": [
    "fig = plt.figure()\n",
    "plt.plot(times,emfs,'-')\n",
    "plt.ylabel(\"EMF (V)\")\n",
    "plt.show()\n",
    "\n",
    "fig = plt.figure()\n",
    "plt.plot(times2,vouts,'-')\n",
    "plt.ylabel(\"OUTPUT (V)\")\n",
    "plt.show()"
   ]
  },
  {
   "cell_type": "code",
   "execution_count": null,
   "metadata": {
    "collapsed": true
   },
   "outputs": [],
   "source": [
    "try:\n",
    "    warnings.warn(s960.excq.get_nowait())\n",
    "    raise RuntimeError(\"Got s960 exc\")\n",
    "except:\n",
    "    pass"
   ]
  },
  {
   "cell_type": "code",
   "execution_count": null,
   "metadata": {
    "collapsed": true
   },
   "outputs": [],
   "source": []
  }
 ],
 "metadata": {
  "kernelspec": {
   "display_name": "Python 3",
   "language": "python",
   "name": "python3"
  },
  "language_info": {
   "codemirror_mode": {
    "name": "ipython",
    "version": 3
   },
   "file_extension": ".py",
   "mimetype": "text/x-python",
   "name": "python",
   "nbconvert_exporter": "python",
   "pygments_lexer": "ipython3",
   "version": "3.4.2"
  }
 },
 "nbformat": 4,
 "nbformat_minor": 2
}
