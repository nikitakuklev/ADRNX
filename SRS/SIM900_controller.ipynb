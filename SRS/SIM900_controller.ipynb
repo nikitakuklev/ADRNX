{
 "cells": [
  {
   "cell_type": "code",
   "execution_count": 1,
   "metadata": {
    "collapsed": true
   },
   "outputs": [],
   "source": [
    "import sys\n",
    "sys.path.append('/home/pi/Desktop/ADR_NX/Utils')\n",
    "import serial,time,logging,adr_utils,Queue\n",
    "from timeit import default_timer as timer \n",
    "debug = 1"
   ]
  },
  {
   "cell_type": "code",
   "execution_count": 8,
   "metadata": {
    "collapsed": true
   },
   "outputs": [],
   "source": [
    "def init_and_open_connection():\n",
    "    ser = adr_utils.open_serial_port('/dev/ADR_sim900')\n",
    "    ser.open()\n",
    "    ser.write(\"*CLS\\n\")\n",
    "    time.sleep(1)\n",
    "    ser.flushInput()\n",
    "    ser.flushOutput()"
   ]
  },
  {
   "cell_type": "code",
   "execution_count": 4,
   "metadata": {},
   "outputs": [
    {
     "ename": "SyntaxError",
     "evalue": "invalid syntax (<ipython-input-4-294ede9d7485>, line 38)",
     "output_type": "error",
     "traceback": [
      "\u001b[0;36m  File \u001b[0;32m\"<ipython-input-4-294ede9d7485>\"\u001b[0;36m, line \u001b[0;32m38\u001b[0m\n\u001b[0;31m    if not check1\u001b[0m\n\u001b[0m                 ^\u001b[0m\n\u001b[0;31mSyntaxError\u001b[0m\u001b[0;31m:\u001b[0m invalid syntax\n"
     ]
    }
   ],
   "source": [
    "global sim900q_out, sim900q_in\n",
    "sim900q_out = Queue.Queue(1000) #FIFO queue OUT\n",
    "sim900q_in = Queue.Queue(1000) #FIFO queue IN\n",
    "delaylist = ['*IDN','RPER']\n",
    "\n",
    "# Adds command to the queue\n",
    "# Types - 0=no response/reg wait; 1=imm response/reg wait; 2=imm response/extra wait\n",
    "def oq_add(cmd, tp=1):\n",
    "    if debug: print(\"QADD ({}): {}\".format(tp,cmd))\n",
    "    sim900q_out.put_nowait([cmd,tp])\n",
    "    \n",
    "def oq_process():\n",
    "    start = timer()\n",
    "    while (not sim900q_out.empty and (timer()-start)<10.0):\n",
    "        [cmd, tp] = sim900q_out.get_nowait()\n",
    "        if debug: print(\"QSEND ({}): {}\".format(tp,cmd))\n",
    "        ser.write(cmd)\n",
    "        if (tp == 2):\n",
    "            time.sleep(0.4)\n",
    "        else:\n",
    "            time.sleep(0.1)\n",
    "        if (tp >= 1):\n",
    "            continue\n",
    "    \n",
    "def iq_process():\n",
    "    start = timer()\n",
    "    while (not sim900q_in.empty and (timer()-start)<10.0):\n",
    "        cmd = sim900q_in.get_nowait()\n",
    "        \n",
    "def iq_process_one():\n",
    "    start = timer()   \n",
    "    cmd = sim900q_in.get_nowait()\n",
    "    if debug: print(\"QREC: {}\".format(cmd))\n",
    "    end = timer()\n",
    "    \n",
    "def msg_parser(msg):\n",
    "    check1 = msd.startsWith(\"MSG\")\n",
    "    if not check1\n",
    "        raise IOError(\"Bad message parse\")\n",
    "    msg = msg.substring(3,END)\n",
    "    numdigit = msg.substring(1,2)\n",
    "    if numdigit == '2'\n",
    "        numchar = msg.substring(2,4)\n",
    "    elif numdigit == '3'\n",
    "        numchar = msg.substring(2,5)\n",
    "    else:\n",
    "        raise IOError(\"Bad message digit counter\") \n",
    "    \n",
    "    msg = msg.substring(2+int(numdigit),END)\n",
    "    if len(msg) != numchar\n",
    "        raise IOError(\"Bad message payload length\") \n",
    "        \n",
    "    return msg"
   ]
  },
  {
   "cell_type": "code",
   "execution_count": null,
   "metadata": {
    "collapsed": true
   },
   "outputs": [],
   "source": [
    "def read_line(ser, tm=1, critical=False):\n",
    "    tm_old = ser.timeout\n",
    "    ser.timeout = tm\n",
    "    resp = ser.readline().rstrip()\n",
    "    ser.timeout = tm_old\n",
    "    if (resp == '' and critical):\n",
    "        raise IOError(\"Critical response not received\")    \n",
    "    return resp\n",
    "\n",
    "#get identity\n",
    "def get_IDN():\n",
    "    oq_add(cmd_IDN())\n",
    "    return read_line(ser, 1)\n",
    "def cmd_IDN:\n",
    "    return ('*IDN?\\n')\n",
    "\n",
    "#get message passthrough bits\n",
    "def get_RPER():\n",
    "    oq_add(cmd_RPER())\n",
    "    return read_line(ser, 1)\n",
    "def cmd_get_RPER:\n",
    "    return ('RPER?\\n')\n",
    "\n",
    "#set message passthrough bits \n",
    "def set_RPER(ports):\n",
    "    oq_add(cmd_RPER(ports))\n",
    "def cmd_set_RPER(ports):\n",
    "    portbin = 0\n",
    "    for i in ports:\n",
    "        portbin += int(1 << i)    \n",
    "    return ('RPER {}\\n'.format(portbin))   \n",
    "\n",
    "#reset message passthrough bits    \n",
    "def reset_RPER():\n",
    "    oq_add(cmd_reset_RPER(port))  \n",
    "def cmd_reset_RPER():\n",
    "    return ('RPER 0\\n')  \n",
    "    \n",
    "#send command to module  \n",
    "def send_CMD_module(port, cmd):\n",
    "    oq_add('SNDT {},\"{}\"\\n'.format(port, cmd))\n",
    "\n",
    "#send command to mainframe   \n",
    "def send_CMD_mf(ser, cmd):\n",
    "    ser.write('{}\\n'.format(cmd))   \n",
    "\n",
    "#baud change of mainframe\n",
    "def set_baud_mf(ser):\n",
    "    send_CMD_mf(ser, \"BAUD D,115200\")\n",
    "                \n",
    "#baud change of module   \n",
    "def set_baud_module(ser, mod, rate):\n",
    "    send_CMD_module(ser,mod,\"BAUD {}\".format(rate))\n",
    "    send_CMD_mf(ser, \"BAUD {},cmd\")\n",
    "    \n",
    "#flush mainframe\n",
    "def flush_mf(ser):\n",
    "    send_CMD_mf(ser, \"FLOQ\")\n",
    "    send_CMD_mf(ser, \"FLSH\")\n",
    "    #ser.write(\"*CLS\\n\")\n",
    "\n",
    "#flush our port\n",
    "def flush_pi_port(ser):\n",
    "    ser.flushInput()\n",
    "    ser.flushOutput()\n",
    "    \n",
    "#reset comms on one of the ports\n",
    "def reset_serial_module(ser, mod):\n",
    "    send_CMD_module(ser,mod,\"SRST {}\".format(mod))"
   ]
  },
  {
   "cell_type": "code",
   "execution_count": 5,
   "metadata": {
    "collapsed": true
   },
   "outputs": [],
   "source": [
    "#enumerate all modules\n",
    "def enumerate_mods(ser):\n",
    "    for i in range(1,9):\n",
    "        ser.write('SNDT {},\"*IDN?\"\\n'.format(i))\n",
    "        time.sleep(0.3)\n",
    "        ser.write('GETN? {},128\\n'.format(i))\n",
    "        time.sleep(0.3)\n",
    "        # have to not use readline because empty slots return weird results otherwise\n",
    "        response = ser.read(128).encode('string_escape')\n",
    "        print(\"Slot {} - {}\".format(i,response))    "
   ]
  },
  {
   "cell_type": "code",
   "execution_count": 6,
   "metadata": {},
   "outputs": [
    {
     "ename": "NameError",
     "evalue": "name 'ser' is not defined",
     "output_type": "error",
     "traceback": [
      "\u001b[0;31m---------------------------------------------------------------------------\u001b[0m",
      "\u001b[0;31mNameError\u001b[0m                                 Traceback (most recent call last)",
      "\u001b[0;32m<ipython-input-6-ebcb8605ee36>\u001b[0m in \u001b[0;36m<module>\u001b[0;34m()\u001b[0m\n\u001b[0;32m----> 1\u001b[0;31m \u001b[0mser\u001b[0m\u001b[0;34m.\u001b[0m\u001b[0mwrite\u001b[0m\u001b[0;34m(\u001b[0m\u001b[0;34m\"*CLS\\n\"\u001b[0m\u001b[0;34m)\u001b[0m\u001b[0;34m\u001b[0m\u001b[0m\n\u001b[0m\u001b[1;32m      2\u001b[0m \u001b[0mser\u001b[0m\u001b[0;34m.\u001b[0m\u001b[0mwrite\u001b[0m\u001b[0;34m(\u001b[0m\u001b[0;34m\"FLSH\\n\"\u001b[0m\u001b[0;34m)\u001b[0m\u001b[0;34m\u001b[0m\u001b[0m\n\u001b[1;32m      3\u001b[0m \u001b[0mser\u001b[0m\u001b[0;34m.\u001b[0m\u001b[0mtimeout\u001b[0m \u001b[0;34m=\u001b[0m \u001b[0;36m0.1\u001b[0m\u001b[0;34m\u001b[0m\u001b[0m\n\u001b[1;32m      4\u001b[0m \u001b[0;32mfor\u001b[0m \u001b[0mi\u001b[0m \u001b[0;32min\u001b[0m \u001b[0mrange\u001b[0m\u001b[0;34m(\u001b[0m\u001b[0;36m1\u001b[0m\u001b[0;34m,\u001b[0m\u001b[0;36m9\u001b[0m\u001b[0;34m)\u001b[0m\u001b[0;34m:\u001b[0m\u001b[0;34m\u001b[0m\u001b[0m\n\u001b[1;32m      5\u001b[0m     \u001b[0mser\u001b[0m\u001b[0;34m.\u001b[0m\u001b[0mwrite\u001b[0m\u001b[0;34m(\u001b[0m\u001b[0;34m'SNDT {},\"*IDN?\"\\n'\u001b[0m\u001b[0;34m.\u001b[0m\u001b[0mformat\u001b[0m\u001b[0;34m(\u001b[0m\u001b[0mi\u001b[0m\u001b[0;34m)\u001b[0m\u001b[0;34m)\u001b[0m\u001b[0;34m\u001b[0m\u001b[0m\n",
      "\u001b[0;31mNameError\u001b[0m: name 'ser' is not defined"
     ]
    }
   ],
   "source": [
    "ser.write(\"*CLS\\n\")\n",
    "ser.write(\"FLSH\\n\")\n",
    "ser.timeout = 0.1\n",
    "for i in range(1,9):\n",
    "    ser.write('SNDT {},\"*IDN?\"\\n'.format(i))\n",
    "    time.sleep(0.1)\n",
    "    ser.write('GETN? {},128\\n'.format(i))\n",
    "    time.sleep(0.1)\n",
    "    response = ser.read(1024)\n",
    "    print(\"Slot {} - {}\".format(i,response.rstrip()))   "
   ]
  },
  {
   "cell_type": "code",
   "execution_count": 11,
   "metadata": {},
   "outputs": [],
   "source": [
    "ser = init_and_open_connection()"
   ]
  },
  {
   "cell_type": "code",
   "execution_count": null,
   "metadata": {
    "collapsed": true
   },
   "outputs": [],
   "source": [
    "string1 = 'CONN 6, \"dde\"\\n'\n",
    "ser.write(string1)\n",
    "\n",
    "time.sleep(0.2)\n",
    "response = ser.read(1024)\n",
    "print 'R2:' + response"
   ]
  },
  {
   "cell_type": "code",
   "execution_count": 10,
   "metadata": {},
   "outputs": [
    {
     "ename": "NameError",
     "evalue": "name 'ser' is not defined",
     "output_type": "error",
     "traceback": [
      "\u001b[0;31m---------------------------------------------------------------------------\u001b[0m",
      "\u001b[0;31mNameError\u001b[0m                                 Traceback (most recent call last)",
      "\u001b[0;32m<ipython-input-10-6751ee80b7f0>\u001b[0m in \u001b[0;36m<module>\u001b[0;34m()\u001b[0m\n\u001b[0;32m----> 1\u001b[0;31m \u001b[0mser\u001b[0m\u001b[0;34m.\u001b[0m\u001b[0mwrite\u001b[0m\u001b[0;34m(\u001b[0m\u001b[0;34m'*IDN?\\n'\u001b[0m\u001b[0;34m)\u001b[0m\u001b[0;34m\u001b[0m\u001b[0m\n\u001b[0m\u001b[1;32m      2\u001b[0m \u001b[0mtime\u001b[0m\u001b[0;34m.\u001b[0m\u001b[0msleep\u001b[0m\u001b[0;34m(\u001b[0m\u001b[0;36m0.2\u001b[0m\u001b[0;34m)\u001b[0m\u001b[0;34m\u001b[0m\u001b[0m\n\u001b[1;32m      3\u001b[0m \u001b[0mresponse\u001b[0m \u001b[0;34m=\u001b[0m \u001b[0mser\u001b[0m\u001b[0;34m.\u001b[0m\u001b[0mread\u001b[0m\u001b[0;34m(\u001b[0m\u001b[0;36m1024\u001b[0m\u001b[0;34m)\u001b[0m\u001b[0;34m\u001b[0m\u001b[0m\n\u001b[1;32m      4\u001b[0m \u001b[0;32mprint\u001b[0m \u001b[0;34m'R3:'\u001b[0m \u001b[0;34m+\u001b[0m \u001b[0mresponse\u001b[0m\u001b[0;34m\u001b[0m\u001b[0m\n",
      "\u001b[0;31mNameError\u001b[0m: name 'ser' is not defined"
     ]
    }
   ],
   "source": [
    "ser.write('*IDN?\\n')\n",
    "time.sleep(0.2)\n",
    "response = ser.read(1024)\n",
    "print 'R3:' + response"
   ]
  },
  {
   "cell_type": "code",
   "execution_count": null,
   "metadata": {
    "collapsed": true
   },
   "outputs": [],
   "source": [
    "ser.read(1024)\n",
    "maxt = maxt2 = 0\n",
    "totalt = totalt2 = 0\n",
    "for i in range(1,1000000):\n",
    "    start = timer()\n",
    "    ser.write('*IDN?\\n')\n",
    "    end = timer()\n",
    "    #time.sleep(0.1)\n",
    "    ser.timeout = 0.1\n",
    "    response = ser.readline().rstrip();\n",
    "    end2 = timer()\n",
    "    delta = (end-start)\n",
    "    delta2 = (end2-end)\n",
    "    \n",
    "    totalt += delta\n",
    "    totalt2 += delta2\n",
    "    if (maxt < delta):\n",
    "        maxt = delta\n",
    "    if (maxt2 < delta2):\n",
    "        maxt2 = delta2\n",
    "    if (response != \"Stanford_Research_Systems,SIM960,s/n014669,ver2.17\"):\n",
    "        print(\"BROKE ON ITERATION {}, resp '{}'\".format(i,response))\n",
    "        break\n",
    "    if (i % 10000 == 0):\n",
    "        print(\"IT: {} | avg: {} | max: {} | avg2: {} | max2: {}\".format(i,totalt/i,maxt,totalt2/i,maxt2))"
   ]
  },
  {
   "cell_type": "code",
   "execution_count": null,
   "metadata": {
    "collapsed": true
   },
   "outputs": [],
   "source": [
    "ser.write('CURV? 0\\n')\n",
    "time.sleep(0.2)\n",
    "response = ser.read(1024)\n",
    "print 'R3:' + response"
   ]
  },
  {
   "cell_type": "code",
   "execution_count": null,
   "metadata": {
    "collapsed": true
   },
   "outputs": [],
   "source": [
    "ser.write('CURV 0,1\\n')\n",
    "time.sleep(0.2)\n",
    "response = ser.read(1024)\n",
    "print 'R3:' + response"
   ]
  },
  {
   "cell_type": "code",
   "execution_count": null,
   "metadata": {
    "collapsed": true
   },
   "outputs": [],
   "source": [
    "ser.read(1024)\n",
    "for i in range(1,100):\n",
    "    ser.write(\"CAPT? 2,{}\\n\".format(i))\n",
    "    time.sleep(0.4)\n",
    "    response = ser.read(1024).rstrip()\n",
    "    print \"Point {}: {}\".format(i,response)"
   ]
  },
  {
   "cell_type": "code",
   "execution_count": null,
   "metadata": {
    "collapsed": true
   },
   "outputs": [],
   "source": [
    "ser.write('TVAL? 0\\n')\n",
    "time.sleep(1)\n",
    "response = ser.read(1024)\n",
    "print 'R3:' + response"
   ]
  },
  {
   "cell_type": "code",
   "execution_count": null,
   "metadata": {
    "collapsed": true
   },
   "outputs": [],
   "source": [
    "ser.write('*RST\\n')\n",
    "time.sleep(0.2)\n",
    "response = ser.read(1024)\n",
    "print 'R3:' + response"
   ]
  },
  {
   "cell_type": "code",
   "execution_count": null,
   "metadata": {
    "collapsed": true
   },
   "outputs": [],
   "source": [
    "string2 = 'TVAL?' + str(4) + '\\n'\n",
    "ser.write(string2)\n",
    "\n",
    "time.sleep(0.2)\n",
    "response = ser.read(64)\n",
    "print 'R4:' + response"
   ]
  },
  {
   "cell_type": "code",
   "execution_count": null,
   "metadata": {
    "collapsed": true
   },
   "outputs": [],
   "source": [
    "time.sleep(0.2)\n",
    "ser.write('dde\\n')\n",
    "\n",
    "response = ser.read(64)\n",
    "print 'R5:' + response"
   ]
  },
  {
   "cell_type": "code",
   "execution_count": null,
   "metadata": {
    "collapsed": true
   },
   "outputs": [],
   "source": [
    "ser.close()"
   ]
  },
  {
   "cell_type": "code",
   "execution_count": null,
   "metadata": {
    "collapsed": true
   },
   "outputs": [],
   "source": [
    "string1 = '*IDN?\\n'\n",
    "ser.write(string1)\n",
    "time.sleep(2)\n",
    "response = ser.read(64)\n",
    "print response"
   ]
  },
  {
   "cell_type": "code",
   "execution_count": null,
   "metadata": {
    "collapsed": true
   },
   "outputs": [],
   "source": [
    "ser.write(\"*CLS\\n\")\n",
    "ser.write(\"FLSH\\n\")\n",
    "ser.timeout = 0.1\n",
    "for i in range(1,9):\n",
    "    ser.write('SNDT {},\"*IDN?\"\\n'.format(i))\n",
    "    time.sleep(0.1)\n",
    "    ser.write('GETN? {},128\\n'.format(i))\n",
    "    time.sleep(0.1)\n",
    "    response = ser.read(1024)\n",
    "    print(\"Slot {} - {}\".format(i,response.rstrip()))    "
   ]
  },
  {
   "cell_type": "code",
   "execution_count": null,
   "metadata": {
    "collapsed": true
   },
   "outputs": [],
   "source": [
    "ser.write(\"*CLS\\n\")\n",
    "ser.write(\"FLSH\\n\")\n",
    "ser.timeout = 0\n",
    "for x in range(1000,50,-20):\n",
    "    start = timer()\n",
    "    ser.write('*IDN?\\n')\n",
    "    time.sleep(float(x)/1000)\n",
    "    response = ser.read(128)\n",
    "    end = timer()\n",
    "    print('{} | {} | {}'.format(x,end - start,response).rstrip())"
   ]
  },
  {
   "cell_type": "code",
   "execution_count": null,
   "metadata": {
    "collapsed": true
   },
   "outputs": [],
   "source": [
    "ser.flushInput();\n",
    "ser.write(\"*CLS\\n\")\n",
    "ser.write(\"FLSH\\n\")\n",
    "ser.timeout = 0.1\n",
    "for x in range(1,20):    \n",
    "    ser.write('*IDN?\\n')\n",
    "    start = timer()\n",
    "    while ser.inWaiting == 0:\n",
    "        pass\n",
    "    end = timer()\n",
    "    t1 = end - start\n",
    "    response = ser.readline()\n",
    "    end2 = timer()\n",
    "    t2 = end2 - start\n",
    "    print('{} | {} | {}'.format(t1,t2,response).rstrip())"
   ]
  },
  {
   "cell_type": "code",
   "execution_count": null,
   "metadata": {
    "collapsed": true
   },
   "outputs": [],
   "source": [
    "ser.write(\"FLSH\\n\")\n",
    "for x in range(1000,50,-20):\n",
    "    ser.write('SNDT 6,\"TVAL?4\"\\n')\n",
    "    time.sleep(float(x)/1000)\n",
    "    ser.write('GETN? 6,128\\n')\n",
    "    time.sleep(float(x)/1000)\n",
    "    response = ser.read(1024)\n",
    "    ser.\n",
    "    print('{} | {}'.format(x,response).rstrip())"
   ]
  },
  {
   "cell_type": "code",
   "execution_count": null,
   "metadata": {
    "collapsed": true
   },
   "outputs": [],
   "source": [
    "for (x * 0.1) in range(1000,50,-10):\n",
    "    print(a)"
   ]
  },
  {
   "cell_type": "code",
   "execution_count": null,
   "metadata": {
    "collapsed": true
   },
   "outputs": [],
   "source": [
    "ser.write('SNDT 6,\"TVAL?4\"\\n')\n",
    "time.sleep(1)\n",
    "ser.write('GETN? 6,128\\n')\n",
    "time.sleep(1)\n",
    "response = ser.read(1024)\n",
    "print response"
   ]
  },
  {
   "cell_type": "code",
   "execution_count": null,
   "metadata": {
    "collapsed": true
   },
   "outputs": [],
   "source": [
    "ser.write('TERM? 6,\"TVAL?4\"\\n')\n",
    "time.sleep(1)\n",
    "ser.write('GETN? 6,128\\n')\n",
    "time.sleep(1)\n",
    "response = ser.read(1024)\n",
    "print response"
   ]
  },
  {
   "cell_type": "code",
   "execution_count": null,
   "metadata": {
    "collapsed": true
   },
   "outputs": [],
   "source": [
    "ser.write('SEND 6,\"*RST\\n\"\\n')\n",
    "time.sleep(2)\n",
    "response = ser.read(64)\n",
    "print response"
   ]
  },
  {
   "cell_type": "code",
   "execution_count": null,
   "metadata": {
    "collapsed": true
   },
   "outputs": [],
   "source": [
    "ser.write('SRST 6\\n')\n",
    "time.sleep(2)\n",
    "response = ser.read(64)\n",
    "print response"
   ]
  },
  {
   "cell_type": "code",
   "execution_count": null,
   "metadata": {
    "collapsed": true
   },
   "outputs": [],
   "source": [
    "ser.write('RPER?\\n')\n",
    "time.sleep(2)\n",
    "response = ser.read(64)\n",
    "print response"
   ]
  },
  {
   "cell_type": "code",
   "execution_count": null,
   "metadata": {
    "collapsed": true
   },
   "outputs": [],
   "source": [
    "ser.write('TERM? 6\\n')\n",
    "time.sleep(2)\n",
    "response = ser.read(64)\n",
    "print response"
   ]
  },
  {
   "cell_type": "code",
   "execution_count": null,
   "metadata": {
    "collapsed": true
   },
   "outputs": [],
   "source": [
    "def log_progress(sequence, every=None, size=None, name='Items'):\n",
    "    from ipywidgets import IntProgress, HTML, VBox\n",
    "    from IPython.display import display\n",
    "\n",
    "    is_iterator = False\n",
    "    if size is None:\n",
    "        try:\n",
    "            size = len(sequence)\n",
    "        except TypeError:\n",
    "            is_iterator = True\n",
    "    if size is not None:\n",
    "        if every is None:\n",
    "            if size <= 200:\n",
    "                every = 1\n",
    "            else:\n",
    "                every = int(size / 200)     # every 0.5%\n",
    "    else:\n",
    "        assert every is not None, 'sequence is iterator, set every'\n",
    "\n",
    "    if is_iterator:\n",
    "        progress = IntProgress(min=0, max=1, value=1)\n",
    "        progress.bar_style = 'info'\n",
    "    else:\n",
    "        progress = IntProgress(min=0, max=size, value=0)\n",
    "    label = HTML()\n",
    "    box = VBox(children=[label, progress])\n",
    "    display(box)\n",
    "\n",
    "    index = 0\n",
    "    try:\n",
    "        for index, record in enumerate(sequence, 1):\n",
    "            if index == 1 or index % every == 0:\n",
    "                if is_iterator:\n",
    "                    label.value = '{name}: {index} / ?'.format(\n",
    "                        name=name,\n",
    "                        index=index\n",
    "                    )\n",
    "                else:\n",
    "                    progress.value = index\n",
    "                    label.value = u'{name}: {index} / {size}'.format(\n",
    "                        name=name,\n",
    "                        index=index,\n",
    "                        size=size\n",
    "                    )\n",
    "            yield record\n",
    "    except:\n",
    "        progress.bar_style = 'danger'\n",
    "        raise\n",
    "    else:\n",
    "        progress.bar_style = 'success'\n",
    "        progress.value = index\n",
    "        label.value = \"{name}: {index}\".format(\n",
    "            name=name,\n",
    "            index=str(index or '?')\n",
    "        )"
   ]
  },
  {
   "cell_type": "code",
   "execution_count": null,
   "metadata": {
    "collapsed": true
   },
   "outputs": [],
   "source": []
  }
 ],
 "metadata": {
  "kernelspec": {
   "display_name": "Python 2",
   "language": "python",
   "name": "python2"
  },
  "language_info": {
   "codemirror_mode": {
    "name": "ipython",
    "version": 2
   },
   "file_extension": ".py",
   "mimetype": "text/x-python",
   "name": "python",
   "nbconvert_exporter": "python",
   "pygments_lexer": "ipython2",
   "version": "2.7.9"
  }
 },
 "nbformat": 4,
 "nbformat_minor": 2
}
