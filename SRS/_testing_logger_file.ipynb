{
 "cells": [
  {
   "cell_type": "code",
   "execution_count": 1,
   "metadata": {
    "collapsed": true
   },
   "outputs": [],
   "source": [
    "%matplotlib inline"
   ]
  },
  {
   "cell_type": "code",
   "execution_count": 2,
   "metadata": {
    "collapsed": true
   },
   "outputs": [],
   "source": [
    "import serial, threading, sys, time, os, datetime\n",
    "sys.path.append('/home/pi/Desktop/ADR_NX/Utils')\n",
    "sys.path.append('/home/pi/Desktop/ADR_NX/Mainframe')\n",
    "from adr_PID import ADR_PID\n",
    "import adr_utils, SIM900_controller, SIM922\n",
    "import numpy as np\n",
    "import matplotlib.pyplot as plt\n",
    "from timeit import default_timer as timer"
   ]
  },
  {
   "cell_type": "code",
   "execution_count": 3,
   "metadata": {},
   "outputs": [
    {
     "name": "stdout",
     "output_type": "stream",
     "text": [
      "OQADD (t:0): |RPER 64\\n|\n"
     ]
    }
   ],
   "source": [
    "mfc = SIM900_controller.SIM900()\n",
    "mfc.debug = True\n",
    "mfc.init_and_open_connection()\n",
    "s922 = SIM922.SIM922(mfc,'s922',debug=True);\n",
    "mfc.set_RPER([s922.MODNUM])"
   ]
  },
  {
   "cell_type": "code",
   "execution_count": 4,
   "metadata": {},
   "outputs": [
    {
     "name": "stdout",
     "output_type": "stream",
     "text": [
      "Input read thread is up!Input loop started\n",
      "\n",
      "OQSEND (t:0): |RPER 64\\n|Output loop started\n",
      "\n"
     ]
    }
   ],
   "source": [
    "mfc.start_input_loop()\n",
    "mfc.start_output_loop()"
   ]
  },
  {
   "cell_type": "code",
   "execution_count": null,
   "metadata": {},
   "outputs": [],
   "source": [
    "date = datetime.datetime.now()\n",
    "logroot = '/home/pi/Desktop/DataNX/cryologs/'\n",
    "logdir = logroot+date.strftime('%Y%m%d')\n",
    "if not os.path.isdir(logdir):\n",
    "    print(\"Directory |{}| not there, making\".format(logdir))\n",
    "    #os.mkdir(logdir+date.strftime('%Y%m%d'))\n",
    "dirs = os.listdir(logroot)\n",
    "print(dirs)\n",
    "logfile = logdir+os.path.sep+date.strftime('cryo-%H-%M-%S.txt')\n",
    "print(logfile)\n",
    "#fl = open(logfile, \"w\")"
   ]
  },
  {
   "cell_type": "code",
   "execution_count": 5,
   "metadata": {},
   "outputs": [
    {
     "name": "stdout",
     "output_type": "stream",
     "text": [
      "OQADD (t:0): |SNDT 6,\"TVAL? 0,0\"\\n|HI\n",
      "\n",
      "Stream thread up\n",
      "OQSEND (t:0): |SNDT 6,\"TVAL? 0,0\"\\n|\n",
      "Have something on RX!\n",
      "Read chars: 'MSG 6'\n",
      "Have something on RX!\n",
      "Read chars: ','\n",
      "Have something on RX!\n",
      "Read chars: '#2545.3965'\n",
      "Have something on RX!\n",
      "Read chars: '00E+01, 1'\n",
      "Have something on RX!\n",
      "Read chars: '.'\n",
      "Have something on RX!\n",
      "Read chars: '0'\n",
      "Have something on RX!\n",
      "Read chars: '77700E+01,'\n",
      "Have something on RX!\n",
      "Read chars: ' 1.065100'\n",
      "Have something on RX!\n",
      "Read chars: 'E+'\n",
      "Have something on RX!\n",
      "Read chars: '01, 1.4537'\n",
      "Have something on RX!\n",
      "Read chars: '10E+02\\n'\n",
      "Resp split result: \n",
      "['MSG 6,#2545.396500E+01, 1.077700E+01, 1.065100E+01, 1.453710E+02', '']\n",
      "Read single line: 'MSG 6,#2545.396500E+01, 1.077700E+01, 1.065100E+01, 1.453710E+02'\n",
      "['MSG 6', '#2545.396500E+01, 1.077700E+01, 1.065100E+01, 1.453710E+02'] | 6 | 2 | 52 | 'MSG 6,#2545.396500E+01, 1.077700E+01, 1.065100E+01, 1.453710E+02' |\n",
      "GOT MSG -> S6:'5.396500E+01, 1.077700E+01, 1.065100E+01, 1.453710E+02'\n"
     ]
    },
    {
     "name": "stderr",
     "output_type": "stream",
     "text": [
      "SIM900_controller.py:191: UserWarning: Bad message payload length - msg:|'MSG 6,#2545.396500E+01, 1.077700E+01, 1.065100E+01, 1.453710E+02'| len:|58| (want |52|)\n",
      "  warnings.warn(\"Bad message payload length - msg:|{}| len:|{}| (want |{}|)\".format(repr(msg),len(msg2),numchar))\n"
     ]
    },
    {
     "name": "stdout",
     "output_type": "stream",
     "text": [
      "Have something on RX!\n",
      "Read chars: 'MSG 6,#25'\n",
      "Have something on RX!\n",
      "Read chars: '45.395900E+'\n",
      "Have something on RX!\n",
      "Read chars: '01, 1.077'\n",
      "Have something on RX!\n",
      "Read chars: '4'\n",
      "Have something on RX!\n",
      "Read chars: '00E+01, 1.0'\n",
      "Have something on RX!\n",
      "Read chars: '67000E+01'\n",
      "Have something on RX!\n",
      "Read chars: ', 1.453420'\n",
      "Have something on RX!\n",
      "Read chars: 'E+'\n",
      "Have something on RX!\n",
      "Read chars: '02'\n",
      "Have something on RX!\n",
      "Read chars: '\\n'\n",
      "Resp split result: \n",
      "['MSG 6,#2545.395900E+01, 1.077400E+01, 1.067000E+01, 1.453420E+02', '']\n",
      "Read single line: 'MSG 6,#2545.395900E+01, 1.077400E+01, 1.067000E+01, 1.453420E+02'\n",
      "['MSG 6', '#2545.395900E+01, 1.077400E+01, 1.067000E+01, 1.453420E+02'] | 6 | 2 | 52 | 'MSG 6,#2545.395900E+01, 1.077400E+01, 1.067000E+01, 1.453420E+02' |\n",
      "GOT MSG -> S6:'5.395900E+01, 1.077400E+01, 1.067000E+01, 1.453420E+02'\n"
     ]
    },
    {
     "name": "stderr",
     "output_type": "stream",
     "text": [
      "SIM900_controller.py:191: UserWarning: Bad message payload length - msg:|'MSG 6,#2545.395900E+01, 1.077400E+01, 1.067000E+01, 1.453420E+02'| len:|58| (want |52|)\n",
      "  warnings.warn(\"Bad message payload length - msg:|{}| len:|{}| (want |{}|)\".format(repr(msg),len(msg2),numchar))\n"
     ]
    },
    {
     "name": "stdout",
     "output_type": "stream",
     "text": [
      "Have something on RX!\n",
      "Read chars: 'MSG'\n",
      "Have something on RX!\n",
      "Read chars: ' 6,#2545.3'\n",
      "Have something on RX!\n",
      "Read chars: '90600E+01'\n",
      "Have something on RX!\n",
      "Read chars: ', '\n",
      "Have something on RX!\n",
      "Read chars: '1.077200E+'\n",
      "Have something on RX!\n",
      "Read chars: '01, 1.071'\n",
      "Have something on RX!\n",
      "Read chars: '20'\n",
      "Have something on RX!\n",
      "Read chars: '0E+01, 1.4'\n",
      "Have something on RX!\n",
      "Read chars: '53030E+02'\n",
      "Have something on RX!\n",
      "Read chars: '\\n'\n",
      "Resp split result: \n",
      "['MSG 6', '#2545.390600E+01, 1.077200E+01, 1.071200E+01, 1.453030E+02']['MSG 6,#2545.390600E+01, 1.077200E+01, 1.071200E+01, 1.453030E+02', ''] \n",
      "| 6 | 2 | 52 | 'MSG 6,#2545.390600E+01, 1.077200E+01, 1.071200E+01, 1.453030E+02' |Read single line: 'MSG 6,#2545.390600E+01, 1.077200E+01, 1.071200E+01, 1.453030E+02'\n",
      "\n",
      "GOT MSG -> S6:'5.390600E+01, 1.077200E+01, 1.071200E+01, 1.453030E+02'\n"
     ]
    },
    {
     "name": "stderr",
     "output_type": "stream",
     "text": [
      "SIM900_controller.py:191: UserWarning: Bad message payload length - msg:|'MSG 6,#2545.390600E+01, 1.077200E+01, 1.071200E+01, 1.453030E+02'| len:|58| (want |52|)\n",
      "  warnings.warn(\"Bad message payload length - msg:|{}| len:|{}| (want |{}|)\".format(repr(msg),len(msg2),numchar))\n"
     ]
    },
    {
     "name": "stdout",
     "output_type": "stream",
     "text": [
      "Have something on RX!\n",
      "Read chars: 'MSG 6,#'\n",
      "Have something on RX!\n",
      "Read chars: '2545.38720'\n",
      "Have something on RX!\n",
      "Read chars: '0E'\n",
      "Have something on RX!\n",
      "Read chars: '+'\n",
      "Have something on RX!\n",
      "Read chars: '01, 1.076'\n",
      "Have something on RX!\n",
      "Read chars: '80'\n",
      "Have something on RX!\n",
      "Read chars: '0E+01, 1.0'\n",
      "Have something on RX!\n",
      "Read chars: '70100E+01'\n",
      "Have something on RX!\n",
      "Read chars: ', '\n",
      "Have something on RX!\n",
      "Read chars: '1.452450E+'\n",
      "Have something on RX!\n",
      "Read chars: '02\\n'\n",
      "Resp split result: \n",
      "['MSG 6,#2545.387200E+01, 1.076800E+01, 1.070100E+01, 1.452450E+02', '']\n",
      "Read single line: 'MSG 6,#2545.387200E+01, 1.076800E+01, 1.070100E+01, 1.452450E+02'\n",
      "['MSG 6', '#2545.387200E+01, 1.076800E+01, 1.070100E+01, 1.452450E+02'] | 6 | 2 | 52 | 'MSG 6,#2545.387200E+01, 1.076800E+01, 1.070100E+01, 1.452450E+02' |\n",
      "GOT MSG -> S6:'5.387200E+01, 1.076800E+01, 1.070100E+01, 1.452450E+02'\n"
     ]
    },
    {
     "name": "stderr",
     "output_type": "stream",
     "text": [
      "SIM900_controller.py:191: UserWarning: Bad message payload length - msg:|'MSG 6,#2545.387200E+01, 1.076800E+01, 1.070100E+01, 1.452450E+02'| len:|58| (want |52|)\n",
      "  warnings.warn(\"Bad message payload length - msg:|{}| len:|{}| (want |{}|)\".format(repr(msg),len(msg2),numchar))\n"
     ]
    },
    {
     "name": "stdout",
     "output_type": "stream",
     "text": [
      "Have something on RX!\n",
      "Read chars: 'MSG 6,#248'\n",
      "Have something on RX!\n",
      "Read chars: '5'\n",
      "Have something on RX!\n",
      "Read chars: '.388000E+0'\n",
      "Have something on RX!\n",
      "Read chars: '1, 1.076300'\n",
      "Have something on RX!\n",
      "Read chars: 'E+01, 1.06'\n",
      "Have something on RX!\n",
      "Read chars: '9900E+01, '\n",
      "Have something on RX!\n",
      "Read chars: '1.4524\\nMSG'\n",
      "Resp split result: \n",
      "['MSG 6,#2485.388000E+01, 1.076300E+01, 1.069900E+01, 1.4524', 'MSG']\n",
      "Read multiline: 'MSG 6,#2485.388000E+01, 1.076300E+01, 1.069900E+01, 1.4524'\n",
      "Leftover response: 'MSG'\n",
      "Have something on RX!\n",
      "Read chars: ' 6'\n",
      "Have something on RX!\n",
      "Read chars: ','\n",
      "['MSG 6', '#2485.388000E+01, 1.076300E+01, 1.069900E+01, 1.4524'] | 6 | 2 | 46 | 'MSG 6,#2485.388000E+01, 1.076300E+01, 1.069900E+01, 1.4524' |\n",
      "GOT MSG -> S6:'5.388000E+01, 1.076300E+01, 1.069900E+01, 1.4524'\n",
      "Have something on RX!\n",
      "Read chars: '#20690E+02'\n",
      "Have something on RX!\n",
      "Read chars: '\\n'\n",
      "Resp split result: \n",
      "['MSG 6,#20690E+02', '']\n",
      "Read single line: 'MSG 6,#20690E+02'\n",
      "['MSG 6', '#20690E+02'] | 6 | 2 | 4 | 'MSG 6,#20690E+02' |\n",
      "GOT MSG -> S6:'90E+02'\n"
     ]
    },
    {
     "name": "stderr",
     "output_type": "stream",
     "text": [
      "SIM900_controller.py:191: UserWarning: Bad message payload length - msg:|'MSG 6,#2485.388000E+01, 1.076300E+01, 1.069900E+01, 1.4524'| len:|52| (want |46|)\n",
      "  warnings.warn(\"Bad message payload length - msg:|{}| len:|{}| (want |{}|)\".format(repr(msg),len(msg2),numchar))\n",
      "SIM900_controller.py:191: UserWarning: Bad message payload length - msg:|'MSG 6,#20690E+02'| len:|10| (want |4|)\n",
      "  warnings.warn(\"Bad message payload length - msg:|{}| len:|{}| (want |{}|)\".format(repr(msg),len(msg2),numchar))\n"
     ]
    },
    {
     "name": "stdout",
     "output_type": "stream",
     "text": [
      "Have something on RX!\n",
      "Read chars: 'MSG 6,#2545'\n",
      "Have something on RX!\n",
      "Read chars: '.388000E+0'\n",
      "Have something on RX!\n",
      "Read chars: '1'\n",
      "Have something on RX!\n",
      "Read chars: ', 1.072200E'\n",
      "Have something on RX!\n",
      "Read chars: '+01, 1.06'\n",
      "Have something on RX!\n",
      "Read chars: '6'\n",
      "Have something on RX!\n",
      "Read chars: '80'\n",
      "Have something on RX!\n",
      "Read chars: '0E+01, 1.4'\n",
      "Have something on RX!\n",
      "Read chars: '5'\n",
      "Have something on RX!\n",
      "Read chars: '2200E+02\\n'\n",
      "Resp split result: \n",
      "['MSG 6,#2545.388000E+01, 1.072200E+01, 1.066800E+01, 1.452200E+02', '']\n",
      "Read single line: 'MSG 6,#2545.388000E+01, 1.072200E+01, 1.066800E+01, 1.452200E+02'\n",
      "['MSG 6', '#2545.388000E+01, 1.072200E+01, 1.066800E+01, 1.452200E+02'] | 6 | 2 | 52 | 'MSG 6,#2545.388000E+01, 1.072200E+01, 1.066800E+01, 1.452200E+02' |\n",
      "GOT MSG -> S6:'5.388000E+01, 1.072200E+01, 1.066800E+01, 1.452200E+02'\n"
     ]
    },
    {
     "name": "stderr",
     "output_type": "stream",
     "text": [
      "SIM900_controller.py:191: UserWarning: Bad message payload length - msg:|'MSG 6,#2545.388000E+01, 1.072200E+01, 1.066800E+01, 1.452200E+02'| len:|58| (want |52|)\n",
      "  warnings.warn(\"Bad message payload length - msg:|{}| len:|{}| (want |{}|)\".format(repr(msg),len(msg2),numchar))\n"
     ]
    },
    {
     "name": "stdout",
     "output_type": "stream",
     "text": [
      "0   0.000000 0.000000 0.000000 0.000000 0.0\n",
      "Have something on RX!\n",
      "Read chars: 'MSG 6,'\n",
      "Have something on RX!\n",
      "Read chars: '#2545.38530'\n",
      "Have something on RX!\n",
      "Read chars: '0E+01, 1.0'\n",
      "Have something on RX!\n",
      "Read chars: '71600E+01,'\n",
      "Have something on RX!\n",
      "Read chars: ' 1.064800'\n",
      "Have something on RX!\n",
      "Read chars: 'E+01, 1.45'\n",
      "Have something on RX!\n",
      "Read chars: '21'\n",
      "Have something on RX!\n",
      "Read chars: '50E+02\\n'\n",
      "Resp split result: \n",
      "['MSG 6,#2545.385300E+01, 1.071600E+01, 1.064800E+01, 1.452150E+02', '']\n",
      "Read single line: 'MSG 6,#2545.385300E+01, 1.071600E+01, 1.064800E+01, 1.452150E+02'\n",
      "['MSG 6', '#2545.385300E+01, 1.071600E+01, 1.064800E+01, 1.452150E+02'] | 6 | 2 | 52 | 'MSG 6,#2545.385300E+01, 1.071600E+01, 1.064800E+01, 1.452150E+02' |\n",
      "GOT MSG -> S6:'5.385300E+01, 1.071600E+01, 1.064800E+01, 1.452150E+02'\n"
     ]
    },
    {
     "name": "stderr",
     "output_type": "stream",
     "text": [
      "SIM900_controller.py:191: UserWarning: Bad message payload length - msg:|'MSG 6,#2545.385300E+01, 1.071600E+01, 1.064800E+01, 1.452150E+02'| len:|58| (want |52|)\n",
      "  warnings.warn(\"Bad message payload length - msg:|{}| len:|{}| (want |{}|)\".format(repr(msg),len(msg2),numchar))\n"
     ]
    },
    {
     "name": "stdout",
     "output_type": "stream",
     "text": [
      "Have something on RX!\n",
      "Read chars: 'MSG 6,#254'\n",
      "Have something on RX!\n",
      "Read chars: '5.391200E+'\n",
      "Have something on RX!\n",
      "Read chars: '0'\n",
      "Have something on RX!\n",
      "Read chars: '1, 1.06780'\n",
      "Have something on RX!\n",
      "Read chars: '0'\n",
      "Have something on RX!\n",
      "Read chars: 'E+01, 1.06'\n",
      "Have something on RX!\n",
      "Read chars: '6100E+01, '\n",
      "Have something on RX!\n",
      "Read chars: '1.452110E+0'\n",
      "Have something on RX!\n",
      "Read chars: '2'\n",
      "Have something on RX!\n",
      "Read chars: '\\n'\n",
      "Resp split result: \n",
      "['MSG 6,#2545.391200E+01, 1.067800E+01, 1.066100E+01, 1.452110E+02', '']\n",
      "Read single line: 'MSG 6,#2545.391200E+01, 1.067800E+01, 1.066100E+01, 1.452110E+02'\n",
      "['MSG 6', '#2545.391200E+01, 1.067800E+01, 1.066100E+01, 1.452110E+02'] | 6 | 2 | 52 | 'MSG 6,#2545.391200E+01, 1.067800E+01, 1.066100E+01, 1.452110E+02' |\n",
      "GOT MSG -> S6:'5.391200E+01, 1.067800E+01, 1.066100E+01, 1.452110E+02'\n",
      "OQADD (t:0): |SNDT 6,\"SOUT\"\\n|\n",
      "OQSEND (t:0): |SNDT 6,\"SOUT\"\\n|\n"
     ]
    },
    {
     "name": "stderr",
     "output_type": "stream",
     "text": [
      "SIM900_controller.py:191: UserWarning: Bad message payload length - msg:|'MSG 6,#2545.391200E+01, 1.067800E+01, 1.066100E+01, 1.452110E+02'| len:|58| (want |52|)\n",
      "  warnings.warn(\"Bad message payload length - msg:|{}| len:|{}| (want |{}|)\".format(repr(msg),len(msg2),numchar))\n"
     ]
    },
    {
     "ename": "NameError",
     "evalue": "name 'fl' is not defined",
     "output_type": "error",
     "traceback": [
      "\u001b[0;31m---------------------------------------------------------------------------\u001b[0m",
      "\u001b[0;31mNameError\u001b[0m                                 Traceback (most recent call last)",
      "\u001b[0;32m<ipython-input-5-d6aefce91957>\u001b[0m in \u001b[0;36m<module>\u001b[0;34m()\u001b[0m\n\u001b[1;32m     35\u001b[0m     \u001b[0ms922\u001b[0m\u001b[0;34m.\u001b[0m\u001b[0mstop_data_stream\u001b[0m\u001b[0;34m(\u001b[0m\u001b[0;34m)\u001b[0m\u001b[0;34m\u001b[0m\u001b[0m\n\u001b[1;32m     36\u001b[0m     \u001b[0ms922\u001b[0m\u001b[0;34m.\u001b[0m\u001b[0mflush_queue\u001b[0m\u001b[0;34m(\u001b[0m\u001b[0;34m)\u001b[0m\u001b[0;34m\u001b[0m\u001b[0m\n\u001b[0;32m---> 37\u001b[0;31m     \u001b[0mfl\u001b[0m\u001b[0;34m.\u001b[0m\u001b[0mclose\u001b[0m\u001b[0;34m(\u001b[0m\u001b[0;34m)\u001b[0m\u001b[0;34m\u001b[0m\u001b[0m\n\u001b[0m",
      "\u001b[0;31mNameError\u001b[0m: name 'fl' is not defined"
     ]
    }
   ],
   "source": [
    "from IPython.display import clear_output\n",
    "temps, times = ([] for i in range(2))\n",
    "s = timer()\n",
    "\n",
    "mfc.debug = True\n",
    "s922.dbg = True\n",
    "s922.start_data_stream(0)\n",
    "i = 0\n",
    "try:\n",
    "    while timer() - s < (24*60*60):\n",
    "        s922.newdataevent.clear()\n",
    "        s922.newdataevent.wait(5)\n",
    "        s922.newdataevent.clear()\n",
    "        temp = s922.lastvalues\n",
    "        tm = s922.lastdatatimes\n",
    "                   \n",
    "        sys.stdout.flush()\n",
    "        sys.stderr.flush()\n",
    "        try:\n",
    "            print s922.excq.get_nowait()\n",
    "            print \"OOPS!\"\n",
    "        except:\n",
    "            #print \"No exceptions!\"\n",
    "            pass                \n",
    "        #print(\"|{:5d}|{:s}|{:8f}\".format(i,temp,tm[0]))\n",
    "        print('{} {:10f} {:f} {:f} {:f} {}'.format(i,temp[0],temp[1],temp[2],temp[3],tm[0]))\n",
    "        #fl.write('{} {} {}'.format(i,temp,tm[0]))\n",
    "        temps.append(list(temp));\n",
    "        times.append(list(tm));\n",
    "        i+=1\n",
    "        time.sleep(5)\n",
    "except Exception as e:\n",
    "    print e\n",
    "finally:\n",
    "    s922.stop_data_stream()\n",
    "    s922.flush_queue()\n",
    "    fl.close()"
   ]
  },
  {
   "cell_type": "code",
   "execution_count": 7,
   "metadata": {},
   "outputs": [
    {
     "name": "stdout",
     "output_type": "stream",
     "text": [
      "\n",
      "Have something on RX!\n",
      "Read chars: '2\\n'\n",
      "Resp split result: \n",
      "['2', '']\n",
      "GOT MSG -> S0:'2'Read single line: '2'\n",
      "\n"
     ]
    }
   ],
   "source": [
    "mfc.get_serial_object().write('LCME?\\n')\n",
    "print(mfc.get_serial_object().read(1024))"
   ]
  },
  {
   "cell_type": "code",
   "execution_count": null,
   "metadata": {
    "collapsed": true
   },
   "outputs": [],
   "source": [
    "data1 = [[x[i] for x in temps] for i in range(0,4)]"
   ]
  },
  {
   "cell_type": "code",
   "execution_count": null,
   "metadata": {},
   "outputs": [],
   "source": [
    "fig = plt.figure()\n",
    "plt.plot(times,data1[0],times,data1[1],times,data1[2],times,data1[3],'-')\n",
    "plt.xlabel(\"Time (s)\")\n",
    "plt.ylabel(\"Temperature (K)\")\n",
    "plt.show()"
   ]
  },
  {
   "cell_type": "code",
   "execution_count": null,
   "metadata": {
    "collapsed": true
   },
   "outputs": [],
   "source": [
    "with open(\"warmup_20170710.txt\", \"w\") as f:\n",
    "    for i in range(0,len(times)):\n",
    "        f.write(\"{} {} {}\\n\".format(times[i],temps[i],dcs[i]))"
   ]
  },
  {
   "cell_type": "code",
   "execution_count": null,
   "metadata": {
    "collapsed": true
   },
   "outputs": [],
   "source": [
    "mfc.stop_input_loop()\n",
    "mfc.stop_output_loop()"
   ]
  },
  {
   "cell_type": "code",
   "execution_count": null,
   "metadata": {
    "collapsed": true
   },
   "outputs": [],
   "source": [
    "len('1.242690E+02, 2.080650E+02, 1.954360E+02, 2.457130E+02')"
   ]
  },
  {
   "cell_type": "code",
   "execution_count": null,
   "metadata": {
    "collapsed": true
   },
   "outputs": [],
   "source": [
    "range(0,4)"
   ]
  },
  {
   "cell_type": "code",
   "execution_count": null,
   "metadata": {
    "collapsed": true
   },
   "outputs": [],
   "source": [
    "mfc."
   ]
  }
 ],
 "metadata": {
  "kernelspec": {
   "display_name": "Python 2",
   "language": "python",
   "name": "python2"
  },
  "language_info": {
   "codemirror_mode": {
    "name": "ipython",
    "version": 2
   },
   "file_extension": ".py",
   "mimetype": "text/x-python",
   "name": "python",
   "nbconvert_exporter": "python",
   "pygments_lexer": "ipython2",
   "version": "2.7.9"
  }
 },
 "nbformat": 4,
 "nbformat_minor": 2
}
