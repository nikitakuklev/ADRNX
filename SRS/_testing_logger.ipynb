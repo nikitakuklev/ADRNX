{
 "cells": [
  {
   "cell_type": "code",
   "execution_count": 1,
   "metadata": {
    "collapsed": true
   },
   "outputs": [],
   "source": [
    "%matplotlib inline"
   ]
  },
  {
   "cell_type": "code",
   "execution_count": 2,
   "metadata": {
    "collapsed": true
   },
   "outputs": [],
   "source": [
    "import serial, threading, sys, time\n",
    "sys.path.append('/home/pi/Desktop/ADR_NX/Utils')\n",
    "sys.path.append('/home/pi/Desktop/ADR_NX/Mainframe')\n",
    "from adr_PID import ADR_PID\n",
    "import adr_utils, SIM900_controller, SIM922\n",
    "import numpy as np\n",
    "import matplotlib.pyplot as plt\n",
    "from timeit import default_timer as timer"
   ]
  },
  {
   "cell_type": "code",
   "execution_count": 3,
   "metadata": {
    "collapsed": true
   },
   "outputs": [],
   "source": [
    "mfc = SIM900_controller.SIM900()\n",
    "mfc.debug = False\n",
    "mfc.init_and_open_connection()\n",
    "s922 = SIM922.SIM922(mfc,'s922',debug=True);\n",
    "mfc.set_RPER([s922.MODNUM])"
   ]
  },
  {
   "cell_type": "code",
   "execution_count": 4,
   "metadata": {},
   "outputs": [
    {
     "name": "stdout",
     "output_type": "stream",
     "text": [
      "Input loop started\n",
      "Output loop started\n"
     ]
    }
   ],
   "source": [
    "mfc.start_input_loop()\n",
    "mfc.start_output_loop()"
   ]
  },
  {
   "cell_type": "code",
   "execution_count": 5,
   "metadata": {},
   "outputs": [
    {
     "name": "stdout",
     "output_type": "stream",
     "text": [
      "HI\n"
     ]
    },
    {
     "name": "stderr",
     "output_type": "stream",
     "text": [
      "SIM900_controller.py:194: UserWarning: Bad message payload length - msg:|'MSG 6,#2545.232800E+01, 5.653000E+00, 5.723000E+00, 1.376550E+02'| len:|58| (want |52|)\n",
      "  warnings.warn(\"Bad message payload length - msg:|{}| len:|{}| (want |{}|)\".format(repr(msg),len(msg2),numchar))\n",
      "SIM900_controller.py:194: UserWarning: Bad message payload length - msg:|'MSG 6,#2545.232000E+01, 5.654000E+00, 5.701000E+00, 1.378170E+02'| len:|58| (want |52|)\n",
      "  warnings.warn(\"Bad message payload length - msg:|{}| len:|{}| (want |{}|)\".format(repr(msg),len(msg2),numchar))\n",
      "SIM900_controller.py:194: UserWarning: Bad message payload length - msg:|'MSG 6,#2545.228800E+01, 5.653000E+00, 5.664000E+00, 1.377240E+02'| len:|58| (want |52|)\n",
      "  warnings.warn(\"Bad message payload length - msg:|{}| len:|{}| (want |{}|)\".format(repr(msg),len(msg2),numchar))\n",
      "SIM900_controller.py:194: UserWarning: Bad message payload length - msg:|'MSG 6,#2545.216900E+01, 5.652000E+00, 5.679000E+00, 1.376530E+02'| len:|58| (want |52|)\n",
      "  warnings.warn(\"Bad message payload length - msg:|{}| len:|{}| (want |{}|)\".format(repr(msg),len(msg2),numchar))\n",
      "SIM900_controller.py:194: UserWarning: Bad message payload length - msg:|'MSG 6,#2545.230700E+01, 5.653000E+00, 5.702000E+00, 1.376790E+02'| len:|58| (want |52|)\n",
      "  warnings.warn(\"Bad message payload length - msg:|{}| len:|{}| (want |{}|)\".format(repr(msg),len(msg2),numchar))\n",
      "SIM900_controller.py:194: UserWarning: Bad message payload length - msg:|'MSG 6,#2545.221100E+01, 5.620000E+00, 5.727000E+00, 1.376160E+02'| len:|58| (want |52|)\n",
      "  warnings.warn(\"Bad message payload length - msg:|{}| len:|{}| (want |{}|)\".format(repr(msg),len(msg2),numchar))\n",
      "SIM900_controller.py:194: UserWarning: Bad message payload length - msg:|'MSG 6,#2545.225100E+01, 5.609000E+00, 5.748000E+00, 1.376160E+02'| len:|58| (want |52|)\n",
      "  warnings.warn(\"Bad message payload length - msg:|{}| len:|{}| (want |{}|)\".format(repr(msg),len(msg2),numchar))\n"
     ]
    },
    {
     "ename": "KeyboardInterrupt",
     "evalue": "",
     "output_type": "error",
     "traceback": [
      "\u001b[0;31m---------------------------------------------------------------------------\u001b[0m",
      "\u001b[0;31mKeyboardInterrupt\u001b[0m                         Traceback (most recent call last)",
      "\u001b[0;32m<ipython-input-5-63a38cd20e28>\u001b[0m in \u001b[0;36m<module>\u001b[0;34m()\u001b[0m\n\u001b[1;32m     27\u001b[0m         \u001b[0mtimes\u001b[0m\u001b[0;34m.\u001b[0m\u001b[0mappend\u001b[0m\u001b[0;34m(\u001b[0m\u001b[0mlist\u001b[0m\u001b[0;34m(\u001b[0m\u001b[0mtm\u001b[0m\u001b[0;34m)\u001b[0m\u001b[0;34m)\u001b[0m\u001b[0;34m;\u001b[0m\u001b[0;34m\u001b[0m\u001b[0m\n\u001b[1;32m     28\u001b[0m         \u001b[0mi\u001b[0m\u001b[0;34m+=\u001b[0m\u001b[0;36m1\u001b[0m\u001b[0;34m\u001b[0m\u001b[0m\n\u001b[0;32m---> 29\u001b[0;31m         \u001b[0mtime\u001b[0m\u001b[0;34m.\u001b[0m\u001b[0msleep\u001b[0m\u001b[0;34m(\u001b[0m\u001b[0;36m5\u001b[0m\u001b[0;34m)\u001b[0m\u001b[0;34m\u001b[0m\u001b[0m\n\u001b[0m\u001b[1;32m     30\u001b[0m \u001b[0;32mexcept\u001b[0m \u001b[0mException\u001b[0m \u001b[0;32mas\u001b[0m \u001b[0me\u001b[0m\u001b[0;34m:\u001b[0m\u001b[0;34m\u001b[0m\u001b[0m\n\u001b[1;32m     31\u001b[0m     \u001b[0;32mprint\u001b[0m \u001b[0me\u001b[0m\u001b[0;34m\u001b[0m\u001b[0m\n",
      "\u001b[0;31mKeyboardInterrupt\u001b[0m: "
     ]
    }
   ],
   "source": [
    "from IPython.display import clear_output\n",
    "temps, times = ([] for i in range(2))\n",
    "s = timer()\n",
    "\n",
    "mfc.debug = False\n",
    "s922.dbg = False\n",
    "s922.start_data_stream(0)\n",
    "i = 0\n",
    "try:\n",
    "    while timer() - s < (24*60*60):\n",
    "        s922.newdataevent.clear()\n",
    "        s922.newdataevent.wait(5)\n",
    "        s922.newdataevent.clear()\n",
    "        temp = s922.lastvalues\n",
    "        tm = s922.lastdatatimes\n",
    "                   \n",
    "        sys.stdout.flush()\n",
    "        sys.stderr.flush()\n",
    "        try:\n",
    "            print s922.excq.get_nowait()\n",
    "            print \"OOPS!\"\n",
    "        except:\n",
    "            #print \"No exceptions!\"\n",
    "            pass                \n",
    "        #print(\"|{:5d}|{:s}|{:8f}\".format(i,temp,tm[0]))\n",
    "        temps.append(list(temp));\n",
    "        times.append(list(tm));\n",
    "        i+=1\n",
    "        time.sleep(5)\n",
    "except Exception as e:\n",
    "    print e\n",
    "finally:\n",
    "    s922.stop_data_stream()\n",
    "    s922.flush_queue()"
   ]
  },
  {
   "cell_type": "code",
   "execution_count": null,
   "metadata": {
    "collapsed": true
   },
   "outputs": [],
   "source": [
    "data1 = [[x[i] for x in temps] for i in range(0,4)]"
   ]
  },
  {
   "cell_type": "code",
   "execution_count": null,
   "metadata": {},
   "outputs": [],
   "source": [
    "fig = plt.figure()\n",
    "plt.plot(times,data1[0],times,data1[1],times,data1[2],times,data1[3],'-')\n",
    "plt.xlabel(\"Time (s)\")\n",
    "plt.ylabel(\"Temperature (K)\")\n",
    "plt.show()"
   ]
  },
  {
   "cell_type": "code",
   "execution_count": null,
   "metadata": {
    "collapsed": true
   },
   "outputs": [],
   "source": [
    "with open(\"warmup_20170710.txt\", \"w\") as f:\n",
    "    for i in range(0,len(times)):\n",
    "        f.write(\"{} {} {}\\n\".format(times[i],temps[i],dcs[i]))"
   ]
  },
  {
   "cell_type": "code",
   "execution_count": null,
   "metadata": {
    "collapsed": true
   },
   "outputs": [],
   "source": [
    "mfc.stop_input_loop()\n",
    "mfc.stop_output_loop()"
   ]
  },
  {
   "cell_type": "code",
   "execution_count": 6,
   "metadata": {},
   "outputs": [
    {
     "data": {
      "text/plain": [
       "54"
      ]
     },
     "execution_count": 6,
     "metadata": {},
     "output_type": "execute_result"
    }
   ],
   "source": [
    "len('5.232800E+01, 5.653000E+00, 5.723000E+00, 1.376550E+02')"
   ]
  },
  {
   "cell_type": "code",
   "execution_count": null,
   "metadata": {
    "collapsed": true
   },
   "outputs": [],
   "source": [
    "range(0,4)"
   ]
  },
  {
   "cell_type": "code",
   "execution_count": null,
   "metadata": {
    "collapsed": true
   },
   "outputs": [],
   "source": [
    "mfc."
   ]
  }
 ],
 "metadata": {
  "kernelspec": {
   "display_name": "Python 2",
   "language": "python",
   "name": "python2"
  },
  "language_info": {
   "codemirror_mode": {
    "name": "ipython",
    "version": 2
   },
   "file_extension": ".py",
   "mimetype": "text/x-python",
   "name": "python",
   "nbconvert_exporter": "python",
   "pygments_lexer": "ipython2",
   "version": "2.7.9"
  }
 },
 "nbformat": 4,
 "nbformat_minor": 2
}
