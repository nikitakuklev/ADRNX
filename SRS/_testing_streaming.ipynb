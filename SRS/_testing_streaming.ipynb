{
 "cells": [
  {
   "cell_type": "code",
   "execution_count": 1,
   "metadata": {
    "collapsed": true
   },
   "outputs": [],
   "source": [
    "%matplotlib inline"
   ]
  },
  {
   "cell_type": "code",
   "execution_count": 2,
   "metadata": {},
   "outputs": [],
   "source": [
    "import serial, threading, sys, time, os, datetime, warnings, numpy as np, matplotlib.pyplot as plt\n",
    "from IPython.display import clear_output\n",
    "from timeit import default_timer as timer\n",
    "sys.path.append('/home/pi/Desktop/ADRNX/SRS')\n",
    "import SIM900, SIM921, SIM922"
   ]
  },
  {
   "cell_type": "code",
   "execution_count": 3,
   "metadata": {},
   "outputs": [
    {
     "name": "stdout",
     "output_type": "stream",
     "text": [
      "SIM mainframe device: /dev/ADR_sim900\n",
      "SIM 922 registered!\n",
      "Output loop started\n",
      "Input loop started\n",
      "Input read thread is up!\n"
     ]
    }
   ],
   "source": [
    "mf = SIM900.SIM900('/home/pi/Desktop/ADRNX/config.yaml',debug = True)\n",
    "mf.debug = True\n",
    "mf.init_mainframe()\n",
    "s922 = SIM922.SIM922(mf,'s922',debug=True);\n",
    "#s921 = SIM921.SIM921(mf,'s921',debug=True);\n",
    "mf.register_and_init_mods([s922])\n",
    "mf.start_comm_threads()"
   ]
  },
  {
   "cell_type": "code",
   "execution_count": null,
   "metadata": {
    "collapsed": true
   },
   "outputs": [],
   "source": [
    "#4.341500E+01, 3.167000E+00, 3.186000E+00, 1.105380E+02 8pm j14\n",
    "#4.333300E+01, 2.816000E+00, 2.793000E+00, 7.035300E+01 10am j15\n",
    "#4.333600E+01, 2.602000E+00, 2.565000E+00, 1.137100E+01 2pm j16\n",
    "#4.334200E+01, 2.592000E+00, 2.576000E+00, 5.787000E+00 4pm j16\n",
    "#4.336400E+01, 2.591000E+00, 2.573000E+00, 2.602000E+00 10am j17\n",
    "mfc.get_serial_object().write('*RST\\n')"
   ]
  },
  {
   "cell_type": "code",
   "execution_count": null,
   "metadata": {},
   "outputs": [],
   "source": [
    "print str(bin(int(mfc.process_cmd_with_resp('*STB?'))))\n",
    "print mfc.process_cmd_with_resp('LEXE?')\n",
    "print mfc.process_cmd_with_resp('LCME?')\n",
    "print mfc.process_cmd_with_resp('MSGL?')\n",
    "print mfc.process_cmd_with_resp('*ESR?')\n",
    "print mfc.process_cmd_with_resp('*SRE?')\n",
    "print mfc.process_cmd_with_resp('*ESE?')"
   ]
  },
  {
   "cell_type": "code",
   "execution_count": null,
   "metadata": {
    "collapsed": true
   },
   "outputs": [],
   "source": [
    "print mfc.process_cmd_with_resp('*IDN?')\n",
    "print mfc.process_cmd_with_resp('ENSS?')\n",
    "print mfc.process_cmd_with_resp('*PSC?')"
   ]
  },
  {
   "cell_type": "code",
   "execution_count": null,
   "metadata": {},
   "outputs": [],
   "source": [
    "with warnings.catch_warnings():\n",
    "    #warnings.simplefilter('error')\n",
    "    for i in range(1,2):\n",
    "        print mfc.process_cmd_with_resp('SEND 6,\"TVAL? 0,1\\n\"')\n",
    "        time.sleep(3)\n",
    "        if i%5 == 0:\n",
    "            clear_output()"
   ]
  },
  {
   "cell_type": "code",
   "execution_count": null,
   "metadata": {
    "collapsed": true
   },
   "outputs": [],
   "source": [
    "try:\n",
    "    with warnings.catch_warnings():\n",
    "        warnings.simplefilter('error')\n",
    "        s922.start_data_stream(0)\n",
    "        for i in range(1,200):        \n",
    "            time.sleep(1)\n",
    "            if i%10 == 0:\n",
    "                clear_output()    \n",
    "except Exception as e:\n",
    "    print(e)\n",
    "finally:\n",
    "    s922.stop_data_stream()"
   ]
  },
  {
   "cell_type": "code",
   "execution_count": null,
   "metadata": {
    "collapsed": true
   },
   "outputs": [],
   "source": [
    "mfc.set_RPER([s922.MODNUM])"
   ]
  },
  {
   "cell_type": "code",
   "execution_count": null,
   "metadata": {},
   "outputs": [],
   "source": [
    "print mfc.process_cmd_with_resp('SEND 6,\"TERM 0\\n\"')"
   ]
  },
  {
   "cell_type": "code",
   "execution_count": null,
   "metadata": {},
   "outputs": [],
   "source": [
    "print mfc.process_cmd_with_resp('TERM D,LF\\n')\n",
    "print mfc.process_cmd_with_resp('MSGL 128\\n')"
   ]
  },
  {
   "cell_type": "code",
   "execution_count": null,
   "metadata": {
    "collapsed": true
   },
   "outputs": [],
   "source": [
    "mfc.get_serial_object().write('SRST 6\\n')\n",
    "mfc.get_serial_object().write('AINP? 6\\n')\n",
    "mfc.get_serial_object().write('AOUT? 6\\n')"
   ]
  },
  {
   "cell_type": "code",
   "execution_count": null,
   "metadata": {},
   "outputs": [],
   "source": [
    "len('4.333100E+01, 2.601000E+00, 2.590000E+00, 1.122700E+01')"
   ]
  },
  {
   "cell_type": "code",
   "execution_count": null,
   "metadata": {
    "collapsed": true
   },
   "outputs": [],
   "source": [
    "\n",
    "mfc.debug = True\n",
    "s922.dbg = True\n",
    "s922.start_data_stream(0)\n",
    "i = 0\n",
    "try:\n",
    "    while timer() - s < (24*60*60):\n",
    "        s922.newdataevent.clear()\n",
    "        s922.newdataevent.wait(5)\n",
    "        s922.newdataevent.clear()\n",
    "        temp = s922.lastvalues\n",
    "        tm = s922.lastdatatimes\n",
    "                   \n",
    "        sys.stdout.flush()\n",
    "        sys.stderr.flush()\n",
    "        try:\n",
    "            print s922.excq.get_nowait()\n",
    "            print \"OOPS!\"\n",
    "        except:\n",
    "            #print \"No exceptions!\"\n",
    "            pass                \n",
    "        #print(\"|{:5d}|{:s}|{:8f}\".format(i,temp,tm[0]))\n",
    "        print('{} {:10f} {:f} {:f} {:f} {}'.format(i,temp[0],temp[1],temp[2],temp[3],tm[0]))\n",
    "        #fl.write('{} {} {}'.format(i,temp,tm[0]))\n",
    "        temps.append(list(temp));\n",
    "        times.append(list(tm));\n",
    "        i+=1\n",
    "        time.sleep(5)\n",
    "except Exception as e:\n",
    "    print e\n",
    "finally:\n",
    "    s922.stop_data_stream()\n",
    "    s922.flush_queue()\n",
    "    fl.close()"
   ]
  },
  {
   "cell_type": "code",
   "execution_count": null,
   "metadata": {},
   "outputs": [],
   "source": [
    "mfc.stop_input_loop()\n",
    "mfc.stop_output_loop()"
   ]
  },
  {
   "cell_type": "code",
   "execution_count": null,
   "metadata": {
    "collapsed": true
   },
   "outputs": [],
   "source": []
  }
 ],
 "metadata": {
  "kernelspec": {
   "display_name": "Python 2",
   "language": "python",
   "name": "python2"
  },
  "language_info": {
   "codemirror_mode": {
    "name": "ipython",
    "version": 2
   },
   "file_extension": ".py",
   "mimetype": "text/x-python",
   "name": "python",
   "nbconvert_exporter": "python",
   "pygments_lexer": "ipython2",
   "version": "2.7.9"
  }
 },
 "nbformat": 4,
 "nbformat_minor": 2
}
