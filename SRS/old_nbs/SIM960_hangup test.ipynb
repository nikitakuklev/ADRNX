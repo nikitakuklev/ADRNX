{
 "cells": [
  {
   "cell_type": "code",
   "execution_count": 13,
   "metadata": {
    "collapsed": true
   },
   "outputs": [],
   "source": [
    "import serial,time,timeit\n",
    "from timeit import default_timer as timer"
   ]
  },
  {
   "cell_type": "code",
   "execution_count": 9,
   "metadata": {},
   "outputs": [],
   "source": [
    "# initiate serial connection\n",
    "def serial_init():\n",
    "    ser = serial.Serial()\n",
    "    ser.port = \"/dev/ADR_sim900\"\n",
    "    ser.baudrate = 9600\n",
    "    ser.bytesize = serial.EIGHTBITS #number of bits per bytes\n",
    "    ser.parity = serial.PARITY_NONE #set parity check: no parity\n",
    "    ser.stopbits = serial.STOPBITS_ONE #number of stop bits\n",
    "    ser.timeout = 0\n",
    "    ser.write_Timeout = 0.5\n",
    "    ser.xonxoff = False\n",
    "    ser.rtscts= False\n",
    "    ser.dsrdtr = False\n",
    "    ser.open()\n",
    "    time.sleep(1)\n",
    "    ser.flushInput() #flush input buffer, discarding all its contents\n",
    "    ser.flushOutput()#flush output buffer, aborting current output\n",
    "    time.sleep(0.2)\n",
    "    print ser"
   ]
  },
  {
   "cell_type": "code",
   "execution_count": 11,
   "metadata": {
    "collapsed": true
   },
   "outputs": [],
   "source": [
    "def get_idn():\n",
    "    start = timer()\n",
    "    ser.write('*IDN?\\n')\n",
    "    time.sleep(0.5)\n",
    "    #response = ser.readline()\n",
    "    response = ser.read(1024).rstrip()\n",
    "    end = timer()\n",
    "    print(response)\n",
    "    print(end - start)"
   ]
  },
  {
   "cell_type": "code",
   "execution_count": 12,
   "metadata": {},
   "outputs": [],
   "source": [
    "def s960_c():\n",
    "    string1 = 'CONN 3, \"dde\"\\n'\n",
    "    ser.write(string1)\n",
    "    time.sleep(0.2)\n",
    "    response = ser.read(1024)\n",
    "    print 'R2:' + response\n",
    "    \n",
    "def s960_dc():    \n",
    "    ser.write('dde\\n')\n",
    "    time.sleep(0.2)\n",
    "    response = ser.read(64)\n",
    "    print 'R5:' + response"
   ]
  },
  {
   "cell_type": "code",
   "execution_count": 9,
   "metadata": {},
   "outputs": [
    {
     "name": "stdout",
     "output_type": "stream",
     "text": [
      "IT: 10000 | avg: 3.29708576202e-05 | max: 0.00042200088501 | avg2: 0.0818106418371 | max2: 0.110424041748\n",
      "IT: 20000 | avg: 3.20832133293e-05 | max: 0.00042200088501 | avg2: 0.0817924382091 | max2: 0.110866069794\n",
      "IT: 30000 | avg: 3.20557435354e-05 | max: 0.0013439655304 | avg2: 0.0817335356633 | max2: 0.110866069794\n",
      "IT: 40000 | avg: 3.22839260101e-05 | max: 0.0013439655304 | avg2: 0.0816933562756 | max2: 0.110866069794\n",
      "IT: 50000 | avg: 3.2351436615e-05 | max: 0.0013439655304 | avg2: 0.0816951083469 | max2: 0.110866069794\n",
      "IT: 60000 | avg: 3.21935971578e-05 | max: 0.0013439655304 | avg2: 0.081684390223 | max2: 0.110866069794\n",
      "IT: 70000 | avg: 3.20450339999e-05 | max: 0.0013439655304 | avg2: 0.0816914908784 | max2: 0.110866069794\n",
      "IT: 80000 | avg: 3.19592267275e-05 | max: 0.0013439655304 | avg2: 0.081686920175 | max2: 0.116405963898\n",
      "IT: 90000 | avg: 3.19091055128e-05 | max: 0.0013439655304 | avg2: 0.0816924895525 | max2: 0.116405963898\n",
      "IT: 100000 | avg: 3.19065928459e-05 | max: 0.00512099266052 | avg2: 0.0816824156928 | max2: 0.116405963898\n",
      "IT: 110000 | avg: 3.18933855404e-05 | max: 0.00512099266052 | avg2: 0.0816823732484 | max2: 0.116405963898\n",
      "IT: 120000 | avg: 3.19313824177e-05 | max: 0.00512099266052 | avg2: 0.0816835406542 | max2: 0.116405963898\n",
      "IT: 130000 | avg: 3.1892154767e-05 | max: 0.00512099266052 | avg2: 0.0816848553162 | max2: 0.116405963898\n",
      "IT: 140000 | avg: 3.18553566933e-05 | max: 0.00512099266052 | avg2: 0.0816828790324 | max2: 0.116405963898\n",
      "IT: 150000 | avg: 3.18463118871e-05 | max: 0.00512099266052 | avg2: 0.0816755700095 | max2: 0.116405963898\n",
      "IT: 160000 | avg: 3.18202808499e-05 | max: 0.00512099266052 | avg2: 0.0816697056264 | max2: 0.116405963898\n",
      "IT: 170000 | avg: 3.17847069572e-05 | max: 0.00512099266052 | avg2: 0.0816654002695 | max2: 0.116405963898\n",
      "IT: 180000 | avg: 3.17453172472e-05 | max: 0.00512099266052 | avg2: 0.0816611184809 | max2: 0.116405963898\n",
      "IT: 190000 | avg: 3.17849196886e-05 | max: 0.0103540420532 | avg2: 0.0816619461762 | max2: 0.116405963898\n",
      "IT: 200000 | avg: 3.17597556114e-05 | max: 0.0103540420532 | avg2: 0.0816592440367 | max2: 0.116405963898\n",
      "IT: 210000 | avg: 3.17719243822e-05 | max: 0.0103540420532 | avg2: 0.0816573617356 | max2: 0.116405963898\n",
      "IT: 220000 | avg: 3.17522850904e-05 | max: 0.0103540420532 | avg2: 0.081654958311 | max2: 0.116405963898\n",
      "IT: 230000 | avg: 3.18547881168e-05 | max: 0.0201640129089 | avg2: 0.0816603412462 | max2: 0.116405963898\n",
      "IT: 240000 | avg: 3.18208932877e-05 | max: 0.0201640129089 | avg2: 0.0816598534107 | max2: 0.116405963898\n",
      "IT: 250000 | avg: 3.17811288834e-05 | max: 0.0201640129089 | avg2: 0.0816619472036 | max2: 0.116405963898\n",
      "IT: 260000 | avg: 3.17964517153e-05 | max: 0.0201640129089 | avg2: 0.0816557879751 | max2: 0.116405963898\n",
      "IT: 270000 | avg: 3.1844831396e-05 | max: 0.0201640129089 | avg2: 0.0816575371283 | max2: 0.116405963898\n",
      "IT: 280000 | avg: 3.20033371449e-05 | max: 0.0202469825745 | avg2: 0.0816582294941 | max2: 0.116405963898\n",
      "IT: 290000 | avg: 3.19886396671e-05 | max: 0.0202469825745 | avg2: 0.0816575983138 | max2: 0.116405963898\n",
      "IT: 300000 | avg: 3.19637680054e-05 | max: 0.0202469825745 | avg2: 0.081658686804 | max2: 0.116405963898\n",
      "IT: 310000 | avg: 3.19701025563e-05 | max: 0.0202469825745 | avg2: 0.0816562167168 | max2: 0.116405963898\n",
      "IT: 320000 | avg: 3.19702282548e-05 | max: 0.0202469825745 | avg2: 0.0816618642762 | max2: 0.116405963898\n",
      "IT: 330000 | avg: 3.19422317274e-05 | max: 0.0202469825745 | avg2: 0.0816602892233 | max2: 0.116405963898\n",
      "IT: 340000 | avg: 3.19109285579e-05 | max: 0.0202469825745 | avg2: 0.081659839222 | max2: 0.116405963898\n",
      "IT: 350000 | avg: 3.18890122005e-05 | max: 0.0202469825745 | avg2: 0.0816606156479 | max2: 0.116405963898\n",
      "IT: 360000 | avg: 3.19018112289e-05 | max: 0.0202469825745 | avg2: 0.0816642574529 | max2: 0.116405963898\n",
      "IT: 370000 | avg: 3.18854493064e-05 | max: 0.0202469825745 | avg2: 0.0816632221963 | max2: 0.116405963898\n",
      "IT: 380000 | avg: 3.18431000961e-05 | max: 0.0202469825745 | avg2: 0.0816633843472 | max2: 0.116405963898\n",
      "IT: 390000 | avg: 3.18094021235e-05 | max: 0.0202469825745 | avg2: 0.0816651167277 | max2: 0.116405963898\n",
      "IT: 400000 | avg: 3.18024915457e-05 | max: 0.0202469825745 | avg2: 0.081662461223 | max2: 0.116405963898\n",
      "IT: 410000 | avg: 3.17661512189e-05 | max: 0.0202469825745 | avg2: 0.0816648774019 | max2: 0.116405963898\n",
      "IT: 420000 | avg: 3.17306461788e-05 | max: 0.0202469825745 | avg2: 0.0816680791554 | max2: 0.116405963898\n",
      "IT: 430000 | avg: 3.17184475965e-05 | max: 0.0202469825745 | avg2: 0.0816697609979 | max2: 0.116405963898\n",
      "IT: 440000 | avg: 3.16981006752e-05 | max: 0.0202469825745 | avg2: 0.0816698530175 | max2: 0.116405963898\n",
      "IT: 450000 | avg: 3.17072110706e-05 | max: 0.0202469825745 | avg2: 0.0816697565428 | max2: 0.116405963898\n",
      "IT: 460000 | avg: 3.16916522772e-05 | max: 0.0202469825745 | avg2: 0.0816665008581 | max2: 0.116405963898\n",
      "IT: 470000 | avg: 3.16760884955e-05 | max: 0.0202469825745 | avg2: 0.0816642110885 | max2: 0.116405963898\n",
      "IT: 480000 | avg: 3.16613266865e-05 | max: 0.0202469825745 | avg2: 0.081663650924 | max2: 0.116405963898\n",
      "IT: 490000 | avg: 3.17021574293e-05 | max: 0.0202469825745 | avg2: 0.0816659029951 | max2: 0.116405963898\n",
      "IT: 500000 | avg: 3.16917614937e-05 | max: 0.0202469825745 | avg2: 0.0816660839128 | max2: 0.116405963898\n",
      "IT: 510000 | avg: 3.16703698214e-05 | max: 0.0202469825745 | avg2: 0.0816663486621 | max2: 0.116405963898\n",
      "IT: 520000 | avg: 3.16436212796e-05 | max: 0.0202469825745 | avg2: 0.0816641372777 | max2: 0.116405963898\n",
      "IT: 530000 | avg: 3.1617591516e-05 | max: 0.0202469825745 | avg2: 0.0816614078454 | max2: 0.116405963898\n",
      "IT: 540000 | avg: 3.15923231619e-05 | max: 0.0202469825745 | avg2: 0.0816642313017 | max2: 0.116405963898\n",
      "IT: 550000 | avg: 3.15924375707e-05 | max: 0.0202469825745 | avg2: 0.0816654936201 | max2: 0.116405963898\n",
      "IT: 560000 | avg: 3.15758326224e-05 | max: 0.0202469825745 | avg2: 0.0816652861787 | max2: 0.116405963898\n",
      "IT: 570000 | avg: 3.15537360677e-05 | max: 0.0202469825745 | avg2: 0.081663737185 | max2: 0.116405963898\n",
      "IT: 580000 | avg: 3.15174719383e-05 | max: 0.0202469825745 | avg2: 0.0816646983619 | max2: 0.116405963898\n",
      "IT: 590000 | avg: 3.14817347769e-05 | max: 0.0202469825745 | avg2: 0.0816649108099 | max2: 0.116405963898\n",
      "IT: 600000 | avg: 3.14650328954e-05 | max: 0.0202469825745 | avg2: 0.0816642026015 | max2: 0.11913394928\n",
      "IT: 610000 | avg: 3.14463912464e-05 | max: 0.0202469825745 | avg2: 0.0816630239623 | max2: 0.11913394928\n",
      "IT: 620000 | avg: 3.14307878094e-05 | max: 0.0202469825745 | avg2: 0.081662725649 | max2: 0.11913394928\n",
      "IT: 630000 | avg: 3.14123547266e-05 | max: 0.0202469825745 | avg2: 0.0816654043674 | max2: 0.11913394928\n",
      "IT: 640000 | avg: 3.13937541097e-05 | max: 0.0202469825745 | avg2: 0.081667594729 | max2: 0.11913394928\n",
      "IT: 650000 | avg: 3.13700279823e-05 | max: 0.0202469825745 | avg2: 0.0816674925503 | max2: 0.11913394928\n",
      "IT: 660000 | avg: 3.1350385059e-05 | max: 0.0202469825745 | avg2: 0.081670130596 | max2: 0.11913394928\n",
      "IT: 670000 | avg: 3.13282827833e-05 | max: 0.0202469825745 | avg2: 0.0816701921114 | max2: 0.11913394928\n",
      "IT: 680000 | avg: 3.13054428381e-05 | max: 0.0202469825745 | avg2: 0.0816701629211 | max2: 0.11913394928\n",
      "IT: 690000 | avg: 3.12950742417e-05 | max: 0.0202469825745 | avg2: 0.0816691695559 | max2: 0.11913394928\n",
      "IT: 700000 | avg: 3.12857522283e-05 | max: 0.0202469825745 | avg2: 0.0816695536515 | max2: 0.11913394928\n",
      "IT: 710000 | avg: 3.1270485193e-05 | max: 0.0202469825745 | avg2: 0.0816689270688 | max2: 0.11913394928\n",
      "IT: 720000 | avg: 3.12556147575e-05 | max: 0.0202469825745 | avg2: 0.0816673108657 | max2: 0.11913394928\n",
      "IT: 730000 | avg: 3.12417497374e-05 | max: 0.0202469825745 | avg2: 0.0816649688567 | max2: 0.11913394928\n",
      "IT: 740000 | avg: 3.12304100475e-05 | max: 0.0202469825745 | avg2: 0.0816639458038 | max2: 0.11913394928\n",
      "IT: 750000 | avg: 3.12182359695e-05 | max: 0.0202469825745 | avg2: 0.0816629944922 | max2: 0.11913394928\n",
      "IT: 760000 | avg: 3.1206269327e-05 | max: 0.0202469825745 | avg2: 0.0816653438107 | max2: 0.11913394928\n",
      "IT: 770000 | avg: 3.11959954051e-05 | max: 0.0202469825745 | avg2: 0.0816661898254 | max2: 0.11913394928\n",
      "IT: 780000 | avg: 3.11861524215e-05 | max: 0.0202469825745 | avg2: 0.081666835754 | max2: 0.11913394928\n"
     ]
    },
    {
     "name": "stdout",
     "output_type": "stream",
     "text": [
      "IT: 790000 | avg: 3.11742670928e-05 | max: 0.0202469825745 | avg2: 0.0816674710011 | max2: 0.11913394928\n",
      "IT: 800000 | avg: 3.11616390944e-05 | max: 0.0202469825745 | avg2: 0.081667189506 | max2: 0.11913394928\n",
      "IT: 810000 | avg: 3.1145173532e-05 | max: 0.0202469825745 | avg2: 0.0816654164538 | max2: 0.11913394928\n",
      "IT: 820000 | avg: 3.1145084195e-05 | max: 0.0202469825745 | avg2: 0.0816656953788 | max2: 0.11913394928\n",
      "IT: 830000 | avg: 3.11355898179e-05 | max: 0.0202469825745 | avg2: 0.0816639890185 | max2: 0.11913394928\n",
      "IT: 840000 | avg: 3.11240116755e-05 | max: 0.0202469825745 | avg2: 0.0816652091455 | max2: 0.11913394928\n",
      "IT: 850000 | avg: 3.11169242859e-05 | max: 0.0202469825745 | avg2: 0.0816650289205 | max2: 0.11913394928\n",
      "IT: 860000 | avg: 3.11070134473e-05 | max: 0.0202469825745 | avg2: 0.081664653057 | max2: 0.11913394928\n",
      "IT: 870000 | avg: 3.10965770963e-05 | max: 0.0202469825745 | avg2: 0.0816637724345 | max2: 0.11913394928\n",
      "IT: 880000 | avg: 3.10855551199e-05 | max: 0.0202469825745 | avg2: 0.0816637693679 | max2: 0.11913394928\n",
      "IT: 890000 | avg: 3.10838434134e-05 | max: 0.0202469825745 | avg2: 0.0816645840982 | max2: 0.11913394928\n",
      "IT: 900000 | avg: 3.10755207804e-05 | max: 0.0202469825745 | avg2: 0.0816631735402 | max2: 0.11913394928\n",
      "IT: 910000 | avg: 3.10644812636e-05 | max: 0.0202469825745 | avg2: 0.0816625734921 | max2: 0.11913394928\n",
      "IT: 920000 | avg: 3.10662339563e-05 | max: 0.0202469825745 | avg2: 0.08166272723 | max2: 0.11913394928\n",
      "IT: 930000 | avg: 3.1060170871e-05 | max: 0.0202469825745 | avg2: 0.0816630731944 | max2: 0.11913394928\n",
      "IT: 940000 | avg: 3.10518728926e-05 | max: 0.0202469825745 | avg2: 0.0816629709348 | max2: 0.11913394928\n"
     ]
    },
    {
     "ename": "KeyboardInterrupt",
     "evalue": "",
     "output_type": "error",
     "traceback": [
      "\u001b[0;31m---------------------------------------------------------------------------\u001b[0m",
      "\u001b[0;31mKeyboardInterrupt\u001b[0m                         Traceback (most recent call last)",
      "\u001b[0;32m<ipython-input-9-e045830c8fe6>\u001b[0m in \u001b[0;36m<module>\u001b[0;34m()\u001b[0m\n\u001b[1;32m      8\u001b[0m     \u001b[0;31m#time.sleep(0.1)\u001b[0m\u001b[0;34m\u001b[0m\u001b[0;34m\u001b[0m\u001b[0m\n\u001b[1;32m      9\u001b[0m     \u001b[0mser\u001b[0m\u001b[0;34m.\u001b[0m\u001b[0mtimeout\u001b[0m \u001b[0;34m=\u001b[0m \u001b[0;36m0.1\u001b[0m\u001b[0;34m\u001b[0m\u001b[0m\n\u001b[0;32m---> 10\u001b[0;31m     \u001b[0mresponse\u001b[0m \u001b[0;34m=\u001b[0m \u001b[0mser\u001b[0m\u001b[0;34m.\u001b[0m\u001b[0mreadline\u001b[0m\u001b[0;34m(\u001b[0m\u001b[0;34m)\u001b[0m\u001b[0;34m.\u001b[0m\u001b[0mrstrip\u001b[0m\u001b[0;34m(\u001b[0m\u001b[0;34m)\u001b[0m\u001b[0;34m;\u001b[0m\u001b[0;34m\u001b[0m\u001b[0m\n\u001b[0m\u001b[1;32m     11\u001b[0m     \u001b[0mend2\u001b[0m \u001b[0;34m=\u001b[0m \u001b[0mtimer\u001b[0m\u001b[0;34m(\u001b[0m\u001b[0;34m)\u001b[0m\u001b[0;34m\u001b[0m\u001b[0m\n\u001b[1;32m     12\u001b[0m     \u001b[0mdelta\u001b[0m \u001b[0;34m=\u001b[0m \u001b[0;34m(\u001b[0m\u001b[0mend\u001b[0m\u001b[0;34m-\u001b[0m\u001b[0mstart\u001b[0m\u001b[0;34m)\u001b[0m\u001b[0;34m\u001b[0m\u001b[0m\n",
      "\u001b[0;32m/usr/lib/python2.7/dist-packages/serial/serialposix.pyc\u001b[0m in \u001b[0;36mread\u001b[0;34m(self, size)\u001b[0m\n\u001b[1;32m    444\u001b[0m         \u001b[0mread\u001b[0m \u001b[0;34m=\u001b[0m \u001b[0mbytearray\u001b[0m\u001b[0;34m(\u001b[0m\u001b[0;34m)\u001b[0m\u001b[0;34m\u001b[0m\u001b[0m\n\u001b[1;32m    445\u001b[0m         \u001b[0;32mwhile\u001b[0m \u001b[0mlen\u001b[0m\u001b[0;34m(\u001b[0m\u001b[0mread\u001b[0m\u001b[0;34m)\u001b[0m \u001b[0;34m<\u001b[0m \u001b[0msize\u001b[0m\u001b[0;34m:\u001b[0m\u001b[0;34m\u001b[0m\u001b[0m\n\u001b[0;32m--> 446\u001b[0;31m             \u001b[0mready\u001b[0m\u001b[0;34m,\u001b[0m\u001b[0m_\u001b[0m\u001b[0;34m,\u001b[0m\u001b[0m_\u001b[0m \u001b[0;34m=\u001b[0m \u001b[0mselect\u001b[0m\u001b[0;34m.\u001b[0m\u001b[0mselect\u001b[0m\u001b[0;34m(\u001b[0m\u001b[0;34m[\u001b[0m\u001b[0mself\u001b[0m\u001b[0;34m.\u001b[0m\u001b[0mfd\u001b[0m\u001b[0;34m]\u001b[0m\u001b[0;34m,\u001b[0m\u001b[0;34m[\u001b[0m\u001b[0;34m]\u001b[0m\u001b[0;34m,\u001b[0m\u001b[0;34m[\u001b[0m\u001b[0;34m]\u001b[0m\u001b[0;34m,\u001b[0m \u001b[0mself\u001b[0m\u001b[0;34m.\u001b[0m\u001b[0m_timeout\u001b[0m\u001b[0;34m)\u001b[0m\u001b[0;34m\u001b[0m\u001b[0m\n\u001b[0m\u001b[1;32m    447\u001b[0m             \u001b[0;31m# If select was used with a timeout, and the timeout occurs, it\u001b[0m\u001b[0;34m\u001b[0m\u001b[0;34m\u001b[0m\u001b[0m\n\u001b[1;32m    448\u001b[0m             \u001b[0;31m# returns with empty lists -> thus abort read operation.\u001b[0m\u001b[0;34m\u001b[0m\u001b[0;34m\u001b[0m\u001b[0m\n",
      "\u001b[0;31mKeyboardInterrupt\u001b[0m: "
     ]
    }
   ],
   "source": [
    "def command_spam():\n",
    "    ser.read(1024)\n",
    "    maxt = maxt2 = 0\n",
    "    totalt = totalt2 = 0\n",
    "    for i in range(1,1000):\n",
    "        start = timer()\n",
    "        ser.write('*IDN?\\n')\n",
    "        end = timer()\n",
    "        #time.sleep(0.1)\n",
    "        ser.timeout = 0.1\n",
    "        response = ser.readline().rstrip();\n",
    "        end2 = timer()\n",
    "        delta = (end-start)\n",
    "        delta2 = (end2-end)\n",
    "\n",
    "        totalt += delta\n",
    "        totalt2 += delta2\n",
    "        if (maxt < delta):\n",
    "            maxt = delta\n",
    "        if (maxt2 < delta2):\n",
    "            maxt2 = delta2\n",
    "        if (response != \"Stanford_Research_Systems,SIM960,s/n014669,ver2.17\"):\n",
    "            print(\"BROKE ON ITERATION {}, resp '{}'\".format(i,response))\n",
    "            break\n",
    "        if (i % 100 == 0):\n",
    "            print(\"IT: {} | avg: {} | max: {} | avg2: {} | max2: {}\".format(i,totalt/i,maxt,totalt2/i,maxt2))"
   ]
  },
  {
   "cell_type": "code",
   "execution_count": null,
   "metadata": {
    "collapsed": true
   },
   "outputs": [],
   "source": [
    "def idn_test():\n",
    "    serial_init()\n",
    "    get_idn()\n",
    "    s960_c()\n",
    "    s960_dc()"
   ]
  },
  {
   "cell_type": "code",
   "execution_count": null,
   "metadata": {
    "collapsed": true
   },
   "outputs": [],
   "source": [
    "ser.write('CURV? 0\\n')\n",
    "time.sleep(0.2)\n",
    "response = ser.read(1024)\n",
    "print 'R3:' + response"
   ]
  },
  {
   "cell_type": "code",
   "execution_count": 14,
   "metadata": {
    "collapsed": true
   },
   "outputs": [],
   "source": [
    "ser.close()"
   ]
  },
  {
   "cell_type": "code",
   "execution_count": 30,
   "metadata": {},
   "outputs": [
    {
     "name": "stdout",
     "output_type": "stream",
     "text": [
      "R3:5.721500E+01, 4.333400E+01, 3.838500E+01, 1.171370E+02\r\n",
      "\n"
     ]
    }
   ],
   "source": [
    "ser.write('TVAL? 0\\n')\n",
    "time.sleep(1)\n",
    "response = ser.read(1024)\n",
    "print 'R3:' + response"
   ]
  },
  {
   "cell_type": "code",
   "execution_count": null,
   "metadata": {
    "collapsed": true
   },
   "outputs": [],
   "source": [
    "ser.write('*RST\\n')\n",
    "time.sleep(0.2)\n",
    "response = ser.read(1024)\n",
    "print 'R3:' + response"
   ]
  },
  {
   "cell_type": "code",
   "execution_count": null,
   "metadata": {
    "collapsed": true
   },
   "outputs": [],
   "source": [
    "string2 = 'TVAL?' + str(4) + '\\n'\n",
    "ser.write(string2)\n",
    "\n",
    "time.sleep(0.2)\n",
    "response = ser.read(64)\n",
    "print 'R4:' + response"
   ]
  },
  {
   "cell_type": "code",
   "execution_count": null,
   "metadata": {
    "collapsed": true
   },
   "outputs": [],
   "source": [
    "time.sleep(0.2)\n",
    "ser.write('dde\\n')\n",
    "\n",
    "response = ser.read(64)\n",
    "print 'R5:' + response"
   ]
  },
  {
   "cell_type": "code",
   "execution_count": null,
   "metadata": {
    "collapsed": true
   },
   "outputs": [],
   "source": [
    "ser.close()"
   ]
  },
  {
   "cell_type": "code",
   "execution_count": null,
   "metadata": {
    "collapsed": true
   },
   "outputs": [],
   "source": [
    "ser = serial.Serial()\n",
    "ser.port = \"/dev/ADR_sim900\"\n",
    "ser.baudrate = 9600\n",
    "ser.bytesize = serial.EIGHTBITS #number of bits per bytes\n",
    "ser.parity = serial.PARITY_NONE #set parity check: no parity\n",
    "ser.stopbits = serial.STOPBITS_ONE #number of stop bits\n",
    "ser.timeout = 0.5          #non-block read\n",
    "ser.write_Timeout = 0.5   #timeout for write\n",
    "ser.xonxoff = False\n",
    "ser.rtscts= False\n",
    "ser.dsrdtr = False\n",
    "ser.open()\n",
    "time.sleep(2)\n",
    "ser.flushInput() #flush input buffer, discarding all its contents\n",
    "ser.flushOutput()#flush output buffer, aborting current output\n",
    "ser.write(\"*RST\\n\")\n",
    "ser.write(\"*CLS\\n\")\n",
    "print('> Serial port '+ser.port+' is now open to SRS.\\n Please close it when done!')\n",
    "print ser"
   ]
  },
  {
   "cell_type": "code",
   "execution_count": null,
   "metadata": {
    "collapsed": true
   },
   "outputs": [],
   "source": [
    "string1 = '*IDN?\\n'\n",
    "ser.write(string1)\n",
    "time.sleep(2)\n",
    "response = ser.read(64)\n",
    "print response"
   ]
  },
  {
   "cell_type": "code",
   "execution_count": 6,
   "metadata": {},
   "outputs": [
    {
     "name": "stdout",
     "output_type": "stream",
     "text": [
      "Slot 1 - #3051Stanford_Research_Systems,SIM921,s/n015682,ver4.2\n",
      "Slot 2 - #3000\n",
      "Slot 3 - #3052Stanford_Research_Systems,SIM960,s/n014669,ver2.17\n",
      "Slot 4 - #3000\n",
      "Slot 5 - #3051Stanford_Research_Systems,SIM925,s/n012684,ver2.4\n",
      "Slot 6 - #3052Stanford_Research_Systems,SIM922,s/n012885,ver2.70\n",
      "Slot 7 - #3051Stanford_Research_Systems,SIM970,s/n015635,ver2.2\n",
      "Slot 8 - #3000\n"
     ]
    }
   ],
   "source": [
    "ser.write(\"*CLS\\n\")\n",
    "ser.write(\"FLSH\\n\")\n",
    "ser.timeout = 0.1\n",
    "for i in range(1,9):\n",
    "    ser.write('SNDT {},\"*IDN?\"\\n'.format(i))\n",
    "    time.sleep(0.1)\n",
    "    ser.write('GETN? {},128\\n'.format(i))\n",
    "    time.sleep(0.1)\n",
    "    response = ser.read(1024)\n",
    "    print(\"Slot {} - {}\".format(i,response.rstrip()))    "
   ]
  },
  {
   "cell_type": "code",
   "execution_count": null,
   "metadata": {
    "collapsed": true
   },
   "outputs": [],
   "source": [
    "ser.write(\"*CLS\\n\")\n",
    "ser.write(\"FLSH\\n\")\n",
    "ser.timeout = 0\n",
    "for x in range(1000,50,-20):\n",
    "    start = timer()\n",
    "    ser.write('*IDN?\\n')\n",
    "    time.sleep(float(x)/1000)\n",
    "    response = ser.read(128)\n",
    "    end = timer()\n",
    "    print('{} | {} | {}'.format(x,end - start,response).rstrip())"
   ]
  },
  {
   "cell_type": "code",
   "execution_count": null,
   "metadata": {
    "collapsed": true
   },
   "outputs": [],
   "source": [
    "ser.flushInput();\n",
    "ser.write(\"*CLS\\n\")\n",
    "ser.write(\"FLSH\\n\")\n",
    "ser.timeout = 0.1\n",
    "for x in range(1,20):    \n",
    "    ser.write('*IDN?\\n')\n",
    "    start = timer()\n",
    "    while ser.inWaiting == 0:\n",
    "        pass\n",
    "    end = timer()\n",
    "    t1 = end - start\n",
    "    response = ser.readline()\n",
    "    end2 = timer()\n",
    "    t2 = end2 - start\n",
    "    print('{} | {} | {}'.format(t1,t2,response).rstrip())"
   ]
  },
  {
   "cell_type": "code",
   "execution_count": null,
   "metadata": {
    "collapsed": true
   },
   "outputs": [],
   "source": [
    "ser.write(\"FLSH\\n\")\n",
    "for x in range(1000,50,-20):\n",
    "    ser.write('SNDT 6,\"TVAL?4\"\\n')\n",
    "    time.sleep(float(x)/1000)\n",
    "    ser.write('GETN? 6,128\\n')\n",
    "    time.sleep(float(x)/1000)\n",
    "    response = ser.read(1024)\n",
    "    ser.\n",
    "    print('{} | {}'.format(x,response).rstrip())"
   ]
  },
  {
   "cell_type": "code",
   "execution_count": null,
   "metadata": {
    "collapsed": true
   },
   "outputs": [],
   "source": [
    "for (x * 0.1) in range(1000,50,-10):\n",
    "    print(a)"
   ]
  },
  {
   "cell_type": "code",
   "execution_count": null,
   "metadata": {
    "collapsed": true
   },
   "outputs": [],
   "source": [
    "ser.write('SNDT 6,\"TVAL?4\"\\n')\n",
    "time.sleep(1)\n",
    "ser.write('GETN? 6,128\\n')\n",
    "time.sleep(1)\n",
    "response = ser.read(1024)\n",
    "print response"
   ]
  },
  {
   "cell_type": "code",
   "execution_count": null,
   "metadata": {
    "collapsed": true
   },
   "outputs": [],
   "source": [
    "ser.write('TERM? 6,\"TVAL?4\"\\n')\n",
    "time.sleep(1)\n",
    "ser.write('GETN? 6,128\\n')\n",
    "time.sleep(1)\n",
    "response = ser.read(1024)\n",
    "print response"
   ]
  },
  {
   "cell_type": "code",
   "execution_count": null,
   "metadata": {
    "collapsed": true
   },
   "outputs": [],
   "source": [
    "ser.write('SEND 6,\"*RST\\n\"\\n')\n",
    "time.sleep(2)\n",
    "response = ser.read(64)\n",
    "print response"
   ]
  },
  {
   "cell_type": "code",
   "execution_count": 5,
   "metadata": {},
   "outputs": [
    {
     "name": "stdout",
     "output_type": "stream",
     "text": [
      "\n"
     ]
    }
   ],
   "source": [
    "ser.write('SRST 3\\n')\n",
    "time.sleep(2)\n",
    "response = ser.read(64)\n",
    "print response"
   ]
  },
  {
   "cell_type": "code",
   "execution_count": null,
   "metadata": {
    "collapsed": true
   },
   "outputs": [],
   "source": [
    "ser.write('RPER?\\n')\n",
    "time.sleep(2)\n",
    "response = ser.read(64)\n",
    "print response"
   ]
  },
  {
   "cell_type": "code",
   "execution_count": null,
   "metadata": {
    "collapsed": true
   },
   "outputs": [],
   "source": [
    "ser.write('TERM? 6\\n')\n",
    "time.sleep(2)\n",
    "response = ser.read(64)\n",
    "print response"
   ]
  },
  {
   "cell_type": "code",
   "execution_count": null,
   "metadata": {
    "collapsed": true
   },
   "outputs": [],
   "source": []
  }
 ],
 "metadata": {
  "kernelspec": {
   "display_name": "Python 2",
   "language": "python",
   "name": "python2"
  },
  "language_info": {
   "codemirror_mode": {
    "name": "ipython",
    "version": 2
   },
   "file_extension": ".py",
   "mimetype": "text/x-python",
   "name": "python",
   "nbconvert_exporter": "python",
   "pygments_lexer": "ipython2",
   "version": "2.7.9"
  }
 },
 "nbformat": 4,
 "nbformat_minor": 2
}
