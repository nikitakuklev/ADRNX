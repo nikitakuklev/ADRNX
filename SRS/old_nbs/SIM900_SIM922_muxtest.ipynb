{
 "cells": [
  {
   "cell_type": "code",
   "execution_count": 6,
   "metadata": {},
   "outputs": [],
   "source": [
    "import sys\n",
    "sys.path.append('/home/pi/Desktop/ADR_NX/Utils')\n",
    "import serial,time\n",
    "from timeit import default_timer as timer\n",
    "import adr_utils"
   ]
  },
  {
   "cell_type": "code",
   "execution_count": 2,
   "metadata": {},
   "outputs": [
    {
     "name": "stdout",
     "output_type": "stream",
     "text": [
      "Serial<id=0x71af2410, open=True>(port='/dev/ADR_sim900', baudrate=9600, bytesize=8, parity='N', stopbits=1, timeout=0, xonxoff=False, rtscts=False, dsrdtr=False)\n"
     ]
    }
   ],
   "source": [
    "# initiate serial connection\n",
    "ser = serial.Serial()\n",
    "ser.port = \"/dev/ADR_sim900\"\n",
    "ser.baudrate = 9600\n",
    "ser.bytesize = serial.EIGHTBITS #number of bits per bytes\n",
    "ser.parity = serial.PARITY_NONE #set parity check: no parity\n",
    "ser.stopbits = serial.STOPBITS_ONE #number of stop bits\n",
    "ser.timeout = 0.5\n",
    "ser.write_Timeout = 0.5\n",
    "ser.xonxoff = False\n",
    "ser.rtscts= False\n",
    "ser.dsrdtr = False\n",
    "ser.open()\n",
    "time.sleep(1)\n",
    "ser.flushInput() #flush input buffer, discarding all its contents\n",
    "ser.flushOutput()#flush output buffer, aborting current output\n",
    "time.sleep(0.2)\n",
    "print ser"
   ]
  },
  {
   "cell_type": "code",
   "execution_count": null,
   "metadata": {
    "collapsed": true
   },
   "outputs": [],
   "source": [
    "ser.close()"
   ]
  },
  {
   "cell_type": "code",
   "execution_count": 3,
   "metadata": {},
   "outputs": [
    {
     "name": "stdout",
     "output_type": "stream",
     "text": [
      "Stanford_Research_Systems,SIM922,s/n012885,ver2.70\r\n",
      "\n",
      "0.504200935364\n"
     ]
    }
   ],
   "source": [
    "start = timer()\n",
    "ser.write('*IDN?\\n')\n",
    "time.sleep(0.5)\n",
    "response = ser.read(128)\n",
    "end = timer()\n",
    "print(response)\n",
    "print(end - start)"
   ]
  },
  {
   "cell_type": "code",
   "execution_count": 23,
   "metadata": {},
   "outputs": [
    {
     "name": "stdout",
     "output_type": "stream",
     "text": [
      "'Stanford_Research_Systems,SIM900,s/n130132,ver3.6\\r\\n'\n"
     ]
    }
   ],
   "source": [
    "ser.write('*IDN?\\n')\n",
    "time.sleep(0.5)\n",
    "response = ser.readline()\n",
    "print repr(response)"
   ]
  },
  {
   "cell_type": "code",
   "execution_count": null,
   "metadata": {
    "collapsed": true
   },
   "outputs": [],
   "source": [
    "type(response)"
   ]
  },
  {
   "cell_type": "code",
   "execution_count": 41,
   "metadata": {},
   "outputs": [
    {
     "name": "stdout",
     "output_type": "stream",
     "text": [
      "R2:\n"
     ]
    }
   ],
   "source": [
    "string1 = 'CONN 6, \"dde\"\\n'\n",
    "ser.write(string1)\n",
    "\n",
    "time.sleep(0.2)\n",
    "response = ser.read(1024)\n",
    "print 'R2:' + response"
   ]
  },
  {
   "cell_type": "code",
   "execution_count": 30,
   "metadata": {},
   "outputs": [
    {
     "name": "stdout",
     "output_type": "stream",
     "text": [
      "R3:\n"
     ]
    }
   ],
   "source": [
    "ser.write('*IDN?\\n')\n",
    "time.sleep(0.2)\n",
    "response = ser.read(1024)\n",
    "print 'R3:' + response"
   ]
  },
  {
   "cell_type": "code",
   "execution_count": null,
   "metadata": {
    "collapsed": true
   },
   "outputs": [],
   "source": [
    "ser.read(1024)\n",
    "maxt = maxt2 = 0\n",
    "totalt = totalt2 = 0\n",
    "for i in range(1,1000000):\n",
    "    start = timer()\n",
    "    ser.write('*IDN?\\n')\n",
    "    end = timer()\n",
    "    #time.sleep(0.1)\n",
    "    ser.timeout = 0.1\n",
    "    response = ser.readline().rstrip();\n",
    "    end2 = timer()\n",
    "    delta = (end-start)\n",
    "    delta2 = (end2-end)\n",
    "    \n",
    "    totalt += delta\n",
    "    totalt2 += delta2\n",
    "    if (maxt < delta):\n",
    "        maxt = delta\n",
    "    if (maxt2 < delta2):\n",
    "        maxt2 = delta2\n",
    "    if (response != \"Stanford_Research_Systems,SIM960,s/n014669,ver2.17\"):\n",
    "        print(\"BROKE ON ITERATION {}, resp '{}'\".format(i,response))\n",
    "        break\n",
    "    if (i % 10000 == 0):\n",
    "        print(\"IT: {} | avg: {} | max: {} | avg2: {} | max2: {}\".format(i,totalt/i,maxt,totalt2/i,maxt2))"
   ]
  },
  {
   "cell_type": "code",
   "execution_count": 36,
   "metadata": {},
   "outputs": [
    {
     "name": "stdout",
     "output_type": "stream",
     "text": [
      "R3:1, 1, 1, 1\r\n",
      "\n"
     ]
    }
   ],
   "source": [
    "ser.write('CURV? 0\\n')\n",
    "time.sleep(0.2)\n",
    "response = ser.read(1024)\n",
    "print 'R3:' + response"
   ]
  },
  {
   "cell_type": "code",
   "execution_count": 18,
   "metadata": {},
   "outputs": [
    {
     "name": "stdout",
     "output_type": "stream",
     "text": [
      "R3:\n"
     ]
    }
   ],
   "source": [
    "ser.write('CURV 0,1\\n')\n",
    "time.sleep(0.2)\n",
    "response = ser.read(1024)\n",
    "print 'R3:' + response"
   ]
  },
  {
   "cell_type": "code",
   "execution_count": 44,
   "metadata": {},
   "outputs": [
    {
     "name": "stdout",
     "output_type": "stream",
     "text": [
      "Point 1:  9.068100E-02 5.000000E+02\n",
      "Point 2:  1.014530E-01 4.950000E+02\n",
      "Point 3:  1.125530E-01 4.900000E+02\n",
      "Point 4:  1.239150E-01 4.850000E+02\n",
      "Point 5:  1.354800E-01 4.800000E+02\n",
      "Point 6:  1.471910E-01 4.750000E+02\n",
      "Point 7:  1.590090E-01 4.700000E+02\n",
      "Point 8:  1.709010E-01 4.650000E+02\n",
      "Point 9:  1.828320E-01 4.600000E+02\n",
      "Point 10:  1.947890E-01 4.550000E+02\n",
      "Point 11:  2.067580E-01 4.500000E+02\n",
      "Point 12:  2.187300E-01 4.450000E+02\n",
      "Point 13:  2.306970E-01 4.400000E+02\n",
      "Point 14:  2.426520E-01 4.350000E+02\n",
      "Point 15:  2.545920E-01 4.300000E+02\n",
      "Point 16:  2.665140E-01 4.250000E+02\n",
      "Point 17:  2.784160E-01 4.200000E+02\n",
      "Point 18:  2.902980E-01 4.150000E+02\n",
      "Point 19:  3.021610E-01 4.100000E+02\n",
      "Point 20:  3.140070E-01 4.050000E+02\n",
      "Point 21:  3.258390E-01 4.000000E+02\n",
      "Point 22:  3.376530E-01 3.950000E+02\n",
      "Point 23:  3.494530E-01 3.900000E+02\n",
      "Point 24:  3.612340E-01 3.850000E+02\n",
      "Point 25:  3.730010E-01 3.800000E+02\n",
      "Point 26:  3.847570E-01 3.750000E+02\n",
      "Point 27:  3.965030E-01 3.700000E+02\n",
      "Point 28:  4.082370E-01 3.650000E+02\n",
      "Point 29:  4.199590E-01 3.600000E+02\n",
      "Point 30:  4.316700E-01 3.550000E+02\n",
      "Point 31:  4.433700E-01 3.500000E+02\n",
      "Point 32:  4.550670E-01 3.450000E+02\n",
      "Point 33:  4.667600E-01 3.400000E+02\n",
      "Point 34:  4.784420E-01 3.350000E+02\n",
      "Point 35:  4.901050E-01 3.300000E+02\n",
      "Point 36:  5.017430E-01 3.250000E+02\n",
      "Point 37:  5.133600E-01 3.200000E+02\n",
      "Point 38:  5.249600E-01 3.150000E+02\n",
      "Point 39:  5.365410E-01 3.100000E+02\n",
      "Point 40:  5.481020E-01 3.050000E+02\n",
      "Point 41:  5.596380E-01 3.000000E+02\n",
      "Point 42:  5.711510E-01 2.950000E+02\n",
      "Point 43:  5.826370E-01 2.900000E+02\n",
      "Point 44:  5.940970E-01 2.850000E+02\n",
      "Point 45:  6.055270E-01 2.800000E+02\n",
      "Point 46:  6.169300E-01 2.750000E+02\n",
      "Point 47:  6.211410E-01 2.731500E+02\n",
      "Point 48:  6.283010E-01 2.700000E+02\n",
      "Point 49:  6.396400E-01 2.650000E+02\n",
      "Point 50:  6.509490E-01 2.600000E+02\n",
      "Point 51:  6.622220E-01 2.550000E+02\n",
      "Point 52:  6.734610E-01 2.500000E+02\n",
      "Point 53:  6.846660E-01 2.450000E+02\n",
      "Point 54:  6.958330E-01 2.400000E+02\n",
      "Point 55:  7.069640E-01 2.350000E+02\n",
      "Point 56:  7.180530E-01 2.300000E+02\n",
      "Point 57:  7.291040E-01 2.250000E+02\n",
      "Point 58:  7.401140E-01 2.200000E+02\n",
      "Point 59:  7.510820E-01 2.150000E+02\n",
      "Point 60:  7.620060E-01 2.100000E+02\n",
      "Point 61:  7.728850E-01 2.050000E+02\n",
      "Point 62:  7.837200E-01 2.000000E+02\n",
      "Point 63:  7.945050E-01 1.950000E+02\n",
      "Point 64:  8.052420E-01 1.900000E+02\n",
      "Point 65:  8.159270E-01 1.850000E+02\n",
      "Point 66:  8.265600E-01 1.800000E+02\n",
      "Point 67:  8.371370E-01 1.750000E+02\n",
      "Point 68:  8.476580E-01 1.700000E+02\n",
      "Point 69:  8.581200E-01 1.650000E+02\n",
      "Point 70:  8.685170E-01 1.600000E+02\n",
      "Point 71:  8.788500E-01 1.550000E+02\n",
      "Point 72:  8.891140E-01 1.500000E+02\n",
      "Point 73:  8.993030E-01 1.450000E+02\n",
      "Point 74:  9.094160E-01 1.400000E+02\n",
      "Point 75:  9.194450E-01 1.350000E+02\n",
      "Point 76:  9.293900E-01 1.300000E+02\n",
      "Point 77:  9.392420E-01 1.250000E+02\n",
      "Point 78:  9.490000E-01 1.200000E+02\n",
      "Point 79:  9.586570E-01 1.150000E+02\n",
      "Point 80:  9.682090E-01 1.100000E+02\n",
      "Point 81:  9.776490E-01 1.050000E+02\n",
      "Point 82:  9.869740E-01 1.000000E+02\n",
      "Point 83:  9.961730E-01 9.500000E+01\n",
      "Point 84:  1.005244E+00 9.000000E+01\n",
      "Point 85:  1.014181E+00 8.500000E+01\n",
      "Point 86:  1.022984E+00 8.000000E+01\n",
      "Point 87:  1.027593E+00 7.734999E+01\n",
      "Point 88:  1.031651E+00 7.500000E+01\n",
      "Point 89:  1.040182E+00 7.000000E+01\n",
      "Point 90:  1.048583E+00 6.500000E+01\n",
      "Point 91:  1.056861E+00 6.000000E+01\n",
      "Point 92:  1.060140E+00 5.800000E+01\n",
      "Point 93:  1.063403E+00 5.600000E+01\n",
      "Point 94:  1.066650E+00 5.400000E+01\n",
      "Point 95:  1.069880E+00 5.200000E+01\n",
      "Point 96:  1.073099E+00 5.000000E+01\n",
      "Point 97:  1.076303E+00 4.800000E+01\n",
      "Point 98:  1.079491E+00 4.600000E+01\n",
      "Point 99:  1.082669E+00 4.400000E+01\n"
     ]
    }
   ],
   "source": [
    "ser.read(1024)\n",
    "for i in range(1,100):\n",
    "    ser.write(\"CAPT? 2,{}\\n\".format(i))\n",
    "    time.sleep(0.4)\n",
    "    response = ser.read(1024).rstrip()\n",
    "    print \"Point {}: {}\".format(i,response)"
   ]
  },
  {
   "cell_type": "code",
   "execution_count": null,
   "metadata": {
    "collapsed": true
   },
   "outputs": [],
   "source": [
    "ser.write('TVAL? 0\\n')\n",
    "time.sleep(1)\n",
    "response = ser.read(1024)\n",
    "print 'R3:' + response"
   ]
  },
  {
   "cell_type": "code",
   "execution_count": null,
   "metadata": {
    "collapsed": true
   },
   "outputs": [],
   "source": [
    "ser.write('*RST\\n')\n",
    "time.sleep(0.2)\n",
    "response = ser.read(1024)\n",
    "print 'R3:' + response"
   ]
  },
  {
   "cell_type": "code",
   "execution_count": null,
   "metadata": {
    "collapsed": true
   },
   "outputs": [],
   "source": [
    "string2 = 'TVAL?' + str(4) + '\\n'\n",
    "ser.write(string2)\n",
    "\n",
    "time.sleep(0.2)\n",
    "response = ser.read(64)\n",
    "print 'R4:' + response"
   ]
  },
  {
   "cell_type": "code",
   "execution_count": 39,
   "metadata": {},
   "outputs": [
    {
     "name": "stdout",
     "output_type": "stream",
     "text": [
      "R5:\n"
     ]
    }
   ],
   "source": [
    "time.sleep(0.2)\n",
    "ser.write('dde\\n')\n",
    "\n",
    "response = ser.read(64)\n",
    "print 'R5:' + response"
   ]
  },
  {
   "cell_type": "code",
   "execution_count": 45,
   "metadata": {
    "collapsed": true
   },
   "outputs": [],
   "source": [
    "ser.close()"
   ]
  },
  {
   "cell_type": "code",
   "execution_count": null,
   "metadata": {
    "collapsed": true
   },
   "outputs": [],
   "source": [
    "ser = serial.Serial()\n",
    "ser.port = \"/dev/ADR_sim900\"\n",
    "ser.baudrate = 9600\n",
    "ser.bytesize = serial.EIGHTBITS #number of bits per bytes\n",
    "ser.parity = serial.PARITY_NONE #set parity check: no parity\n",
    "ser.stopbits = serial.STOPBITS_ONE #number of stop bits\n",
    "ser.timeout = 0.5          #non-block read\n",
    "ser.write_Timeout = 0.5   #timeout for write\n",
    "ser.xonxoff = False\n",
    "ser.rtscts= False\n",
    "ser.dsrdtr = False\n",
    "ser.open()\n",
    "time.sleep(2)\n",
    "ser.flushInput() #flush input buffer, discarding all its contents\n",
    "ser.flushOutput()#flush output buffer, aborting current output\n",
    "ser.write(\"*RST\\n\")\n",
    "ser.write(\"*CLS\\n\")\n",
    "print('> Serial port '+ser.port+' is now open to SRS.\\n Please close it when done!')\n",
    "print ser"
   ]
  },
  {
   "cell_type": "code",
   "execution_count": null,
   "metadata": {
    "collapsed": true
   },
   "outputs": [],
   "source": [
    "string1 = '*IDN?\\n'\n",
    "ser.write(string1)\n",
    "time.sleep(2)\n",
    "response = ser.read(64)\n",
    "print response"
   ]
  },
  {
   "cell_type": "code",
   "execution_count": 34,
   "metadata": {},
   "outputs": [
    {
     "name": "stdout",
     "output_type": "stream",
     "text": [
      "Slot 1 - #3051Stanford_Research_Systems,SIM921,s/n015682,ver4.2\n",
      "Slot 2 - #3000\n",
      "Slot 3 - #3052Stanford_Research_Systems,SIM960,s/n014669,ver2.17\n",
      "Slot 4 - #3000\n",
      "Slot 5 - #3051Stanford_Research_Systems,SIM925,s/n012684,ver2.4\n",
      "Slot 6 - #3052Stanford_Research_Systems,SIM922,s/n012885,ver2.70\n",
      "Slot 7 - #3051Stanford_Research_Systems,SIM970,s/n015635,ver2.2\n",
      "Slot 8 - #3000\n"
     ]
    }
   ],
   "source": [
    "ser.write(\"*CLS\\n\")\n",
    "ser.write(\"FLSH\\n\")\n",
    "ser.timeout = 0.1\n",
    "for i in range(1,9):\n",
    "    ser.write('SNDT {},\"*IDN?\"\\n'.format(i))\n",
    "    time.sleep(0.1)\n",
    "    ser.write('GETN? {},128\\n'.format(i))\n",
    "    time.sleep(0.1)\n",
    "    response = ser.read(1024)\n",
    "    print(\"Slot {} - {}\".format(i,response.rstrip()))    "
   ]
  },
  {
   "cell_type": "code",
   "execution_count": null,
   "metadata": {
    "collapsed": true
   },
   "outputs": [],
   "source": [
    "ser.write(\"*CLS\\n\")\n",
    "ser.write(\"FLSH\\n\")\n",
    "ser.timeout = 0\n",
    "for x in range(1000,50,-20):\n",
    "    start = timer()\n",
    "    ser.write('*IDN?\\n')\n",
    "    time.sleep(float(x)/1000)\n",
    "    response = ser.read(128)\n",
    "    end = timer()\n",
    "    print('{} | {} | {}'.format(x,end - start,response).rstrip())"
   ]
  },
  {
   "cell_type": "code",
   "execution_count": null,
   "metadata": {
    "collapsed": true
   },
   "outputs": [],
   "source": [
    "ser.flushInput();\n",
    "ser.write(\"*CLS\\n\")\n",
    "ser.write(\"FLSH\\n\")\n",
    "ser.timeout = 0.1\n",
    "for x in range(1,20):    \n",
    "    ser.write('*IDN?\\n')\n",
    "    start = timer()\n",
    "    while ser.inWaiting == 0:\n",
    "        pass\n",
    "    end = timer()\n",
    "    t1 = end - start\n",
    "    response = ser.readline()\n",
    "    end2 = timer()\n",
    "    t2 = end2 - start\n",
    "    print('{} | {} | {}'.format(t1,t2,response).rstrip())"
   ]
  },
  {
   "cell_type": "code",
   "execution_count": null,
   "metadata": {
    "collapsed": true
   },
   "outputs": [],
   "source": [
    "ser.write(\"FLSH\\n\")\n",
    "for x in range(1000,50,-20):\n",
    "    ser.write('SNDT 6,\"TVAL?4\"\\n')\n",
    "    time.sleep(float(x)/1000)\n",
    "    ser.write('GETN? 6,128\\n')\n",
    "    time.sleep(float(x)/1000)\n",
    "    response = ser.read(1024)\n",
    "    ser.\n",
    "    print('{} | {}'.format(x,response).rstrip())"
   ]
  },
  {
   "cell_type": "code",
   "execution_count": null,
   "metadata": {
    "collapsed": true
   },
   "outputs": [],
   "source": [
    "for (x * 0.1) in range(1000,50,-10):\n",
    "    print(a)"
   ]
  },
  {
   "cell_type": "code",
   "execution_count": null,
   "metadata": {
    "collapsed": true
   },
   "outputs": [],
   "source": [
    "ser.write('SNDT 6,\"TVAL?4\"\\n')\n",
    "time.sleep(1)\n",
    "ser.write('GETN? 6,128\\n')\n",
    "time.sleep(1)\n",
    "response = ser.read(1024)\n",
    "print response"
   ]
  },
  {
   "cell_type": "code",
   "execution_count": null,
   "metadata": {
    "collapsed": true
   },
   "outputs": [],
   "source": [
    "ser.write('TERM? 6,\"TVAL?4\"\\n')\n",
    "time.sleep(1)\n",
    "ser.write('GETN? 6,128\\n')\n",
    "time.sleep(1)\n",
    "response = ser.read(1024)\n",
    "print response"
   ]
  },
  {
   "cell_type": "code",
   "execution_count": null,
   "metadata": {
    "collapsed": true
   },
   "outputs": [],
   "source": [
    "ser.write('SEND 6,\"*RST\\n\"\\n')\n",
    "time.sleep(2)\n",
    "response = ser.read(64)\n",
    "print response"
   ]
  },
  {
   "cell_type": "code",
   "execution_count": 40,
   "metadata": {},
   "outputs": [
    {
     "name": "stdout",
     "output_type": "stream",
     "text": [
      "\n"
     ]
    }
   ],
   "source": [
    "ser.write('SRST 6\\n')\n",
    "time.sleep(2)\n",
    "response = ser.read(64)\n",
    "print response"
   ]
  },
  {
   "cell_type": "code",
   "execution_count": null,
   "metadata": {
    "collapsed": true
   },
   "outputs": [],
   "source": [
    "ser.write('RPER?\\n')\n",
    "time.sleep(2)\n",
    "response = ser.read(64)\n",
    "print response"
   ]
  },
  {
   "cell_type": "code",
   "execution_count": null,
   "metadata": {
    "collapsed": true
   },
   "outputs": [],
   "source": [
    "ser.write('TERM? 6\\n')\n",
    "time.sleep(2)\n",
    "response = ser.read(64)\n",
    "print response"
   ]
  },
  {
   "cell_type": "code",
   "execution_count": null,
   "metadata": {
    "collapsed": true
   },
   "outputs": [],
   "source": []
  }
 ],
 "metadata": {
  "kernelspec": {
   "display_name": "Python 2",
   "language": "python",
   "name": "python2"
  },
  "language_info": {
   "codemirror_mode": {
    "name": "ipython",
    "version": 2
   },
   "file_extension": ".py",
   "mimetype": "text/x-python",
   "name": "python",
   "nbconvert_exporter": "python",
   "pygments_lexer": "ipython2",
   "version": "2.7.9"
  }
 },
 "nbformat": 4,
 "nbformat_minor": 2
}
