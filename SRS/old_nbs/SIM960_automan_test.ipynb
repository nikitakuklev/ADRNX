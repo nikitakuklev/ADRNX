{
 "cells": [
  {
   "cell_type": "code",
   "execution_count": 1,
   "metadata": {
    "collapsed": true
   },
   "outputs": [],
   "source": [
    "import serial,time,timeit\n",
    "from timeit import default_timer as timer"
   ]
  },
  {
   "cell_type": "code",
   "execution_count": 2,
   "metadata": {},
   "outputs": [
    {
     "name": "stdout",
     "output_type": "stream",
     "text": [
      "Serial<id=0x71af3030, open=True>(port='/dev/ADR_sim900', baudrate=9600, bytesize=8, parity='N', stopbits=1, timeout=0.5, xonxoff=False, rtscts=False, dsrdtr=False)\n"
     ]
    }
   ],
   "source": [
    "ser = serial.Serial()\n",
    "ser.port = \"/dev/ADR_sim900\"\n",
    "ser.baudrate = 9600\n",
    "ser.timeout = 0.5\n",
    "ser.write_Timeout = 0.5\n",
    "ser.open()\n",
    "time.sleep(1)\n",
    "ser.flushInput() #flush input buffer, discarding all its contents\n",
    "ser.flushOutput()#flush output buffer, aborting current output\n",
    "time.sleep(0.2)\n",
    "print ser"
   ]
  },
  {
   "cell_type": "code",
   "execution_count": 5,
   "metadata": {
    "collapsed": true
   },
   "outputs": [],
   "source": [
    "ser.write('CONN 3, \"dde\"\\n')\n",
    "time.sleep(0.2)\n",
    "ser.flushInput()"
   ]
  },
  {
   "cell_type": "code",
   "execution_count": 6,
   "metadata": {},
   "outputs": [
    {
     "name": "stdout",
     "output_type": "stream",
     "text": [
      "R3:Stanford_Research_Systems,SIM960,s/n014669,ver2.17\r\n",
      "\n"
     ]
    }
   ],
   "source": [
    "ser.write('*IDN?\\n')\n",
    "time.sleep(0.4)\n",
    "response = ser.read(1024).rstrip()\n",
    "print 'R3:' + response"
   ]
  },
  {
   "cell_type": "code",
   "execution_count": 23,
   "metadata": {},
   "outputs": [
    {
     "name": "stdout",
     "output_type": "stream",
     "text": [
      "1          | Current mode\n",
      "-0.165     | Current manual setting\n",
      "-00.165418 | Current output voltage\n",
      "+02.616196 | Current measure input voltage\n",
      "+00.153929 | Current setpoint voltage\n"
     ]
    }
   ],
   "source": [
    "ser.write('AMAN?\\n')\n",
    "time.sleep(0.4)\n",
    "response = ser.read(1024).rstrip()\n",
    "print '{:10s} | Current mode'.format(response) \n",
    "\n",
    "ser.write('MOUT?\\n')\n",
    "time.sleep(0.4)\n",
    "response = ser.read(1024).rstrip()\n",
    "print '{:10s} | Current manual setting'.format(response) \n",
    "\n",
    "ser.write('OMON?\\n')\n",
    "time.sleep(0.4)\n",
    "response = ser.read(1024).rstrip()\n",
    "print '{:10s} | Current output voltage'.format(response) \n",
    "\n",
    "ser.write('MMON?\\n')\n",
    "time.sleep(0.4)\n",
    "response = ser.read(1024).rstrip()\n",
    "print '{:10s} | Current measure input voltage'.format(response) \n",
    "\n",
    "ser.write('SMON?\\n')\n",
    "time.sleep(0.4)\n",
    "response = ser.read(1024).rstrip()\n",
    "print '{:10s} | Current setpoint voltage'.format(response) \n"
   ]
  },
  {
   "cell_type": "code",
   "execution_count": 24,
   "metadata": {},
   "outputs": [
    {
     "name": "stdout",
     "output_type": "stream",
     "text": [
      "+09.101254 | Current output voltage\n",
      "+9.101     | Current manual setting\n",
      "0          | Current mode\n"
     ]
    }
   ],
   "source": [
    "#switch PID to MAN\n",
    "ser.write('OMON?\\n')\n",
    "time.sleep(0.4)\n",
    "response = ser.read(1024).rstrip()\n",
    "print '{:10s} | Current output voltage'.format(response) \n",
    "\n",
    "ser.write('MOUT {}\\n'.format(response))\n",
    "time.sleep(0.4)\n",
    "ser.write('MOUT?\\n')\n",
    "time.sleep(0.4)\n",
    "#response = ser.read(1024).rstrip()\n",
    "response = ser.readline().rstrip()\n",
    "print '{:10s} | Current manual setting'.format(response) \n",
    "\n",
    "ser.write('AMAN 0\\n')\n",
    "time.sleep(0.4)\n",
    "ser.write('AMAN?\\n')\n",
    "time.sleep(0.4)\n",
    "response = ser.read(1024).rstrip()\n",
    "print '{:10s} | Current mode'.format(response)"
   ]
  },
  {
   "cell_type": "code",
   "execution_count": 19,
   "metadata": {},
   "outputs": [
    {
     "name": "stdout",
     "output_type": "stream",
     "text": [
      "\n"
     ]
    }
   ],
   "source": [
    "response = ser.read(1024).rstrip()\n",
    "print response"
   ]
  },
  {
   "cell_type": "code",
   "execution_count": 26,
   "metadata": {},
   "outputs": [
    {
     "data": {
      "text/plain": [
       "7"
      ]
     },
     "execution_count": 26,
     "metadata": {},
     "output_type": "execute_result"
    }
   ],
   "source": [
    "ser.write('MOUT 0\\n')"
   ]
  },
  {
   "cell_type": "code",
   "execution_count": 25,
   "metadata": {},
   "outputs": [
    {
     "data": {
      "text/plain": [
       "10"
      ]
     },
     "execution_count": 25,
     "metadata": {},
     "output_type": "execute_result"
    }
   ],
   "source": [
    "ser.write('SETP 0.15\\n')"
   ]
  },
  {
   "cell_type": "code",
   "execution_count": null,
   "metadata": {
    "collapsed": true
   },
   "outputs": [],
   "source": []
  }
 ],
 "metadata": {
  "kernelspec": {
   "display_name": "Python 2",
   "language": "python",
   "name": "python2"
  },
  "language_info": {
   "codemirror_mode": {
    "name": "ipython",
    "version": 2
   },
   "file_extension": ".py",
   "mimetype": "text/x-python",
   "name": "python",
   "nbconvert_exporter": "python",
   "pygments_lexer": "ipython2",
   "version": "2.7.9"
  }
 },
 "nbformat": 4,
 "nbformat_minor": 2
}
