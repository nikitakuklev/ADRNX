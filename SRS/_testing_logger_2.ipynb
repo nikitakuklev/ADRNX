{
 "cells": [
  {
   "cell_type": "code",
   "execution_count": null,
   "metadata": {},
   "outputs": [],
   "source": [
    "%matplotlib notebook"
   ]
  },
  {
   "cell_type": "code",
   "execution_count": 3,
   "metadata": {},
   "outputs": [],
   "source": [
    "import serial, threading, sys, time\n",
    "sys.path.append('/home/pi/Desktop/ADRNX')\n",
    "from SRS import SIM900, SIM921, SIM922, SIM970\n",
    "import numpy as np\n",
    "import matplotlib.pyplot as plt\n",
    "from timeit import default_timer as timer"
   ]
  },
  {
   "cell_type": "code",
   "execution_count": 4,
   "metadata": {},
   "outputs": [],
   "source": [
    "mf = SIM900.SIM900('/home/pi/Desktop/ADRNX/SRS/config.yaml',debug=False)\n",
    "mf.init_mainframe()\n",
    "s921 = SIM921.SIM921(mf,'s921',debug=True);\n",
    "s922 = SIM922.SIM922(mf,'s922',debug=False);\n",
    "s970 = SIM970.SIM970(mf,'s970',debug=True);\n",
    "mf.register_and_init_mods([s921, s922, s970])\n",
    "mf.start_comm_threads()"
   ]
  },
  {
   "cell_type": "code",
   "execution_count": null,
   "metadata": {},
   "outputs": [],
   "source": []
  },
  {
   "cell_type": "code",
   "execution_count": null,
   "metadata": {},
   "outputs": [],
   "source": [
    "from IPython.display import clear_output\n",
    "temps, times = ([] for i in range(2))\n",
    "s = timer()\n",
    "\n",
    "s922.debug = False\n",
    "s922.start_data_stream(0)\n",
    "i = 0\n",
    "try:\n",
    "    while timer() - s < (30):\n",
    "        gotevent = s922.await_next_event(tm=1.5,clear_before=True,clear_after=False)\n",
    "        if gotevent:\n",
    "            temp = s922.lastvalues.values()\n",
    "            tm = s922.lastdatatimes.values()\n",
    "            temps.append(list(temp))\n",
    "            times.append(list(tm))\n",
    "            i+=1\n",
    "            print(i)\n",
    "                   \n",
    "        try:\n",
    "            print(s922.excq.get_nowait())\n",
    "            print(\"OOPS!\")\n",
    "        except:\n",
    "            #print \"No exceptions!\"\n",
    "            pass                \n",
    "        #print(\"|{:5d}|{:s}|{:8f}\".format(i,temp,tm[0]))\n",
    "        \n",
    "except Exception as e:\n",
    "    print(e)\n",
    "finally:\n",
    "    s922.stop_data_stream()\n",
    "    s922.flush_queue()"
   ]
  },
  {
   "cell_type": "code",
   "execution_count": 5,
   "metadata": {},
   "outputs": [
    {
     "name": "stdout",
     "output_type": "stream",
     "text": [
      "SIM970 stream thread up\n"
     ]
    },
    {
     "name": "stderr",
     "output_type": "stream",
     "text": [
      "/home/pi/Desktop/ADRNX/SRS/SIM970.py:77: UserWarning: SIM970M BAD LENGTH: | 0.0000011,-0.00|(16)\n",
      "  if (debugl): warnings.warn(\"SIM970M BAD LENGTH: |{}|({})\".format(val,len(val))))\n",
      "/home/pi/Desktop/ADRNX/SRS/SIM970.py:77: UserWarning: SIM970M BAD LENGTH: |00095, 0.0001391, 0.0000653|(27)\n",
      "  if (debugl): warnings.warn(\"SIM970M BAD LENGTH: |{}|({})\".format(val,len(val))))\n"
     ]
    },
    {
     "name": "stdout",
     "output_type": "stream",
     "text": [
      "True\n",
      "1\n",
      "True\n",
      "2\n",
      "True\n",
      "3\n",
      "True\n",
      "4\n",
      "True\n",
      "5\n",
      "True\n",
      "6\n",
      "True\n",
      "7\n",
      "True\n",
      "8\n",
      "True\n",
      "9\n",
      "True\n",
      "10\n",
      "True\n",
      "11\n",
      "True\n",
      "12\n",
      "True\n",
      "13\n",
      "True\n",
      "14\n",
      "True\n",
      "15\n",
      "True\n",
      "16\n",
      "True\n",
      "17\n",
      "True\n",
      "18\n",
      "True\n",
      "19\n",
      "True\n",
      "20\n",
      "True\n",
      "21\n",
      "True\n",
      "22\n",
      "True\n",
      "23\n",
      "True\n",
      "24\n",
      "True\n",
      "25\n",
      "True\n",
      "26\n"
     ]
    },
    {
     "name": "stderr",
     "output_type": "stream",
     "text": [
      "/home/pi/Desktop/ADRNX/SRS/SIM970.py:77: UserWarning: SIM970M BAD LENGTH: |-0.0000017,-0.00|(16)\n",
      "  if (debugl): warnings.warn(\"SIM970M BAD LENGTH: |{}|({})\".format(val,len(val))))\n",
      "/home/pi/Desktop/ADRNX/SRS/SIM970.py:77: UserWarning: SIM970M BAD LENGTH: |00071, 0.0001366, 0.0000723|(27)\n",
      "  if (debugl): warnings.warn(\"SIM970M BAD LENGTH: |{}|({})\".format(val,len(val))))\n"
     ]
    },
    {
     "name": "stdout",
     "output_type": "stream",
     "text": [
      "True\n",
      "27\n",
      "True\n",
      "28\n",
      "True\n",
      "29\n",
      "True\n",
      "30\n",
      "True\n",
      "31\n",
      "True\n",
      "32\n",
      "True\n",
      "33\n",
      "True\n",
      "34\n",
      "True\n",
      "35\n",
      "True\n",
      "36\n",
      "True\n",
      "37\n",
      "True\n",
      "38\n",
      "True\n",
      "39\n",
      "True\n",
      "40\n",
      "True\n",
      "41\n"
     ]
    },
    {
     "name": "stderr",
     "output_type": "stream",
     "text": [
      "/home/pi/Desktop/ADRNX/SRS/SIM970.py:77: UserWarning: SIM970M BAD LENGTH: | 0.0000017,-0.000006|(20)\n",
      "  if (debugl): warnings.warn(\"SIM970M BAD LENGTH: |{}|({})\".format(val,len(val))))\n",
      "/home/pi/Desktop/ADRNX/SRS/SIM970.py:77: UserWarning: SIM970M BAD LENGTH: |0, 0.0001487, 0.0000634|(23)\n",
      "  if (debugl): warnings.warn(\"SIM970M BAD LENGTH: |{}|({})\".format(val,len(val))))\n"
     ]
    },
    {
     "name": "stdout",
     "output_type": "stream",
     "text": [
      "True\n",
      "42\n",
      "True\n",
      "43\n",
      "True\n",
      "44\n",
      "True\n",
      "45\n",
      "True\n",
      "46\n",
      "True\n",
      "47\n",
      "True\n",
      "48\n",
      "True\n",
      "49\n",
      "True\n",
      "50\n",
      "True\n",
      "51\n",
      "True\n",
      "52\n",
      "True\n",
      "53\n",
      "True\n",
      "54\n",
      "True\n",
      "55\n",
      "True\n",
      "56\n",
      "True\n",
      "57\n",
      "True\n",
      "58\n",
      "True\n",
      "59\n",
      "True\n",
      "60\n",
      "True\n",
      "61\n",
      "True\n",
      "62\n",
      "True\n",
      "63\n",
      "True\n",
      "64\n",
      "True\n",
      "65\n",
      "True\n",
      "66\n",
      "True\n",
      "67\n",
      "True\n",
      "68\n",
      "True\n",
      "69\n",
      "True\n",
      "70\n",
      "True\n",
      "71\n",
      "True\n",
      "72\n"
     ]
    },
    {
     "name": "stderr",
     "output_type": "stream",
     "text": [
      "/home/pi/Desktop/ADRNX/SRS/SIM970.py:77: UserWarning: SIM970M BAD LENGTH: | 0.0000007,-0.00|(16)\n",
      "  if (debugl): warnings.warn(\"SIM970M BAD LENGTH: |{}|({})\".format(val,len(val))))\n",
      "/home/pi/Desktop/ADRNX/SRS/SIM970.py:77: UserWarning: SIM970M BAD LENGTH: |00072, 0.0001438, 0.0000722|(27)\n",
      "  if (debugl): warnings.warn(\"SIM970M BAD LENGTH: |{}|({})\".format(val,len(val))))\n"
     ]
    },
    {
     "name": "stdout",
     "output_type": "stream",
     "text": [
      "True\n",
      "73\n",
      "True\n",
      "74\n",
      "True\n",
      "75\n",
      "True\n",
      "76\n",
      "True\n",
      "77\n",
      "True\n",
      "78\n",
      "True\n",
      "79\n",
      "True\n",
      "80\n",
      "True\n",
      "81\n",
      "True\n",
      "82\n",
      "True\n",
      "83\n",
      "True\n",
      "84\n",
      "True\n",
      "85\n",
      "True\n",
      "86\n",
      "True\n",
      "87\n",
      "True\n",
      "88\n",
      "True\n",
      "89\n",
      "True\n",
      "90\n",
      "True\n",
      "91\n",
      "True\n",
      "92\n",
      "True\n",
      "93\n",
      "True\n",
      "94\n",
      "True\n",
      "95\n",
      "True\n",
      "96\n",
      "True\n",
      "97\n",
      "True\n",
      "98\n",
      "True\n",
      "99\n",
      "True\n",
      "100\n",
      "True\n",
      "101\n",
      "True\n",
      "102\n",
      "True\n",
      "103\n",
      "True\n",
      "104\n",
      "True\n",
      "105\n"
     ]
    }
   ],
   "source": [
    "from IPython.display import clear_output\n",
    "temps, times = ([] for i in range(2))\n",
    "s = timer()\n",
    "\n",
    "s970.debug = True\n",
    "s970.start_data_stream(0)\n",
    "i = 0\n",
    "try:\n",
    "    while timer() - s < (30*1):\n",
    "        gotevent = s970.await_next_event(tm=1.5,clear_before=True,clear_after=True)\n",
    "        print(gotevent)\n",
    "        if gotevent:\n",
    "            temp = s970.lastvalues.values()\n",
    "            tm = s970.lastdatatimes.values()\n",
    "            temps.append(list(temp))\n",
    "            times.append(list(tm))\n",
    "            i+=1\n",
    "            print(i)\n",
    "                   \n",
    "        try:\n",
    "            print(s970.excq.get_nowait())\n",
    "            print(\"OOPS!\")\n",
    "        except:\n",
    "            #print \"No exceptions!\"\n",
    "            pass                \n",
    "        #print(\"|{:5d}|{:s}|{:8f}\".format(i,temp,tm[0]))\n",
    "        \n",
    "except Exception as e:\n",
    "    print(e)\n",
    "finally:\n",
    "    s970.stop_data_stream()\n",
    "    s970.flush_queue()"
   ]
  },
  {
   "cell_type": "code",
   "execution_count": 6,
   "metadata": {
    "collapsed": true
   },
   "outputs": [],
   "source": [
    "data1 = [[x[i] for x in temps] for i in range(0,4)]\n",
    "tm1 = [[x[i] for x in times] for i in range(0,4)]"
   ]
  },
  {
   "cell_type": "code",
   "execution_count": null,
   "metadata": {},
   "outputs": [],
   "source": [
    "len(' 0.0000024,-0.0000024, 0.0001405, 0.0000679')"
   ]
  },
  {
   "cell_type": "code",
   "execution_count": null,
   "metadata": {},
   "outputs": [],
   "source": [
    "tm1"
   ]
  },
  {
   "cell_type": "code",
   "execution_count": 7,
   "metadata": {},
   "outputs": [
    {
     "data": {
      "image/png": "[encoded data removed]",
      "text/plain": [
       "<matplotlib.figure.Figure at 0x6fc0f9d0>"
      ]
     },
     "metadata": {},
     "output_type": "display_data"
    }
   ],
   "source": [
    "fig = plt.figure()\n",
    "plt.plot(tm1[1],data1[1],'-')\n",
    "plt.xlabel(\"Time (s)\")\n",
    "plt.ylabel(\"Temperature (K)\")\n",
    "plt.show()"
   ]
  },
  {
   "cell_type": "code",
   "execution_count": null,
   "metadata": {
    "collapsed": true
   },
   "outputs": [],
   "source": [
    "with open(\"warmup_20170710.txt\", \"w\") as f:\n",
    "    for i in range(0,len(times)):\n",
    "        f.write(\"{} {} {}\\n\".format(times[i],temps[i],dcs[i]))"
   ]
  },
  {
   "cell_type": "code",
   "execution_count": null,
   "metadata": {
    "collapsed": true
   },
   "outputs": [],
   "source": [
    "mfc.stop_input_loop()\n",
    "mfc.stop_output_loop()"
   ]
  },
  {
   "cell_type": "code",
   "execution_count": null,
   "metadata": {},
   "outputs": [],
   "source": [
    "len('5.232800E+01, 5.653000E+00, 5.723000E+00, 1.376550E+02')"
   ]
  },
  {
   "cell_type": "code",
   "execution_count": null,
   "metadata": {
    "collapsed": true
   },
   "outputs": [],
   "source": [
    "range(0,4)"
   ]
  },
  {
   "cell_type": "code",
   "execution_count": null,
   "metadata": {},
   "outputs": [],
   "source": [
    "s922.stop_data_stream()"
   ]
  },
  {
   "cell_type": "code",
   "execution_count": null,
   "metadata": {
    "collapsed": true
   },
   "outputs": [],
   "source": []
  }
 ],
 "metadata": {
  "kernelspec": {
   "display_name": "Python 3",
   "language": "python",
   "name": "python3"
  },
  "language_info": {
   "codemirror_mode": {
    "name": "ipython",
    "version": 3
   },
   "file_extension": ".py",
   "mimetype": "text/x-python",
   "name": "python",
   "nbconvert_exporter": "python",
   "pygments_lexer": "ipython3",
   "version": "3.4.2"
  }
 },
 "nbformat": 4,
 "nbformat_minor": 2
}
