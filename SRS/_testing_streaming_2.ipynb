{
 "cells": [
  {
   "cell_type": "code",
   "execution_count": null,
   "metadata": {
    "collapsed": true
   },
   "outputs": [],
   "source": [
    "%matplotlib inline"
   ]
  },
  {
   "cell_type": "code",
   "execution_count": 1,
   "metadata": {},
   "outputs": [],
   "source": [
    "import serial, threading, sys, time, os, datetime, warnings, numpy as np, matplotlib.pyplot as plt\n",
    "from IPython.display import clear_output\n",
    "from timeit import default_timer as timer\n",
    "sys.path.append('/home/pi/Desktop/ADRNX')\n",
    "#import SIM900, SIM921, SIM922, SIM970\n",
    "from SRS import SIM900, SIM921, SIM922, SIM970"
   ]
  },
  {
   "cell_type": "code",
   "execution_count": 2,
   "metadata": {},
   "outputs": [
    {
     "name": "stdout",
     "output_type": "stream",
     "text": [
      "SIM mainframe device: /dev/ADR_sim900\n",
      "Response to IDN: Stanford_Research_Systems,SIM900,s/n130132,ver3.6\n",
      "Registering mods: [<SRS.SIM921.SIM921 instance at 0x6fdc8fd0>, <SRS.SIM922.SIM922 instance at 0x6fdc8f30>, <SRS.SIM970.SIM970 instance at 0x6fd501c0>]\n",
      "SIM 921 registered!\n",
      "SIM 922 registered!\n",
      "SIM 970 registered!\n",
      "Mod nums: [1, 6, 7]\n",
      "Output loop started\n",
      "Input loop startedInput read thread is up!\n",
      "\n",
      "No exceptions!\n",
      "(<class 'Queue.Empty'>, Empty(), <traceback object at 0x6fd50350>)\n"
     ]
    }
   ],
   "source": [
    "mf = SIM900.SIM900('/home/pi/Desktop/ADRNX/SRS/config.yaml',debug=True)\n",
    "mf.init_mainframe()\n",
    "s921 = SIM921.SIM921(mf,'s921',debug=True);\n",
    "s922 = SIM922.SIM922(mf,'s922',debug=True);\n",
    "s970 = SIM970.SIM970(mf,'s970',debug=True);\n",
    "mf.register_and_init_mods([s921, s922, s970])\n",
    "mf.start_comm_threads()\n",
    "time.sleep(1)\n",
    "try:\n",
    "    print mf.excq.get_nowait()\n",
    "    print \"OOPS!\"\n",
    "except:\n",
    "    print \"No exceptions!\"\n",
    "    print(sys.exc_info())\n",
    "    pass "
   ]
  },
  {
   "cell_type": "code",
   "execution_count": null,
   "metadata": {},
   "outputs": [],
   "source": [
    "print str(bin(int(mf.process_cmd_with_resp('*STB?'))))\n",
    "print mf.process_cmd_with_resp('LEXE?')\n",
    "print mf.process_cmd_with_resp('LCME?')\n",
    "print mf.process_cmd_with_resp('MSGL?')\n",
    "print mf.process_cmd_with_resp('*ESR?')\n",
    "print mf.process_cmd_with_resp('*SRE?')\n",
    "print mf.process_cmd_with_resp('*ESE?')"
   ]
  },
  {
   "cell_type": "code",
   "execution_count": null,
   "metadata": {},
   "outputs": [],
   "source": [
    "print mf.process_cmd_with_resp('*IDN?')\n",
    "print mf.process_cmd_with_resp('ENSS?')\n",
    "print mf.process_cmd_with_resp('*PSC?')"
   ]
  },
  {
   "cell_type": "code",
   "execution_count": 3,
   "metadata": {},
   "outputs": [
    {
     "name": "stdout",
     "output_type": "stream",
     "text": [
      "OQADD (t:0): |SNDT 6,\"TVAL? 1,1\"\\n|\n",
      "OQSEND (t:0): |SNDT 6,\"TVAL? 1,1\"\\n|\n",
      "Read chars: |'MSG 6,#2125.0'|\n",
      "Read chars: |'00000E+02\\n'|\n",
      "Resp split result: \n",
      "['MSG 6,#2125.000000E+02', '']\n",
      "Read single line: 'MSG 6,#2125.000000E+02'\n",
      "['MSG 6', '#2125.000000E+02'] | 6 | 2 | 12 | 'MSG 6,#2125.000000E+02' | '5.000000E+02' |\n",
      "GOT MSG -> S6:'5.000000E+02'\n",
      "Got value: |500.0|18:17:44.086498|\n",
      "'datetime.datetime' object has no attribute 'timestamp'\n"
     ]
    },
    {
     "ename": "AttributeError",
     "evalue": "'datetime.datetime' object has no attribute 'timestamp'",
     "output_type": "error",
     "traceback": [
      "\u001b[0;31m---------------------------------------------------------------------------\u001b[0m",
      "\u001b[0;31mAttributeError\u001b[0m                            Traceback (most recent call last)",
      "\u001b[0;32m<ipython-input-3-177da8f3f61d>\u001b[0m in \u001b[0;36m<module>\u001b[0;34m()\u001b[0m\n\u001b[0;32m----> 1\u001b[0;31m \u001b[0ms922\u001b[0m\u001b[0;34m.\u001b[0m\u001b[0mget_single_value\u001b[0m\u001b[0;34m(\u001b[0m\u001b[0;34m)\u001b[0m\u001b[0;34m\u001b[0m\u001b[0m\n\u001b[0m",
      "\u001b[0;32m/home/pi/Desktop/ADRNX/SRS/SIM_MOD_STREAMER.py\u001b[0m in \u001b[0;36mget_single_value\u001b[0;34m(self, chan, vfunc)\u001b[0m\n\u001b[1;32m     27\u001b[0m             \u001b[0;32mexcept\u001b[0m \u001b[0mException\u001b[0m \u001b[0;32mas\u001b[0m \u001b[0me\u001b[0m\u001b[0;34m:\u001b[0m\u001b[0;34m\u001b[0m\u001b[0m\n\u001b[1;32m     28\u001b[0m                 \u001b[0;32mprint\u001b[0m\u001b[0;34m(\u001b[0m\u001b[0me\u001b[0m\u001b[0;34m)\u001b[0m\u001b[0;34m\u001b[0m\u001b[0m\n\u001b[0;32m---> 29\u001b[0;31m                 \u001b[0;32mraise\u001b[0m \u001b[0me\u001b[0m\u001b[0;34m\u001b[0m\u001b[0m\n\u001b[0m\u001b[1;32m     30\u001b[0m                 \u001b[0;32mreturn\u001b[0m \u001b[0mNone\u001b[0m\u001b[0;34m\u001b[0m\u001b[0m\n\u001b[1;32m     31\u001b[0m         \u001b[0;32melse\u001b[0m\u001b[0;34m:\u001b[0m\u001b[0;34m\u001b[0m\u001b[0m\n",
      "\u001b[0;31mAttributeError\u001b[0m: 'datetime.datetime' object has no attribute 'timestamp'"
     ]
    }
   ],
   "source": [
    "s922.get_single_value()"
   ]
  },
  {
   "cell_type": "code",
   "execution_count": null,
   "metadata": {},
   "outputs": [],
   "source": [
    "with warnings.catch_warnings():\n",
    "    #warnings.simplefilter('error')\n",
    "    for i in range(1,2):\n",
    "        mf.process_cmd_no_resp('SEND 6,\"TVAL? 0,1\\n\"')\n",
    "        time.sleep(3)\n",
    "        if i%5 == 0:\n",
    "            clear_output()\n",
    "        try:\n",
    "            print s922.excq.get_nowait()\n",
    "            warnings.warn(\"EXCEPTION IN THREAD\")\n",
    "        except:\n",
    "            #print \"No exceptions!\"\n",
    "            pass \n",
    "mf.clear_virtual_queues()"
   ]
  },
  {
   "cell_type": "code",
   "execution_count": null,
   "metadata": {},
   "outputs": [],
   "source": [
    "mf.debug = True\n",
    "s922.debug = True\n",
    "try:\n",
    "    with warnings.catch_warnings():\n",
    "        warnings.simplefilter('error')\n",
    "        s922.start_data_stream(0)\n",
    "        for i in range(1,20):        \n",
    "            #time.sleep(1)\n",
    "            #print(s922.newdataevent.isSet())\n",
    "            try:\n",
    "                print s922.excq.get_nowait()\n",
    "                warnings.warn(\"EXCEPTION IN THREAD\")\n",
    "            except:\n",
    "                #print \"No exceptions!\"\n",
    "                pass \n",
    "            s922.newdataevent.wait(5)\n",
    "            try:\n",
    "                print s922.excq.get_nowait()\n",
    "                warnings.warn(\"EXCEPTION IN THREAD\")\n",
    "            except:\n",
    "                #print \"No exceptions!\"\n",
    "                pass \n",
    "            if s922.newdataevent.isSet():\n",
    "                s922.newdataevent.clear()\n",
    "            else:\n",
    "                s922.stop_data_stream()\n",
    "                break\n",
    "            #print(i)\n",
    "            if i%5 == 0:\n",
    "                clear_output()\n",
    "except Exception as e:\n",
    "    print(e)\n",
    "finally:\n",
    "    s922.stop_data_stream()"
   ]
  },
  {
   "cell_type": "code",
   "execution_count": null,
   "metadata": {},
   "outputs": [],
   "source": [
    "mf.debug = True\n",
    "s921.debug = True\n",
    "s921.\n",
    "try:\n",
    "    with warnings.catch_warnings():\n",
    "        warnings.simplefilter('error')\n",
    "        s921.start_data_stream()\n",
    "        for i in range(1,20):        \n",
    "            #time.sleep(1)\n",
    "            #print(s922.newdataevent.isSet())\n",
    "            s921.newdataevent.wait(5)\n",
    "            try:\n",
    "                print s921.excq.get_nowait()\n",
    "                warnings.warn(\"EXCEPTION IN THREAD\")\n",
    "            except:\n",
    "                #print \"No exceptions!\"\n",
    "                pass \n",
    "            if s921.newdataevent.isSet():\n",
    "                s921.newdataevent.clear()\n",
    "            else:\n",
    "                s921.stop_data_stream()\n",
    "                break\n",
    "            #print(i)\n",
    "            if i%5 == 0:\n",
    "                clear_output()\n",
    "except Exception as e:\n",
    "    print(e)\n",
    "finally:\n",
    "    s921.stop_data_stream()"
   ]
  },
  {
   "cell_type": "code",
   "execution_count": null,
   "metadata": {},
   "outputs": [],
   "source": [
    "try:\n",
    "    with warnings.catch_warnings():\n",
    "        warnings.simplefilter('error')\n",
    "        s921.start_data_stream()\n",
    "        s922.start_data_stream()        \n",
    "        for i in range(1,20):        \n",
    "            time.sleep(1)\n",
    "            s921.await_next_event(tm=5,clear_before=True,clear_after=False)\n",
    "            s922.await_next_event(tm=5,clear_before=True,clear_after=False)\n",
    "            try:\n",
    "                print(s921.excq.get_nowait(),s922.excq.get_nowait())\n",
    "                warnings.warn(\"EXCEPTION IN THREADS\")\n",
    "            except:\n",
    "                #print \"No exceptions!\"\n",
    "                pass \n",
    "            if not s921.newdataevent.isSet():            \n",
    "                s921.stop_data_stream(); s922.stop_data_stream()                \n",
    "                break\n",
    "            if not s922.newdataevent.isSet():\n",
    "                s921.stop_data_stream(); s922.stop_data_stream()\n",
    "                break\n",
    "            if i%4 == 0:\n",
    "                clear_output()\n",
    "except Exception as e:\n",
    "    print(e)\n",
    "finally:\n",
    "    s921.stop_data_stream(); s922.stop_data_stream()"
   ]
  },
  {
   "cell_type": "code",
   "execution_count": null,
   "metadata": {},
   "outputs": [],
   "source": [
    "s970.stop_data_stream()"
   ]
  },
  {
   "cell_type": "code",
   "execution_count": null,
   "metadata": {},
   "outputs": [],
   "source": [
    "print mf.process_cmd_with_resp('SEND 6,\"TERM 0\\n\"')"
   ]
  },
  {
   "cell_type": "code",
   "execution_count": null,
   "metadata": {
    "collapsed": true
   },
   "outputs": [],
   "source": [
    "print mf.process_cmd_with_resp('SEND 1,\"TVAL? 1\\n\"')"
   ]
  },
  {
   "cell_type": "code",
   "execution_count": null,
   "metadata": {
    "collapsed": true
   },
   "outputs": [],
   "source": [
    "print mf.process_cmd_with_resp('SEND 1,\"*IDN?\\n\"')"
   ]
  },
  {
   "cell_type": "code",
   "execution_count": null,
   "metadata": {
    "collapsed": true
   },
   "outputs": [],
   "source": [
    "print mf.process_cmd_with_resp('SEND 6,\"SOUT\\n\"')"
   ]
  },
  {
   "cell_type": "code",
   "execution_count": null,
   "metadata": {
    "collapsed": true
   },
   "outputs": [],
   "source": [
    "print mf.process_cmd_with_resp('TERM D,LF\\n')\n",
    "print mf.process_cmd_with_resp('MSGL 128\\n')"
   ]
  },
  {
   "cell_type": "code",
   "execution_count": null,
   "metadata": {
    "collapsed": true
   },
   "outputs": [],
   "source": [
    "mf.get_serial_object().write('SRST 6\\n')\n",
    "mf.get_serial_object().write('AINP? 6\\n')\n",
    "mf.get_serial_object().write('AOUT? 6\\n')"
   ]
  },
  {
   "cell_type": "code",
   "execution_count": null,
   "metadata": {
    "collapsed": true
   },
   "outputs": [],
   "source": [
    "mf.get_serial_object().write('SRST 1\\n')"
   ]
  },
  {
   "cell_type": "code",
   "execution_count": null,
   "metadata": {
    "collapsed": true
   },
   "outputs": [],
   "source": [
    "mf.get_serial_object().write('RPER 66\\n')"
   ]
  },
  {
   "cell_type": "code",
   "execution_count": null,
   "metadata": {
    "collapsed": true
   },
   "outputs": [],
   "source": [
    "mf.get_serial_object().write('*IDN?\\n')"
   ]
  },
  {
   "cell_type": "code",
   "execution_count": null,
   "metadata": {
    "collapsed": true
   },
   "outputs": [],
   "source": [
    "mf.get_serial_object().read(1024)"
   ]
  },
  {
   "cell_type": "code",
   "execution_count": null,
   "metadata": {
    "collapsed": true
   },
   "outputs": [],
   "source": [
    "mfc.debug = True\n",
    "s922.dbg = True\n",
    "s922.start_data_stream(0)\n",
    "i = 0\n",
    "try:\n",
    "    while timer() - s < (24*60*60):\n",
    "        s922.newdataevent.clear()\n",
    "        s922.newdataevent.wait(5)\n",
    "        s922.newdataevent.clear()\n",
    "        temp = s922.lastvalues\n",
    "        tm = s922.lastdatatimes\n",
    "                   \n",
    "        sys.stdout.flush()\n",
    "        sys.stderr.flush()\n",
    "        try:\n",
    "            print s922.excq.get_nowait()\n",
    "            print \"OOPS!\"\n",
    "        except:\n",
    "            #print \"No exceptions!\"\n",
    "            pass                \n",
    "        #print(\"|{:5d}|{:s}|{:8f}\".format(i,temp,tm[0]))\n",
    "        print('{} {:10f} {:f} {:f} {:f} {}'.format(i,temp[0],temp[1],temp[2],temp[3],tm[0]))\n",
    "        #fl.write('{} {} {}'.format(i,temp,tm[0]))\n",
    "        temps.append(list(temp));\n",
    "        times.append(list(tm));\n",
    "        i+=1\n",
    "        time.sleep(5)\n",
    "except Exception as e:\n",
    "    print e\n",
    "finally:\n",
    "    s922.stop_data_stream()\n",
    "    s922.flush_queue()\n",
    "    fl.close()"
   ]
  },
  {
   "cell_type": "code",
   "execution_count": null,
   "metadata": {
    "collapsed": true
   },
   "outputs": [],
   "source": [
    "mfc.stop_comm_threads()"
   ]
  }
 ],
 "metadata": {
  "kernelspec": {
   "display_name": "Python 2",
   "language": "python",
   "name": "python2"
  },
  "language_info": {
   "codemirror_mode": {
    "name": "ipython",
    "version": 2
   },
   "file_extension": ".py",
   "mimetype": "text/x-python",
   "name": "python",
   "nbconvert_exporter": "python",
   "pygments_lexer": "ipython2",
   "version": "2.7.9"
  }
 },
 "nbformat": 4,
 "nbformat_minor": 2
}
