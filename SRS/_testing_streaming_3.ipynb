{
 "cells": [
  {
   "cell_type": "code",
   "execution_count": 1,
   "metadata": {
    "collapsed": true
   },
   "outputs": [],
   "source": [
    "import serial, threading, sys, time, os, datetime, warnings, numpy as np, matplotlib.pyplot as plt\n",
    "from IPython.display import clear_output\n",
    "from timeit import default_timer as timer\n",
    "sys.path.append('/home/pi/Desktop/ADRNX')\n",
    "#import SIM900, SIM921, SIM922, SIM970\n",
    "from SRS import SIM900, SIM921, SIM922, SIM970"
   ]
  },
  {
   "cell_type": "code",
   "execution_count": 2,
   "metadata": {},
   "outputs": [
    {
     "name": "stdout",
     "output_type": "stream",
     "text": [
      "SIM mainframe device: /dev/ADR_sim900\n",
      "Response to IDN: Stanford_Research_Systems,SIM900,s/n130132,ver3.6\n",
      "Registering mods: [<SRS.SIM921.SIM921 object at 0x76982030>, <SRS.SIM922.SIM922 object at 0x6fba5c30>, <SRS.SIM970.SIM970 object at 0x6fba5a50>]\n",
      "Mod nums: [1, 6, 7]\n",
      "Output loop started\n",
      "Input loop startedInput read thread is up!\n",
      "\n",
      "No exceptions!\n",
      "(<class 'queue.Empty'>, Empty(), <traceback object at 0x6fba2e40>)\n"
     ]
    }
   ],
   "source": [
    "mf = SIM900.SIM900('/home/pi/Desktop/ADRNX/SRS/config.yaml',debug=True)\n",
    "mf.init_mainframe()\n",
    "s921 = SIM921.SIM921(mf,'s921',debug=True);\n",
    "s922 = SIM922.SIM922(mf,'s922',debug=True);\n",
    "s970 = SIM970.SIM970(mf,'s970',debug=True);\n",
    "mf.register_and_init_mods([s921, s922, s970])\n",
    "mf.start_comm_threads()\n",
    "time.sleep(1)\n",
    "try:\n",
    "    print(mf.excq.get_nowait())\n",
    "    print(\"OOPS!\")\n",
    "except:\n",
    "    print(\"No exceptions!\")\n",
    "    print(sys.exc_info())\n",
    "    pass "
   ]
  },
  {
   "cell_type": "code",
   "execution_count": null,
   "metadata": {
    "collapsed": true
   },
   "outputs": [],
   "source": [
    "#mf.sim900ser.write('TERM? 6\\n'.encode('ascii'))\n",
    "mf.sim900ser.write('TERM? 6\\n'.encode('ascii'))\n",
    "mf.sim900ser.write('BAUD? 6\\n'.encode('ascii'))"
   ]
  },
  {
   "cell_type": "code",
   "execution_count": null,
   "metadata": {
    "collapsed": true
   },
   "outputs": [],
   "source": [
    "mf.set_baud_module(1,38400)\n",
    "mf.set_baud_module(6,38400)"
   ]
  },
  {
   "cell_type": "code",
   "execution_count": null,
   "metadata": {
    "collapsed": true
   },
   "outputs": [],
   "source": [
    "mf.reset_serial_module(6)"
   ]
  },
  {
   "cell_type": "code",
   "execution_count": null,
   "metadata": {
    "collapsed": true
   },
   "outputs": [],
   "source": [
    "s922.reset()"
   ]
  },
  {
   "cell_type": "code",
   "execution_count": null,
   "metadata": {
    "collapsed": true
   },
   "outputs": [],
   "source": [
    "s922.get_single_temperature(2)\n",
    "s922.get_single_voltage()\n",
    "try:\n",
    "    print(s922.excq.get_nowait())\n",
    "    warnings.warn(\"EXCEPTION IN THREAD\")\n",
    "except:\n",
    "    #print \"No exceptions!\"\n",
    "    pass \n",
    "print(s922.lastvalues[1])"
   ]
  },
  {
   "cell_type": "code",
   "execution_count": 3,
   "metadata": {},
   "outputs": [
    {
     "name": "stdout",
     "output_type": "stream",
     "text": [
      "OQADD (t:0): |'SNDT 7,\"VOLT? 1,1\"\\n'|\n",
      "OQSEND (t:0): |'SNDT 7,\"VOLT? 1,1\"\\n'|\n",
      "Read chars: |'MSG 7,#211 0.00'|\n",
      "Read chars: |'00054\\r'|\n",
      "Read chars: |'\\n'|\n",
      "Resp split result: \n",
      "['MSG 7,#211 0.0000054\\r', '']\n",
      "Read single line: 'MSG 7,#211 0.0000054\\r'\n",
      "['MSG 7', '#211 0.0000054\\r']\n",
      "| 7 | 2 | 11 | 'MSG 7,#211 0.0000054\\r' | ' 0.0000054\\r' |\n",
      "GOT MSG -> S7:' 0.0000054'\n",
      "Not MS call: |1|<bound method SIM970._cmd_qVOLT of <SRS.SIM970.SIM970 object at 0x6fba5a50>>|\n",
      "Got value: |5.4e-06|23:28:00.543240|\n",
      "5.4e-06\n"
     ]
    }
   ],
   "source": [
    "s970.get_single_voltage(1)\n",
    "try:\n",
    "    print(s970.excq.get_nowait())\n",
    "    warnings.warn(\"EXCEPTION IN THREAD\")\n",
    "except:\n",
    "    #print \"No exceptions!\"\n",
    "    pass \n",
    "print(s970.lastvalues[1])"
   ]
  },
  {
   "cell_type": "code",
   "execution_count": null,
   "metadata": {
    "collapsed": true
   },
   "outputs": [],
   "source": [
    "mf.debug = True\n",
    "s922.debug = True\n",
    "mf.clear_virtual_queues()\n",
    "try:\n",
    "    with warnings.catch_warnings():\n",
    "        warnings.filterwarnings('error', category=Warning, module='SIM922.*')\n",
    "        s922.start_data_stream(1)\n",
    "        for i in range(1,200):        \n",
    "            #time.sleep(1)\n",
    "            #print(s922.newdataevent.isSet())\n",
    "            try:\n",
    "                print(s922.excq.get_nowait())\n",
    "                warnings.warn(\"EXCEPTION IN THREAD\")\n",
    "            except:\n",
    "                #print \"No exceptions!\"\n",
    "                pass \n",
    "            gotevent = s922.await_next_event(tm=1.5,clear_before=True,clear_after=False)\n",
    "            print(i)\n",
    "            try:\n",
    "                print(s922.excq.get_nowait())\n",
    "                warnings.warn(\"EXCEPTION IN THREAD\")\n",
    "            except:\n",
    "                #print \"No exceptions!\"\n",
    "                pass \n",
    "            if not gotevent:\n",
    "                print(\"BOOO\")\n",
    "                s922.stop_data_stream()\n",
    "                break            \n",
    "            if i%5 == 0:\n",
    "                clear_output()\n",
    "except Exception as e:\n",
    "    print(e)\n",
    "finally:\n",
    "    s922.stop_data_stream()\n",
    "    print(s922.lastvalues.keys())\n",
    "    print(s922.lastvalues.values())\n",
    "    print(s922.lastdatatimes.values())    "
   ]
  },
  {
   "cell_type": "code",
   "execution_count": null,
   "metadata": {
    "collapsed": true
   },
   "outputs": [],
   "source": [
    "print(s922.excq.get_nowait())"
   ]
  },
  {
   "cell_type": "code",
   "execution_count": null,
   "metadata": {
    "collapsed": true
   },
   "outputs": [],
   "source": [
    "mf.debug = True\n",
    "s921.debug = True\n",
    "mf.clear_virtual_queues()\n",
    "try:\n",
    "    with warnings.catch_warnings():\n",
    "        warnings.simplefilter('error')\n",
    "        s921.start_data_stream()\n",
    "        for i in range(1,2000):        \n",
    "            #time.sleep(1)\n",
    "            #print(s922.newdataevent.isSet())\n",
    "            try:\n",
    "                print(s921.excq.get_nowait())\n",
    "                warnings.warn(\"EXCEPTION IN THREAD\")\n",
    "            except:\n",
    "                #print \"No exceptions!\"\n",
    "                pass \n",
    "            gotevent = s921.await_next_event(tm=1.5,clear_before=True,clear_after=False)\n",
    "            print(i)\n",
    "            try:\n",
    "                print(s921.excq.get_nowait())\n",
    "                warnings.warn(\"EXCEPTION IN THREAD\")\n",
    "            except:\n",
    "                #print \"No exceptions!\"\n",
    "                pass \n",
    "            if not gotevent:\n",
    "                print(\"BOOO\")\n",
    "                s921.stop_data_stream()\n",
    "                break\n",
    "            \n",
    "            if i%5 == 0:\n",
    "                clear_output()\n",
    "except Exception as e:\n",
    "    print(e)\n",
    "finally:\n",
    "    s921.stop_data_stream()"
   ]
  },
  {
   "cell_type": "code",
   "execution_count": 5,
   "metadata": {},
   "outputs": [
    {
     "name": "stdout",
     "output_type": "stream",
     "text": [
      "OQADD (t:0): |'SNDT 7,\"VOLT? 1,0\"\\n'|\n",
      "SIM970 stream thread up\n",
      "OQSEND (t:0): |'SNDT 7,\"VOLT? 1,0\"\\n'|\n",
      "Read chars: |'MSG 7,#211 0.0'|\n",
      "Read chars: |'0'|\n",
      "Read chars: |'0'|\n",
      "Read chars: |'0037\\r\\n'|\n",
      "Resp split result: \n",
      "['MSG 7,#211 0.0000037\\r', '']\n",
      "Read single line: 'MSG 7,#211 0.0000037\\r'\n",
      "['MSG 7', '#211 0.0000037\\r']\n",
      "| 7 | 2 | 11 | 'MSG 7,#211 0.0000037\\r' | ' 0.0000037\\r' |\n",
      "GOT MSG -> S7:' 0.0000037'\n",
      "Got voltage: | 0.0000037|23:28:27.903487|\n",
      "1\n",
      "Read chars: |'MSG 7,#2'|\n",
      "Read chars: |'0'|\n",
      "Read chars: |'8 0.00000\\nMSG 7,#20337'|\n",
      "Resp split result: \n",
      "['MSG 7,#208 0.00000', 'MSG 7,#20337']\n",
      "Read multiline: 'MSG 7,#208 0.00000'\n",
      "Leftover response: 'MSG 7,#20337'\n",
      "Read chars: |'\\r'|\n",
      "['MSG 7', '#208 0.00000']\n",
      "| 7 | 2 | 8 | 'MSG 7,#208 0.00000' | ' 0.00000' |\n",
      "GOT MSG -> S7:' 0.00000'\n",
      "Read chars: |'\\n'|\n",
      "Resp split result: \n",
      "['MSG 7,#20337\\r', '']\n",
      "Read single line: 'MSG 7,#20337\\r'\n",
      "['MSG 7', '#20337\\r']\n",
      "| 7 | 2 | 3 | 'MSG 7,#20337\\r' | '37\\r' |\n",
      "GOT MSG -> S7:'37'\n",
      "Read chars: |'MSG 7,#208 0.0000'|\n",
      "Read chars: |'0\\nMSG 7,#20329\\r'|\n",
      "Resp split result: \n",
      "['MSG 7,#208 0.00000', 'MSG 7,#20329\\r']\n",
      "Read multiline: 'MSG 7,#208 0.00000'\n",
      "Leftover response: 'MSG 7,#20329\\r'\n",
      "['MSG 7', '#208 0.00000']\n",
      "| 7 | 2 | 8 | 'MSG 7,#208 0.00000' | ' 0.00000' |\n",
      "GOT MSG -> S7:' 0.00000'\n",
      "Read chars: |'\\n'|\n",
      "Resp split result: \n",
      "['MSG 7,#20329\\r', '']\n",
      "Read single line: 'MSG 7,#20329\\r'\n",
      "['MSG 7', '#20329\\r']\n",
      "| 7 | 2 | 3 | 'MSG 7,#20329\\r' | '29\\r' |\n",
      "GOT MSG -> S7:'29'\n",
      "Read chars: |'MSG 7'|\n",
      "Read chars: |','|\n",
      "Read chars: |'#'|\n",
      "Read chars: |'208 0.00000\\nMSG 7,#'|\n",
      "Resp split result: \n",
      "['MSG 7,#208 0.00000', 'MSG 7,#']\n",
      "Read multiline: 'MSG 7,#208 0.00000'\n",
      "Leftover response: 'MSG 7,#'\n",
      "Read chars: |'2'|\n",
      "['MSG 7', '#208 0.00000']\n",
      "| 7 | 2 | 8 | 'MSG 7,#208 0.00000' | ' 0.00000' |\n",
      "GOT MSG -> S7:' 0.00000'\n",
      "Read chars: |'0331\\r'|\n",
      "Read chars: |'\\n'|\n",
      "Resp split result: \n",
      "['MSG 7,#20331\\r', '']\n",
      "Read single line: 'MSG 7,#20331\\r'\n",
      "['MSG 7', '#20331\\r']\n",
      "| 7 | 2 | 3 | 'MSG 7,#20331\\r' | '31\\r' |\n",
      "GOT MSG -> S7:'31'\n",
      "Read chars: |'MSG 7,#208 0'|\n",
      "Read chars: |'.'|\n",
      "Read chars: |'0'|\n",
      "Read chars: |'0000\\nMSG 7,#20338\\r'|\n",
      "Resp split result: \n",
      "['MSG 7,#208 0.00000', 'MSG 7,#20338\\r']\n",
      "Read multiline: 'MSG 7,#208 0.00000'\n",
      "Leftover response: 'MSG 7,#20338\\r'\n",
      "['MSG 7', '#208 0.00000']\n",
      "| 7 | 2 | 8 | 'MSG 7,#208 0.00000' | ' 0.00000' |\n",
      "GOT MSG -> S7:' 0.00000'\n",
      "Read chars: |'\\n'|\n",
      "Resp split result: \n",
      "['MSG 7,#20338\\r', '']\n",
      "Read single line: 'MSG 7,#20338\\r'\n",
      "['MSG 7', '#20338\\r']\n",
      "| 7 | 2 | 3 | 'MSG 7,#20338\\r' | '38\\r' |\n",
      "GOT MSG -> S7:'38'\n",
      "2\n",
      "(<class 'UserWarning'>, UserWarning('SIM970 BAD LENGTH: | 0.00000|',), <traceback object at 0x6f34eb48>)\n",
      "OQSEND (t:0): |'SNDT 7,\"SOUT\"\\n'|BOOO\n",
      "\n",
      "OQADD (t:0): |'SNDT 7,\"SOUT\"\\n'|\n"
     ]
    },
    {
     "name": "stderr",
     "output_type": "stream",
     "text": [
      "/home/pi/Desktop/ADRNX/SRS/SIM_MOD_STREAMER.py:106: UserWarning: There is no streaming to stop!\n",
      "  warnings.warn(\"There is no streaming to stop!\")\n"
     ]
    }
   ],
   "source": [
    "mf.debug = True\n",
    "s970.debug = True\n",
    "mf.clear_virtual_queues()\n",
    "try:\n",
    "    with warnings.catch_warnings():\n",
    "        warnings.simplefilter('error')\n",
    "        s970.start_data_stream(1)\n",
    "        for i in range(1,2000):\n",
    "            #time.sleep(1)\n",
    "            try:\n",
    "                print(s970.excq.get_nowait())\n",
    "                warnings.warn(\"EXCEPTION IN THREAD\")\n",
    "            except:\n",
    "                #print \"No exceptions!\"\n",
    "                pass \n",
    "            gotevent = s970.await_next_event(tm=1.0,clear_before=True,clear_after=False)\n",
    "            print(i)\n",
    "            try:\n",
    "                print(s970.excq.get_nowait())\n",
    "                warnings.warn(\"EXCEPTION IN THREAD\")\n",
    "            except:\n",
    "                #print \"No exceptions!\"\n",
    "                pass \n",
    "            if not gotevent:\n",
    "                print(\"BOOO\")\n",
    "                s970.stop_data_stream()\n",
    "                break            \n",
    "            if i%10 == 0:\n",
    "                clear_output()\n",
    "except Exception as e:\n",
    "    print(e)\n",
    "finally:\n",
    "    s970.stop_data_stream()"
   ]
  },
  {
   "cell_type": "code",
   "execution_count": 4,
   "metadata": {},
   "outputs": [
    {
     "name": "stdout",
     "output_type": "stream",
     "text": [
      "OQADD (t:0): |'SNDT 7,\"*IDN?\"\\n'|\n",
      "OQSEND (t:0): |'SNDT 7,\"*IDN?\"\\n'|\n",
      "Read chars: |'MSG 7,#250St'|\n",
      "Read chars: |'anford_Research_Sys'|\n",
      "Read chars: |'tems,SIM970,s/n01563'|\n",
      "Read chars: |'5,ver2.2\\r'|\n",
      "Read chars: |'\\n'|\n",
      "Resp split result: \n",
      "['MSG 7,#250Stanford_Research_Systems,SIM970,s/n015635,ver2.2\\r', '']\n",
      "Read single line: 'MSG 7,#250Stanford_Research_Systems,SIM970,s/n015635,ver2.2\\r'\n",
      "['MSG 7', '#250Stanford_Research_Systems,SIM970,s/n015635,ver2.2\\r']\n",
      "| 7 | 2 | 50 | 'MSG 7,#250Stanford_Research_Systems,SIM970,s/n015635,ver2.2\\r' | 'Stanford_Research_Systems,SIM970,s/n015635,ver2.2\\r' |\n",
      "GOT MSG -> S7:'Stanford_Research_Systems,SIM970,s/n015635,ver2.2'\n",
      "My name is s970 (ID: Stanford_Research_Systems,SIM970,s/n015635,ver2.2)\n",
      "OQADD (t:0): |'SNDT 7,\"*STB?\"\\n'|\n",
      "OQSEND (t:0): |'SNDT 7,\"*STB?\"\\n'|\n",
      "Read chars: |'MSG 7,#20316\\r'|\n",
      "Read chars: |'\\n'|\n",
      "Resp split result: \n",
      "['MSG 7,#20316\\r', '']\n",
      "Read single line: 'MSG 7,#20316\\r'\n",
      "['MSG 7', '#20316\\r']\n",
      "| 7 | 2 | 3 | 'MSG 7,#20316\\r' | '16\\r' |\n",
      "GOT MSG -> S7:'16'\n",
      "Status is 0b10000\n",
      "OQADD (t:0): |'SNDT 7,\"TMOD?\"\\n'|\n",
      "OQSEND (t:0): |'SNDT 7,\"TMOD?\"\\n'|\n",
      "Read chars: |'MSG 7,#2020\\r'|\n",
      "Read chars: |'\\n'|\n",
      "Resp split result: \n",
      "['MSG 7,#2020\\r', '']\n",
      "Read single line: 'MSG 7,#2020\\r'\n",
      "['MSG 7', '#2020\\r']\n",
      "| 7 | 2 | 2 | 'MSG 7,#2020\\r' | '0\\r' |\n",
      "GOT MSG -> S7:'0'\n",
      "Trigger mode is     0 (LOCAL 0, EXTERNAL 1, REMOTE 2)\n",
      " Channel 1 settings:\n",
      "OQADD (t:0): |'SNDT 7,\"CHOP? 1\"\\n'|\n",
      "OQSEND (t:0): |'SNDT 7,\"CHOP? 1\"\\n'|\n",
      "Read chars: |'MSG 7,#20'|\n",
      "Read chars: |'21\\r\\n'|\n",
      "Resp split result: \n",
      "['MSG 7,#2021\\r', '']\n",
      "Read single line: 'MSG 7,#2021\\r'\n",
      "['MSG 7', '#2021\\r']\n",
      "| 7 | 2 | 2 | 'MSG 7,#2021\\r' | '1\\r' |\n",
      "GOT MSG -> S7:'1'\n",
      "  Autocal mode is     1 (NONE 0, GND 1, GNDREF4 2, or GNDREF3 3)\n",
      "OQADD (t:0): |'SNDT 7,\"AUTO? 1\"\\n'|\n",
      "OQSEND (t:0): |'SNDT 7,\"AUTO? 1\"\\n'|\n",
      "Read chars: |'MSG 7,#2'|\n",
      "Read chars: |'03'|\n",
      "Read chars: |'15\\r\\n'|\n",
      "Resp split result: \n",
      "['MSG 7,#20315\\r', '']\n",
      "Read single line: 'MSG 7,#20315\\r'\n",
      "['MSG 7', '#20315\\r']\n",
      "| 7 | 2 | 3 | 'MSG 7,#20315\\r' | '15\\r' |\n",
      "GOT MSG -> S7:'15'\n",
      "  Autorange mode is   15 (see manual)\n",
      "OQADD (t:0): |'SNDT 7,\"DVDR? 1\"\\n'|\n",
      "OQSEND (t:0): |'SNDT 7,\"DVDR? 1\"\\n'|\n",
      "Read chars: |'MSG 7,#2020'|\n",
      "Read chars: |'\\r\\n'|\n",
      "Resp split result: \n",
      "['MSG 7,#2020\\r', '']\n",
      "Read single line: 'MSG 7,#2020\\r'\n",
      "['MSG 7', '#2020\\r']\n",
      "| 7 | 2 | 2 | 'MSG 7,#2020\\r' | '0\\r' |\n",
      "GOT MSG -> S7:'0'\n",
      "  Attenuator mode is  0 (OFF 0, ON 1, or OUT 2)\n",
      "OQADD (t:0): |'SNDT 7,\"FLTR? 1\"\\n'|\n",
      "OQSEND (t:0): |'SNDT 7,\"FLTR? 1\"\\n'|\n",
      "Read chars: |'MSG 7,#2021\\r'|\n",
      "Read chars: |'\\n'|\n",
      "Resp split result: \n",
      "['MSG 7,#2021\\r', '']\n",
      "Read single line: 'MSG 7,#2021\\r'\n",
      "['MSG 7', '#2021\\r']\n",
      "  Filter mode is      1 (OFF 0, ON 1)| 7 | 2 | 2 | 'MSG 7,#2021\\r' | '1\\r' |\n",
      "\n",
      " Channel 2 settings:GOT MSG -> S7:'1'\n",
      "\n",
      "OQADD (t:0): |'SNDT 7,\"CHOP? 2\"\\n'|\n",
      "OQSEND (t:0): |'SNDT 7,\"CHOP? 2\"\\n'|\n",
      "Read chars: |'MSG 7,#2021\\r'|\n",
      "Read chars: |'\\n'|\n",
      "Resp split result: \n",
      "['MSG 7,#2021\\r', '']\n",
      "Read single line: 'MSG 7,#2021\\r'\n",
      "['MSG 7', '#2021\\r']\n",
      "| 7 | 2 | 2 | 'MSG 7,#2021\\r' | '1\\r' |  Autocal mode is     1 (NONE 0, GND 1, GNDREF4 2, or GNDREF3 3)\n",
      "\n",
      "GOT MSG -> S7:'1'OQADD (t:0): |'SNDT 7,\"AUTO? 2\"\\n'|\n",
      "\n",
      "OQSEND (t:0): |'SNDT 7,\"AUTO? 2\"\\n'|\n",
      "Read chars: |'MSG 7,#203'|\n",
      "Read chars: |'1'|\n",
      "Read chars: |'5\\r\\n'|\n",
      "Resp split result: \n",
      "['MSG 7,#20315\\r', '']\n",
      "Read single line: 'MSG 7,#20315\\r'\n",
      "['MSG 7', '#20315\\r']\n",
      "| 7 | 2 | 3 | 'MSG 7,#20315\\r' | '15\\r' |\n",
      "GOT MSG -> S7:'15'\n",
      "  Autorange mode is   15 (see manual)\n",
      "OQADD (t:0): |'SNDT 7,\"DVDR? 2\"\\n'|\n",
      "OQSEND (t:0): |'SNDT 7,\"DVDR? 2\"\\n'|\n",
      "Read chars: |'MSG 7,#2020\\r'|\n",
      "Read chars: |'\\n'|\n",
      "Resp split result: \n",
      "['MSG 7,#2020\\r', '']\n",
      "Read single line: 'MSG 7,#2020\\r'\n",
      "['MSG 7', '#2020\\r']\n",
      "| 7 | 2 | 2 | 'MSG 7,#2020\\r' | '0\\r' |\n",
      "GOT MSG -> S7:'0'\n",
      "  Attenuator mode is  0 (OFF 0, ON 1, or OUT 2)\n",
      "OQADD (t:0): |'SNDT 7,\"FLTR? 2\"\\n'|\n",
      "OQSEND (t:0): |'SNDT 7,\"FLTR? 2\"\\n'|\n",
      "Read chars: |'MSG 7,#2021\\r'|\n",
      "Read chars: |'\\n'|\n",
      "Resp split result: \n",
      "['MSG 7,#2021\\r', '']\n",
      "Read single line: 'MSG 7,#2021\\r'\n",
      "['MSG 7', '#2021\\r']\n",
      "| 7 | 2 | 2 | 'MSG 7,#2021\\r' | '1\\r' |\n",
      "GOT MSG -> S7:'1'\n",
      "  Filter mode is      1 (OFF 0, ON 1)\n",
      " Channel 3 settings:\n",
      "OQADD (t:0): |'SNDT 7,\"CHOP? 3\"\\n'|\n",
      "OQSEND (t:0): |'SNDT 7,\"CHOP? 3\"\\n'|\n",
      "Read chars: |'MSG 7,'|\n",
      "Read chars: |'#2021\\r\\n'|\n",
      "Resp split result: \n",
      "['MSG 7,#2021\\r', '']\n",
      "Read single line: 'MSG 7,#2021\\r'\n",
      "['MSG 7', '#2021\\r']\n",
      "| 7 | 2 | 2 | 'MSG 7,#2021\\r' | '1\\r' |\n",
      "GOT MSG -> S7:'1'\n",
      "  Autocal mode is     1 (NONE 0, GND 1, GNDREF4 2, or GNDREF3 3)\n",
      "OQADD (t:0): |'SNDT 7,\"AUTO? 3\"\\n'|\n",
      "OQSEND (t:0): |'SNDT 7,\"AUTO? 3\"\\n'|\n",
      "Read chars: |'MSG 7'|\n",
      "Read chars: |',#20315\\r'|\n",
      "Read chars: |'\\n'|\n",
      "Resp split result: \n",
      "['MSG 7,#20315\\r', '']\n",
      "Read single line: 'MSG 7,#20315\\r'\n",
      "['MSG 7', '#20315\\r']\n",
      "| 7 | 2 | 3 | 'MSG 7,#20315\\r' | '15\\r' |\n",
      "GOT MSG -> S7:'15'\n",
      "  Autorange mode is   15 (see manual)\n",
      "OQADD (t:0): |'SNDT 7,\"DVDR? 3\"\\n'|\n",
      "OQSEND (t:0): |'SNDT 7,\"DVDR? 3\"\\n'|\n",
      "Read chars: |'MSG 7,#2020\\r'|\n",
      "Read chars: |'\\n'|\n",
      "Resp split result: \n",
      "['MSG 7,#2020\\r', '']\n",
      "Read single line: 'MSG 7,#2020\\r'\n",
      "['MSG 7', '#2020\\r']\n",
      "| 7 | 2 | 2 | 'MSG 7,#2020\\r' | '0\\r' |\n",
      "GOT MSG -> S7:'0'\n",
      "  Attenuator mode is  0 (OFF 0, ON 1, or OUT 2)\n",
      "OQADD (t:0): |'SNDT 7,\"FLTR? 3\"\\n'|\n",
      "OQSEND (t:0): |'SNDT 7,\"FLTR? 3\"\\n'|\n",
      "Read chars: |'MSG 7,#'|\n",
      "Read chars: |'2'|\n",
      "Read chars: |'021\\r\\n'|\n",
      "Resp split result: \n",
      "['MSG 7,#2021\\r', '']\n",
      "Read single line: 'MSG 7,#2021\\r'\n",
      "['MSG 7', '#2021\\r']\n",
      "| 7 | 2 | 2 | 'MSG 7,#2021\\r' | '1\\r' |\n",
      "GOT MSG -> S7:'1'\n",
      "  Filter mode is      1 (OFF 0, ON 1)\n",
      " Channel 4 settings:\n",
      "OQADD (t:0): |'SNDT 7,\"CHOP? 4\"\\n'|\n",
      "OQSEND (t:0): |'SNDT 7,\"CHOP? 4\"\\n'|\n",
      "Read chars: |'MSG 7,#20'|\n",
      "Read chars: |'21\\r\\n'|\n",
      "Resp split result: \n",
      "['MSG 7,#2021\\r', '']\n",
      "Read single line: 'MSG 7,#2021\\r'\n",
      "['MSG 7', '#2021\\r']\n",
      "| 7 | 2 | 2 | 'MSG 7,#2021\\r' | '1\\r' |\n",
      "GOT MSG -> S7:'1'\n",
      "  Autocal mode is     1 (NONE 0, GND 1, GNDREF4 2, or GNDREF3 3)\n",
      "OQADD (t:0): |'SNDT 7,\"AUTO? 4\"\\n'|\n",
      "OQSEND (t:0): |'SNDT 7,\"AUTO? 4\"\\n'|\n",
      "Read chars: |'MSG 7,#2'|\n",
      "Read chars: |'0315\\r\\n'|\n",
      "Resp split result: \n",
      "['MSG 7,#20315\\r', '']\n",
      "Read single line: 'MSG 7,#20315\\r'\n",
      "['MSG 7', '#20315\\r']\n",
      "| 7 | 2 | 3 | 'MSG 7,#20315\\r' | '15\\r' |\n",
      "GOT MSG -> S7:'15'\n",
      "  Autorange mode is   15 (see manual)\n",
      "OQADD (t:0): |'SNDT 7,\"DVDR? 4\"\\n'|\n",
      "OQSEND (t:0): |'SNDT 7,\"DVDR? 4\"\\n'|\n",
      "Read chars: |'MSG 7,#2'|\n",
      "Read chars: |'020\\r\\n'|\n",
      "Resp split result: \n",
      "['MSG 7,#2020\\r', '']\n",
      "Read single line: 'MSG 7,#2020\\r'\n",
      "['MSG 7', '#2020\\r']\n",
      "| 7 | 2 | 2 | 'MSG 7,#2020\\r' | '0\\r' |\n",
      "GOT MSG -> S7:'0'\n",
      "  Attenuator mode is  0 (OFF 0, ON 1, or OUT 2)\n",
      "OQADD (t:0): |'SNDT 7,\"FLTR? 4\"\\n'|\n",
      "OQSEND (t:0): |'SNDT 7,\"FLTR? 4\"\\n'|\n",
      "Read chars: |'MSG 7,#2021'|\n",
      "Read chars: |'\\r\\n'|\n",
      "Resp split result: \n",
      "['MSG 7', '#2021\\r']['MSG 7,#2021\\r', '']\n",
      "\n",
      "| 7 | 2 | 2 | 'MSG 7,#2021\\r' | '1\\r' |Read single line: 'MSG 7,#2021\\r'\n",
      "\n",
      "GOT MSG -> S7:'1'\n",
      "  Filter mode is      1 (OFF 0, ON 1)\n"
     ]
    }
   ],
   "source": [
    "s970.tellastory()"
   ]
  },
  {
   "cell_type": "code",
   "execution_count": null,
   "metadata": {
    "collapsed": true
   },
   "outputs": [],
   "source": [
    "try:\n",
    "    with warnings.catch_warnings():\n",
    "        warnings.simplefilter('error')\n",
    "        s921.start_data_stream(); s922.start_data_stream(0); s970.start_data_stream(0)     \n",
    "        for i in range(1,50):        \n",
    "            gotevent = s921.await_next_event(tm=2.5,clear_before=True,clear_after=False)\n",
    "            gotevent2 = s922.await_next_event(tm=2.5,clear_before=True,clear_after=False)\n",
    "            gotevent3 = s970.await_next_event(tm=2.5,clear_before=True,clear_after=False)\n",
    "            print(i)\n",
    "            try:\n",
    "                print(s921.excq.get_nowait())\n",
    "                print(s922.excq.get_nowait())\n",
    "                print(s970.excq.get_nowait())\n",
    "                warnings.warn(\"EXCEPTION IN THREAD\")\n",
    "            except:\n",
    "                #print \"No exceptions!\"\n",
    "                pass \n",
    "            if not gotevent or not gotevent2 or not gotevent3:\n",
    "                print(\"BOOO\")\n",
    "                s921.stop_data_stream(); s922.stop_data_stream(); s970.stop_data_stream()\n",
    "                break\n",
    "            if i%4 == 0:\n",
    "                clear_output()\n",
    "except Exception as e:\n",
    "    print(e)\n",
    "finally:\n",
    "    s921.stop_data_stream(); s922.stop_data_stream(); s970.stop_data_stream()"
   ]
  },
  {
   "cell_type": "code",
   "execution_count": null,
   "metadata": {
    "collapsed": true
   },
   "outputs": [],
   "source": []
  },
  {
   "cell_type": "code",
   "execution_count": null,
   "metadata": {
    "collapsed": true
   },
   "outputs": [],
   "source": []
  },
  {
   "cell_type": "code",
   "execution_count": null,
   "metadata": {
    "collapsed": true
   },
   "outputs": [],
   "source": [
    "with warnings.catch_warnings():\n",
    "    #warnings.simplefilter('error')\n",
    "    for i in range(1,2):\n",
    "        mf.process_cmd_no_resp('SEND 6,\"TVAL? 0,1\\n\"')\n",
    "        time.sleep(3)\n",
    "        if i%5 == 0:\n",
    "            clear_output()\n",
    "        try:\n",
    "            print(s922.excq.get_nowait())\n",
    "            warnings.warn(\"EXCEPTION IN THREAD\")\n",
    "        except:\n",
    "            #print \"No exceptions!\"\n",
    "            pass \n",
    "mf.clear_virtual_queues()"
   ]
  },
  {
   "cell_type": "code",
   "execution_count": null,
   "metadata": {
    "collapsed": true
   },
   "outputs": [],
   "source": [
    "s970.stop_data_stream()"
   ]
  },
  {
   "cell_type": "code",
   "execution_count": null,
   "metadata": {
    "collapsed": true
   },
   "outputs": [],
   "source": [
    "print mf.process_cmd_with_resp('SEND 6,\"TERM 0\\n\"')"
   ]
  },
  {
   "cell_type": "code",
   "execution_count": null,
   "metadata": {
    "collapsed": true
   },
   "outputs": [],
   "source": [
    "print mf.process_cmd_with_resp('SEND 1,\"TVAL? 1\\n\"')"
   ]
  },
  {
   "cell_type": "code",
   "execution_count": null,
   "metadata": {
    "collapsed": true
   },
   "outputs": [],
   "source": [
    "print mf.process_cmd_with_resp('SEND 1,\"*IDN?\\n\"')"
   ]
  },
  {
   "cell_type": "code",
   "execution_count": null,
   "metadata": {
    "collapsed": true
   },
   "outputs": [],
   "source": [
    "print mf.process_cmd_with_resp('SEND 6,\"SOUT\\n\"')"
   ]
  },
  {
   "cell_type": "code",
   "execution_count": null,
   "metadata": {
    "collapsed": true
   },
   "outputs": [],
   "source": [
    "print mf.process_cmd_with_resp('TERM D,LF\\n')\n",
    "print mf.process_cmd_with_resp('MSGL 128\\n')"
   ]
  },
  {
   "cell_type": "code",
   "execution_count": null,
   "metadata": {
    "collapsed": true
   },
   "outputs": [],
   "source": [
    "mf.get_serial_object().write('SRST 6\\n')\n",
    "mf.get_serial_object().write('AINP? 6\\n')\n",
    "mf.get_serial_object().write('AOUT? 6\\n')"
   ]
  },
  {
   "cell_type": "code",
   "execution_count": null,
   "metadata": {
    "collapsed": true
   },
   "outputs": [],
   "source": [
    "mf.get_serial_object().write('SRST 1\\n')"
   ]
  },
  {
   "cell_type": "code",
   "execution_count": null,
   "metadata": {
    "collapsed": true
   },
   "outputs": [],
   "source": [
    "mf.get_serial_object().write('RPER 66\\n')"
   ]
  },
  {
   "cell_type": "code",
   "execution_count": null,
   "metadata": {
    "collapsed": true
   },
   "outputs": [],
   "source": [
    "mf.get_serial_object().write('*IDN?\\n')"
   ]
  },
  {
   "cell_type": "code",
   "execution_count": null,
   "metadata": {
    "collapsed": true
   },
   "outputs": [],
   "source": [
    "mf.get_serial_object().read(1024)"
   ]
  },
  {
   "cell_type": "code",
   "execution_count": null,
   "metadata": {
    "collapsed": true
   },
   "outputs": [],
   "source": [
    "mfc.debug = True\n",
    "s922.dbg = True\n",
    "s922.start_data_stream(0)\n",
    "i = 0\n",
    "try:\n",
    "    while timer() - s < (24*60*60):\n",
    "        s922.newdataevent.clear()\n",
    "        s922.newdataevent.wait(5)\n",
    "        s922.newdataevent.clear()\n",
    "        temp = s922.lastvalues\n",
    "        tm = s922.lastdatatimes\n",
    "                   \n",
    "        sys.stdout.flush()\n",
    "        sys.stderr.flush()\n",
    "        try:\n",
    "            print s922.excq.get_nowait()\n",
    "            print \"OOPS!\"\n",
    "        except:\n",
    "            #print \"No exceptions!\"\n",
    "            pass                \n",
    "        #print(\"|{:5d}|{:s}|{:8f}\".format(i,temp,tm[0]))\n",
    "        print('{} {:10f} {:f} {:f} {:f} {}'.format(i,temp[0],temp[1],temp[2],temp[3],tm[0]))\n",
    "        #fl.write('{} {} {}'.format(i,temp,tm[0]))\n",
    "        temps.append(list(temp));\n",
    "        times.append(list(tm));\n",
    "        i+=1\n",
    "        time.sleep(5)\n",
    "except Exception as e:\n",
    "    print e\n",
    "finally:\n",
    "    s922.stop_data_stream()\n",
    "    s922.flush_queue()\n",
    "    fl.close()"
   ]
  },
  {
   "cell_type": "code",
   "execution_count": 7,
   "metadata": {},
   "outputs": [
    {
     "name": "stdout",
     "output_type": "stream",
     "text": [
      "Output loop stopping after next iteration\n",
      "Input loop stopping after next iteration\n"
     ]
    }
   ],
   "source": [
    "mf.stop_comm_threads()"
   ]
  },
  {
   "cell_type": "code",
   "execution_count": null,
   "metadata": {
    "collapsed": true
   },
   "outputs": [],
   "source": []
  }
 ],
 "metadata": {
  "kernelspec": {
   "display_name": "Python 3",
   "language": "python",
   "name": "python3"
  },
  "language_info": {
   "codemirror_mode": {
    "name": "ipython",
    "version": 3
   },
   "file_extension": ".py",
   "mimetype": "text/x-python",
   "name": "python",
   "nbconvert_exporter": "python",
   "pygments_lexer": "ipython3",
   "version": "3.4.2"
  }
 },
 "nbformat": 4,
 "nbformat_minor": 2
}
